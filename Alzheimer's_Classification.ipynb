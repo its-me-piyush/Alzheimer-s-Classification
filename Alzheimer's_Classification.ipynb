{
  "nbformat": 4,
  "nbformat_minor": 0,
  "metadata": {
    "colab": {
      "provenance": [],
      "include_colab_link": true
    },
    "kernelspec": {
      "name": "python3",
      "display_name": "Python 3"
    },
    "language_info": {
      "name": "python"
    },
    "gpuClass": "standard",
    "accelerator": "GPU"
  },
  "cells": [
    {
      "cell_type": "markdown",
      "metadata": {
        "id": "view-in-github",
        "colab_type": "text"
      },
      "source": [
        "<a href=\"https://colab.research.google.com/github/its-me-piyush/Alzheimer-s-Classification/blob/main/Alzheimer's_Classification.ipynb\" target=\"_parent\"><img src=\"https://colab.research.google.com/assets/colab-badge.svg\" alt=\"Open In Colab\"/></a>"
      ]
    },
    {
      "cell_type": "markdown",
      "source": [
        "# Models\n",
        "- Inception v3\n",
        "- VGG\n",
        "- SVM\n",
        "- Custom CNN\n"
      ],
      "metadata": {
        "id": "FW_mxZwnnpY1"
      }
    },
    {
      "cell_type": "code",
      "execution_count": null,
      "metadata": {
        "colab": {
          "base_uri": "https://localhost:8080/"
        },
        "id": "zgWT_BUinn8k",
        "outputId": "1dc4a218-923f-4b3f-ad80-3f07ca738472"
      },
      "outputs": [
        {
          "output_type": "stream",
          "name": "stdout",
          "text": [
            "Mounted at /content/drive\n"
          ]
        }
      ],
      "source": [
        "from google.colab import drive\n",
        "drive.mount('/content/drive')"
      ]
    },
    {
      "cell_type": "code",
      "source": [
        "import os\n",
        "# os.listdir(\"Alzheimer_s Dataset/train/MildDemented\")"
      ],
      "metadata": {
        "id": "0reWOTHgn2_X"
      },
      "execution_count": null,
      "outputs": []
    },
    {
      "cell_type": "code",
      "source": [
        "!unzip -q /content/drive/MyDrive/Alzheimers_Mri_Segmentation/archive.zip"
      ],
      "metadata": {
        "id": "BITU2maun4X3"
      },
      "execution_count": null,
      "outputs": []
    },
    {
      "cell_type": "code",
      "source": [
        "# from keras.preprocessing.image import ImageDataGenerator\n",
        "from keras.regularizers import l2"
      ],
      "metadata": {
        "id": "flTU-7XNn5g2"
      },
      "execution_count": null,
      "outputs": []
    },
    {
      "cell_type": "markdown",
      "source": [
        "# new data processing with one hot encoder"
      ],
      "metadata": {
        "id": "cKtJSdAZ3vIn"
      }
    },
    {
      "cell_type": "code",
      "source": [
        "# new data processing with one hot encoder"
      ],
      "metadata": {
        "id": "j4yheBMO3l5U"
      },
      "execution_count": null,
      "outputs": []
    },
    {
      "cell_type": "code",
      "source": [
        "labels = os.listdir(\"Alzheimer_s Dataset/train\")\n",
        "labels"
      ],
      "metadata": {
        "id": "Mew2NIt93l2h",
        "colab": {
          "base_uri": "https://localhost:8080/"
        },
        "outputId": "8e2b09e2-c13a-4552-cc63-46bed155799c"
      },
      "execution_count": null,
      "outputs": [
        {
          "output_type": "execute_result",
          "data": {
            "text/plain": [
              "['NonDemented', 'ModerateDemented', 'VeryMildDemented', 'MildDemented']"
            ]
          },
          "metadata": {},
          "execution_count": 7
        }
      ]
    },
    {
      "cell_type": "code",
      "source": [
        "commonList = []\n",
        "for i in labels:\n",
        "  for j in os.listdir(f\"Alzheimer_s Dataset/train/{i}\"):\n",
        "    commonList.append((i, 'Alzheimer_s Dataset/train/'+i+'/'+j))\n",
        "commonList[0] # verymildDem, nonDem, mildDem, moderateDem"
      ],
      "metadata": {
        "id": "japZ6xnt3lxP",
        "colab": {
          "base_uri": "https://localhost:8080/"
        },
        "outputId": "0eda8e00-3cc1-4b89-fb57-e075345bb405"
      },
      "execution_count": null,
      "outputs": [
        {
          "output_type": "execute_result",
          "data": {
            "text/plain": [
              "('NonDemented', 'Alzheimer_s Dataset/train/NonDemented/nonDem1501.jpg')"
            ]
          },
          "metadata": {},
          "execution_count": 25
        }
      ]
    },
    {
      "cell_type": "code",
      "source": [
        "commonTestList = []\n",
        "for i in labels:\n",
        "  for j in os.listdir(f\"Alzheimer_s Dataset/test/{i}\"):\n",
        "    commonTestList.append((i, 'Alzheimer_s Dataset/test/'+i+'/'+j))\n",
        "len(commonTestList) # verymildDem, nonDem, mildDem, moderateDem"
      ],
      "metadata": {
        "id": "SUbqqHFeZpZ9",
        "colab": {
          "base_uri": "https://localhost:8080/"
        },
        "outputId": "59235af6-e7f6-4dff-c47a-cc57e1636b6a"
      },
      "execution_count": null,
      "outputs": [
        {
          "output_type": "execute_result",
          "data": {
            "text/plain": [
              "1279"
            ]
          },
          "metadata": {},
          "execution_count": 26
        }
      ]
    },
    {
      "cell_type": "code",
      "source": [
        "commonTestList[0]"
      ],
      "metadata": {
        "id": "xtaUNC7tbOvk",
        "colab": {
          "base_uri": "https://localhost:8080/"
        },
        "outputId": "22c1fff6-d530-4b50-b961-39e4486f3fe0"
      },
      "execution_count": null,
      "outputs": [
        {
          "output_type": "execute_result",
          "data": {
            "text/plain": [
              "('NonDemented', 'Alzheimer_s Dataset/test/NonDemented/32 (70).jpg')"
            ]
          },
          "metadata": {},
          "execution_count": 27
        }
      ]
    },
    {
      "cell_type": "code",
      "source": [
        "# import re\n",
        "# # commonList[0].split(\".\")[0].split(\"[a-zA-Z]+\")\n",
        "# finalTrainList = []\n",
        "# for i in commonList:\n",
        "#   n = \" \".join(re.findall(\"[a-zA-Z]+\", i.split(\".\")[0]))\n",
        "#   finalTrainList.append((n, i))\n",
        "# finalTrainList[0]"
      ],
      "metadata": {
        "id": "95Iur1EN3ltf"
      },
      "execution_count": null,
      "outputs": []
    },
    {
      "cell_type": "code",
      "source": [],
      "metadata": {
        "id": "jh0MNnMebBtu"
      },
      "execution_count": null,
      "outputs": []
    },
    {
      "cell_type": "code",
      "source": [
        "import pandas as pd\n",
        "\n",
        "train_df = pd.DataFrame(commonList, columns=['Type', 'Path'])\n",
        "train_df.replace('VeryMildDemented', 'alzheimer', inplace=True)\n",
        "train_df.replace('NonDemented', 'nonAlzheimer', inplace=True)\n",
        "train_df.replace('ModerateDemented', 'alzheimer', inplace=True)\n",
        "train_df.replace('MildDemented', 'alzheimer', inplace=True)\n",
        "train_df.head()"
      ],
      "metadata": {
        "id": "khjv5g2Gae5b",
        "colab": {
          "base_uri": "https://localhost:8080/",
          "height": 206
        },
        "outputId": "df10e8ac-b702-475e-ac1c-6e4b9d93fc70"
      },
      "execution_count": null,
      "outputs": [
        {
          "output_type": "execute_result",
          "data": {
            "text/plain": [
              "           Type                                               Path\n",
              "0  nonAlzheimer  Alzheimer_s Dataset/train/NonDemented/nonDem15...\n",
              "1  nonAlzheimer  Alzheimer_s Dataset/train/NonDemented/nonDem54...\n",
              "2  nonAlzheimer  Alzheimer_s Dataset/train/NonDemented/nonDem14...\n",
              "3  nonAlzheimer  Alzheimer_s Dataset/train/NonDemented/nonDem16...\n",
              "4  nonAlzheimer  Alzheimer_s Dataset/train/NonDemented/nonDem23..."
            ],
            "text/html": [
              "\n",
              "  <div id=\"df-b5ab1b07-16c6-444f-896c-ad77aea29060\">\n",
              "    <div class=\"colab-df-container\">\n",
              "      <div>\n",
              "<style scoped>\n",
              "    .dataframe tbody tr th:only-of-type {\n",
              "        vertical-align: middle;\n",
              "    }\n",
              "\n",
              "    .dataframe tbody tr th {\n",
              "        vertical-align: top;\n",
              "    }\n",
              "\n",
              "    .dataframe thead th {\n",
              "        text-align: right;\n",
              "    }\n",
              "</style>\n",
              "<table border=\"1\" class=\"dataframe\">\n",
              "  <thead>\n",
              "    <tr style=\"text-align: right;\">\n",
              "      <th></th>\n",
              "      <th>Type</th>\n",
              "      <th>Path</th>\n",
              "    </tr>\n",
              "  </thead>\n",
              "  <tbody>\n",
              "    <tr>\n",
              "      <th>0</th>\n",
              "      <td>nonAlzheimer</td>\n",
              "      <td>Alzheimer_s Dataset/train/NonDemented/nonDem15...</td>\n",
              "    </tr>\n",
              "    <tr>\n",
              "      <th>1</th>\n",
              "      <td>nonAlzheimer</td>\n",
              "      <td>Alzheimer_s Dataset/train/NonDemented/nonDem54...</td>\n",
              "    </tr>\n",
              "    <tr>\n",
              "      <th>2</th>\n",
              "      <td>nonAlzheimer</td>\n",
              "      <td>Alzheimer_s Dataset/train/NonDemented/nonDem14...</td>\n",
              "    </tr>\n",
              "    <tr>\n",
              "      <th>3</th>\n",
              "      <td>nonAlzheimer</td>\n",
              "      <td>Alzheimer_s Dataset/train/NonDemented/nonDem16...</td>\n",
              "    </tr>\n",
              "    <tr>\n",
              "      <th>4</th>\n",
              "      <td>nonAlzheimer</td>\n",
              "      <td>Alzheimer_s Dataset/train/NonDemented/nonDem23...</td>\n",
              "    </tr>\n",
              "  </tbody>\n",
              "</table>\n",
              "</div>\n",
              "      <button class=\"colab-df-convert\" onclick=\"convertToInteractive('df-b5ab1b07-16c6-444f-896c-ad77aea29060')\"\n",
              "              title=\"Convert this dataframe to an interactive table.\"\n",
              "              style=\"display:none;\">\n",
              "        \n",
              "  <svg xmlns=\"http://www.w3.org/2000/svg\" height=\"24px\"viewBox=\"0 0 24 24\"\n",
              "       width=\"24px\">\n",
              "    <path d=\"M0 0h24v24H0V0z\" fill=\"none\"/>\n",
              "    <path d=\"M18.56 5.44l.94 2.06.94-2.06 2.06-.94-2.06-.94-.94-2.06-.94 2.06-2.06.94zm-11 1L8.5 8.5l.94-2.06 2.06-.94-2.06-.94L8.5 2.5l-.94 2.06-2.06.94zm10 10l.94 2.06.94-2.06 2.06-.94-2.06-.94-.94-2.06-.94 2.06-2.06.94z\"/><path d=\"M17.41 7.96l-1.37-1.37c-.4-.4-.92-.59-1.43-.59-.52 0-1.04.2-1.43.59L10.3 9.45l-7.72 7.72c-.78.78-.78 2.05 0 2.83L4 21.41c.39.39.9.59 1.41.59.51 0 1.02-.2 1.41-.59l7.78-7.78 2.81-2.81c.8-.78.8-2.07 0-2.86zM5.41 20L4 18.59l7.72-7.72 1.47 1.35L5.41 20z\"/>\n",
              "  </svg>\n",
              "      </button>\n",
              "      \n",
              "  <style>\n",
              "    .colab-df-container {\n",
              "      display:flex;\n",
              "      flex-wrap:wrap;\n",
              "      gap: 12px;\n",
              "    }\n",
              "\n",
              "    .colab-df-convert {\n",
              "      background-color: #E8F0FE;\n",
              "      border: none;\n",
              "      border-radius: 50%;\n",
              "      cursor: pointer;\n",
              "      display: none;\n",
              "      fill: #1967D2;\n",
              "      height: 32px;\n",
              "      padding: 0 0 0 0;\n",
              "      width: 32px;\n",
              "    }\n",
              "\n",
              "    .colab-df-convert:hover {\n",
              "      background-color: #E2EBFA;\n",
              "      box-shadow: 0px 1px 2px rgba(60, 64, 67, 0.3), 0px 1px 3px 1px rgba(60, 64, 67, 0.15);\n",
              "      fill: #174EA6;\n",
              "    }\n",
              "\n",
              "    [theme=dark] .colab-df-convert {\n",
              "      background-color: #3B4455;\n",
              "      fill: #D2E3FC;\n",
              "    }\n",
              "\n",
              "    [theme=dark] .colab-df-convert:hover {\n",
              "      background-color: #434B5C;\n",
              "      box-shadow: 0px 1px 3px 1px rgba(0, 0, 0, 0.15);\n",
              "      filter: drop-shadow(0px 1px 2px rgba(0, 0, 0, 0.3));\n",
              "      fill: #FFFFFF;\n",
              "    }\n",
              "  </style>\n",
              "\n",
              "      <script>\n",
              "        const buttonEl =\n",
              "          document.querySelector('#df-b5ab1b07-16c6-444f-896c-ad77aea29060 button.colab-df-convert');\n",
              "        buttonEl.style.display =\n",
              "          google.colab.kernel.accessAllowed ? 'block' : 'none';\n",
              "\n",
              "        async function convertToInteractive(key) {\n",
              "          const element = document.querySelector('#df-b5ab1b07-16c6-444f-896c-ad77aea29060');\n",
              "          const dataTable =\n",
              "            await google.colab.kernel.invokeFunction('convertToInteractive',\n",
              "                                                     [key], {});\n",
              "          if (!dataTable) return;\n",
              "\n",
              "          const docLinkHtml = 'Like what you see? Visit the ' +\n",
              "            '<a target=\"_blank\" href=https://colab.research.google.com/notebooks/data_table.ipynb>data table notebook</a>'\n",
              "            + ' to learn more about interactive tables.';\n",
              "          element.innerHTML = '';\n",
              "          dataTable['output_type'] = 'display_data';\n",
              "          await google.colab.output.renderOutput(dataTable, element);\n",
              "          const docLink = document.createElement('div');\n",
              "          docLink.innerHTML = docLinkHtml;\n",
              "          element.appendChild(docLink);\n",
              "        }\n",
              "      </script>\n",
              "    </div>\n",
              "  </div>\n",
              "  "
            ]
          },
          "metadata": {},
          "execution_count": 29
        }
      ]
    },
    {
      "cell_type": "code",
      "source": [
        " # verymildDem, nonDem, mildDem, moderateDem\n",
        "\n",
        "test_df = pd.DataFrame(commonTestList, columns=['Type', 'Path'])\n",
        "test_df.replace('VeryMildDemented', 'alzheimer', inplace=True)\n",
        "test_df.replace('NonDemented', 'nonAlzheimer', inplace=True)\n",
        "test_df.replace('ModerateDemented', 'alzheimer', inplace=True)\n",
        "test_df.replace('MildDemented', 'alzheimer', inplace=True)\n",
        "test_df.head()"
      ],
      "metadata": {
        "id": "hlq0xNzRa2N6",
        "colab": {
          "base_uri": "https://localhost:8080/",
          "height": 206
        },
        "outputId": "85986c86-37b4-4ea9-e0c5-d69909422994"
      },
      "execution_count": null,
      "outputs": [
        {
          "output_type": "execute_result",
          "data": {
            "text/plain": [
              "           Type                                              Path\n",
              "0  nonAlzheimer  Alzheimer_s Dataset/test/NonDemented/32 (70).jpg\n",
              "1  nonAlzheimer  Alzheimer_s Dataset/test/NonDemented/31 (46).jpg\n",
              "2  nonAlzheimer  Alzheimer_s Dataset/test/NonDemented/27 (68).jpg\n",
              "3  nonAlzheimer  Alzheimer_s Dataset/test/NonDemented/31 (72).jpg\n",
              "4  nonAlzheimer  Alzheimer_s Dataset/test/NonDemented/32 (53).jpg"
            ],
            "text/html": [
              "\n",
              "  <div id=\"df-7f4f5253-8d07-4d9f-a8fa-ce6d90cb8485\">\n",
              "    <div class=\"colab-df-container\">\n",
              "      <div>\n",
              "<style scoped>\n",
              "    .dataframe tbody tr th:only-of-type {\n",
              "        vertical-align: middle;\n",
              "    }\n",
              "\n",
              "    .dataframe tbody tr th {\n",
              "        vertical-align: top;\n",
              "    }\n",
              "\n",
              "    .dataframe thead th {\n",
              "        text-align: right;\n",
              "    }\n",
              "</style>\n",
              "<table border=\"1\" class=\"dataframe\">\n",
              "  <thead>\n",
              "    <tr style=\"text-align: right;\">\n",
              "      <th></th>\n",
              "      <th>Type</th>\n",
              "      <th>Path</th>\n",
              "    </tr>\n",
              "  </thead>\n",
              "  <tbody>\n",
              "    <tr>\n",
              "      <th>0</th>\n",
              "      <td>nonAlzheimer</td>\n",
              "      <td>Alzheimer_s Dataset/test/NonDemented/32 (70).jpg</td>\n",
              "    </tr>\n",
              "    <tr>\n",
              "      <th>1</th>\n",
              "      <td>nonAlzheimer</td>\n",
              "      <td>Alzheimer_s Dataset/test/NonDemented/31 (46).jpg</td>\n",
              "    </tr>\n",
              "    <tr>\n",
              "      <th>2</th>\n",
              "      <td>nonAlzheimer</td>\n",
              "      <td>Alzheimer_s Dataset/test/NonDemented/27 (68).jpg</td>\n",
              "    </tr>\n",
              "    <tr>\n",
              "      <th>3</th>\n",
              "      <td>nonAlzheimer</td>\n",
              "      <td>Alzheimer_s Dataset/test/NonDemented/31 (72).jpg</td>\n",
              "    </tr>\n",
              "    <tr>\n",
              "      <th>4</th>\n",
              "      <td>nonAlzheimer</td>\n",
              "      <td>Alzheimer_s Dataset/test/NonDemented/32 (53).jpg</td>\n",
              "    </tr>\n",
              "  </tbody>\n",
              "</table>\n",
              "</div>\n",
              "      <button class=\"colab-df-convert\" onclick=\"convertToInteractive('df-7f4f5253-8d07-4d9f-a8fa-ce6d90cb8485')\"\n",
              "              title=\"Convert this dataframe to an interactive table.\"\n",
              "              style=\"display:none;\">\n",
              "        \n",
              "  <svg xmlns=\"http://www.w3.org/2000/svg\" height=\"24px\"viewBox=\"0 0 24 24\"\n",
              "       width=\"24px\">\n",
              "    <path d=\"M0 0h24v24H0V0z\" fill=\"none\"/>\n",
              "    <path d=\"M18.56 5.44l.94 2.06.94-2.06 2.06-.94-2.06-.94-.94-2.06-.94 2.06-2.06.94zm-11 1L8.5 8.5l.94-2.06 2.06-.94-2.06-.94L8.5 2.5l-.94 2.06-2.06.94zm10 10l.94 2.06.94-2.06 2.06-.94-2.06-.94-.94-2.06-.94 2.06-2.06.94z\"/><path d=\"M17.41 7.96l-1.37-1.37c-.4-.4-.92-.59-1.43-.59-.52 0-1.04.2-1.43.59L10.3 9.45l-7.72 7.72c-.78.78-.78 2.05 0 2.83L4 21.41c.39.39.9.59 1.41.59.51 0 1.02-.2 1.41-.59l7.78-7.78 2.81-2.81c.8-.78.8-2.07 0-2.86zM5.41 20L4 18.59l7.72-7.72 1.47 1.35L5.41 20z\"/>\n",
              "  </svg>\n",
              "      </button>\n",
              "      \n",
              "  <style>\n",
              "    .colab-df-container {\n",
              "      display:flex;\n",
              "      flex-wrap:wrap;\n",
              "      gap: 12px;\n",
              "    }\n",
              "\n",
              "    .colab-df-convert {\n",
              "      background-color: #E8F0FE;\n",
              "      border: none;\n",
              "      border-radius: 50%;\n",
              "      cursor: pointer;\n",
              "      display: none;\n",
              "      fill: #1967D2;\n",
              "      height: 32px;\n",
              "      padding: 0 0 0 0;\n",
              "      width: 32px;\n",
              "    }\n",
              "\n",
              "    .colab-df-convert:hover {\n",
              "      background-color: #E2EBFA;\n",
              "      box-shadow: 0px 1px 2px rgba(60, 64, 67, 0.3), 0px 1px 3px 1px rgba(60, 64, 67, 0.15);\n",
              "      fill: #174EA6;\n",
              "    }\n",
              "\n",
              "    [theme=dark] .colab-df-convert {\n",
              "      background-color: #3B4455;\n",
              "      fill: #D2E3FC;\n",
              "    }\n",
              "\n",
              "    [theme=dark] .colab-df-convert:hover {\n",
              "      background-color: #434B5C;\n",
              "      box-shadow: 0px 1px 3px 1px rgba(0, 0, 0, 0.15);\n",
              "      filter: drop-shadow(0px 1px 2px rgba(0, 0, 0, 0.3));\n",
              "      fill: #FFFFFF;\n",
              "    }\n",
              "  </style>\n",
              "\n",
              "      <script>\n",
              "        const buttonEl =\n",
              "          document.querySelector('#df-7f4f5253-8d07-4d9f-a8fa-ce6d90cb8485 button.colab-df-convert');\n",
              "        buttonEl.style.display =\n",
              "          google.colab.kernel.accessAllowed ? 'block' : 'none';\n",
              "\n",
              "        async function convertToInteractive(key) {\n",
              "          const element = document.querySelector('#df-7f4f5253-8d07-4d9f-a8fa-ce6d90cb8485');\n",
              "          const dataTable =\n",
              "            await google.colab.kernel.invokeFunction('convertToInteractive',\n",
              "                                                     [key], {});\n",
              "          if (!dataTable) return;\n",
              "\n",
              "          const docLinkHtml = 'Like what you see? Visit the ' +\n",
              "            '<a target=\"_blank\" href=https://colab.research.google.com/notebooks/data_table.ipynb>data table notebook</a>'\n",
              "            + ' to learn more about interactive tables.';\n",
              "          element.innerHTML = '';\n",
              "          dataTable['output_type'] = 'display_data';\n",
              "          await google.colab.output.renderOutput(dataTable, element);\n",
              "          const docLink = document.createElement('div');\n",
              "          docLink.innerHTML = docLinkHtml;\n",
              "          element.appendChild(docLink);\n",
              "        }\n",
              "      </script>\n",
              "    </div>\n",
              "  </div>\n",
              "  "
            ]
          },
          "metadata": {},
          "execution_count": 30
        }
      ]
    },
    {
      "cell_type": "code",
      "source": [
        "# test_df.to_csv(\"drive/My Drive/Alzheimers_Mri_Segmentation/dataFrames/test.csv\")\n",
        "# train_df.to_csv(\"drive/My Drive/Alzheimers_Mri_Segmentation/dataFrames/train.csv\")\n"
      ],
      "metadata": {
        "id": "yb1BuEZka2Ko"
      },
      "execution_count": null,
      "outputs": []
    },
    {
      "cell_type": "code",
      "source": [],
      "metadata": {
        "id": "jVxnb9r8a2Hy"
      },
      "execution_count": null,
      "outputs": []
    },
    {
      "cell_type": "code",
      "source": [
        "# train_datagen = ImageDataGenerator(rescale = 1./256,                                  \n",
        "#         rotation_range=10,\n",
        "#         width_shift_range=0.2,\n",
        "#         height_shift_range=0.2,\n",
        "#         shear_range=0.2,\n",
        "#         zoom_range=0.2,\n",
        "#         horizontal_flip=True,\n",
        "#         vertical_flip=True,\n",
        "#         fill_mode='nearest')\n",
        "\n",
        "# valid_datagen = ImageDataGenerator(rescale = 1./256,\n",
        "#                                   validation_split = 0.2)\n",
        "\n",
        "# test_datagen  = ImageDataGenerator(rescale = 1./256\n",
        "#                                   )"
      ],
      "metadata": {
        "id": "qOsK8qvqolWA"
      },
      "execution_count": null,
      "outputs": []
    },
    {
      "cell_type": "code",
      "source": [
        "# train_dataset  = train_datagen.flow_from_directory(directory = 'Alzheimer_s Dataset/train',\n",
        "#                                                    target_size = (256,256),\n",
        "#                                                    class_mode = 'categorical')"
      ],
      "metadata": {
        "id": "Glv0Etc1ovaj"
      },
      "execution_count": null,
      "outputs": []
    },
    {
      "cell_type": "code",
      "source": [
        "# train_data, train_labels = train_dataset.next()"
      ],
      "metadata": {
        "id": "8wu43izg2VsL"
      },
      "execution_count": null,
      "outputs": []
    },
    {
      "cell_type": "code",
      "source": [
        "# train_data.shape"
      ],
      "metadata": {
        "id": "4cjm8HAj2auw"
      },
      "execution_count": null,
      "outputs": []
    },
    {
      "cell_type": "code",
      "source": [
        "# valid_dataset = valid_datagen.flow_from_directory(directory = 'Alzheimer_s Dataset/train',\n",
        "#                                                   target_size = (256,256),\n",
        "#                                                   class_mode = 'categorical',\n",
        "#                                                   subset = 'validation',\n",
        "#                                                   batch_size = 32)"
      ],
      "metadata": {
        "id": "cLFq3OPCo_GM"
      },
      "execution_count": null,
      "outputs": []
    },
    {
      "cell_type": "code",
      "source": [
        "# test_dataset = test_datagen.flow_from_directory(directory = 'Alzheimer_s Dataset/test',\n",
        "#                                                   target_size = (256,256),\n",
        "#                                                   class_mode = 'categorical',\n",
        "#                                                   batch_size = 32)"
      ],
      "metadata": {
        "id": "hYWDS6oJpOzn"
      },
      "execution_count": null,
      "outputs": []
    },
    {
      "cell_type": "code",
      "source": [
        "# test_data, test_labels = test_dataset.next()"
      ],
      "metadata": {
        "id": "xVwDuXKX28gs"
      },
      "execution_count": null,
      "outputs": []
    },
    {
      "cell_type": "code",
      "source": [
        "# test_data.shape"
      ],
      "metadata": {
        "id": "_wMjkDMj3A9g"
      },
      "execution_count": null,
      "outputs": []
    },
    {
      "cell_type": "code",
      "source": [
        "import pandas as pd\n",
        "\n",
        "train_df = pd.read_csv(\"drive/My Drive/Alzheimers_Mri_Segmentation/dataFrames/train.csv\")\n",
        "test_df = pd.read_csv(\"drive/My Drive/Alzheimers_Mri_Segmentation/dataFrames/test.csv\")"
      ],
      "metadata": {
        "id": "BsNXU1SM3A7J"
      },
      "execution_count": null,
      "outputs": []
    },
    {
      "cell_type": "code",
      "source": [
        "train_df.head()"
      ],
      "metadata": {
        "id": "lnk3Ux5q3A4K",
        "colab": {
          "base_uri": "https://localhost:8080/",
          "height": 206
        },
        "outputId": "5c80f892-32f2-4868-fc0c-293565fb65a1"
      },
      "execution_count": null,
      "outputs": [
        {
          "output_type": "execute_result",
          "data": {
            "text/plain": [
              "   Unnamed: 0    Type                                               Path\n",
              "0           0  nonDem  Alzheimer_s Dataset/train/NonDemented/nonDem15...\n",
              "1           1  nonDem  Alzheimer_s Dataset/train/NonDemented/nonDem54...\n",
              "2           2  nonDem  Alzheimer_s Dataset/train/NonDemented/nonDem14...\n",
              "3           3  nonDem  Alzheimer_s Dataset/train/NonDemented/nonDem16...\n",
              "4           4  nonDem  Alzheimer_s Dataset/train/NonDemented/nonDem23..."
            ],
            "text/html": [
              "\n",
              "  <div id=\"df-5ba325a3-8acb-4715-84eb-537f129c3f30\">\n",
              "    <div class=\"colab-df-container\">\n",
              "      <div>\n",
              "<style scoped>\n",
              "    .dataframe tbody tr th:only-of-type {\n",
              "        vertical-align: middle;\n",
              "    }\n",
              "\n",
              "    .dataframe tbody tr th {\n",
              "        vertical-align: top;\n",
              "    }\n",
              "\n",
              "    .dataframe thead th {\n",
              "        text-align: right;\n",
              "    }\n",
              "</style>\n",
              "<table border=\"1\" class=\"dataframe\">\n",
              "  <thead>\n",
              "    <tr style=\"text-align: right;\">\n",
              "      <th></th>\n",
              "      <th>Unnamed: 0</th>\n",
              "      <th>Type</th>\n",
              "      <th>Path</th>\n",
              "    </tr>\n",
              "  </thead>\n",
              "  <tbody>\n",
              "    <tr>\n",
              "      <th>0</th>\n",
              "      <td>0</td>\n",
              "      <td>nonDem</td>\n",
              "      <td>Alzheimer_s Dataset/train/NonDemented/nonDem15...</td>\n",
              "    </tr>\n",
              "    <tr>\n",
              "      <th>1</th>\n",
              "      <td>1</td>\n",
              "      <td>nonDem</td>\n",
              "      <td>Alzheimer_s Dataset/train/NonDemented/nonDem54...</td>\n",
              "    </tr>\n",
              "    <tr>\n",
              "      <th>2</th>\n",
              "      <td>2</td>\n",
              "      <td>nonDem</td>\n",
              "      <td>Alzheimer_s Dataset/train/NonDemented/nonDem14...</td>\n",
              "    </tr>\n",
              "    <tr>\n",
              "      <th>3</th>\n",
              "      <td>3</td>\n",
              "      <td>nonDem</td>\n",
              "      <td>Alzheimer_s Dataset/train/NonDemented/nonDem16...</td>\n",
              "    </tr>\n",
              "    <tr>\n",
              "      <th>4</th>\n",
              "      <td>4</td>\n",
              "      <td>nonDem</td>\n",
              "      <td>Alzheimer_s Dataset/train/NonDemented/nonDem23...</td>\n",
              "    </tr>\n",
              "  </tbody>\n",
              "</table>\n",
              "</div>\n",
              "      <button class=\"colab-df-convert\" onclick=\"convertToInteractive('df-5ba325a3-8acb-4715-84eb-537f129c3f30')\"\n",
              "              title=\"Convert this dataframe to an interactive table.\"\n",
              "              style=\"display:none;\">\n",
              "        \n",
              "  <svg xmlns=\"http://www.w3.org/2000/svg\" height=\"24px\"viewBox=\"0 0 24 24\"\n",
              "       width=\"24px\">\n",
              "    <path d=\"M0 0h24v24H0V0z\" fill=\"none\"/>\n",
              "    <path d=\"M18.56 5.44l.94 2.06.94-2.06 2.06-.94-2.06-.94-.94-2.06-.94 2.06-2.06.94zm-11 1L8.5 8.5l.94-2.06 2.06-.94-2.06-.94L8.5 2.5l-.94 2.06-2.06.94zm10 10l.94 2.06.94-2.06 2.06-.94-2.06-.94-.94-2.06-.94 2.06-2.06.94z\"/><path d=\"M17.41 7.96l-1.37-1.37c-.4-.4-.92-.59-1.43-.59-.52 0-1.04.2-1.43.59L10.3 9.45l-7.72 7.72c-.78.78-.78 2.05 0 2.83L4 21.41c.39.39.9.59 1.41.59.51 0 1.02-.2 1.41-.59l7.78-7.78 2.81-2.81c.8-.78.8-2.07 0-2.86zM5.41 20L4 18.59l7.72-7.72 1.47 1.35L5.41 20z\"/>\n",
              "  </svg>\n",
              "      </button>\n",
              "      \n",
              "  <style>\n",
              "    .colab-df-container {\n",
              "      display:flex;\n",
              "      flex-wrap:wrap;\n",
              "      gap: 12px;\n",
              "    }\n",
              "\n",
              "    .colab-df-convert {\n",
              "      background-color: #E8F0FE;\n",
              "      border: none;\n",
              "      border-radius: 50%;\n",
              "      cursor: pointer;\n",
              "      display: none;\n",
              "      fill: #1967D2;\n",
              "      height: 32px;\n",
              "      padding: 0 0 0 0;\n",
              "      width: 32px;\n",
              "    }\n",
              "\n",
              "    .colab-df-convert:hover {\n",
              "      background-color: #E2EBFA;\n",
              "      box-shadow: 0px 1px 2px rgba(60, 64, 67, 0.3), 0px 1px 3px 1px rgba(60, 64, 67, 0.15);\n",
              "      fill: #174EA6;\n",
              "    }\n",
              "\n",
              "    [theme=dark] .colab-df-convert {\n",
              "      background-color: #3B4455;\n",
              "      fill: #D2E3FC;\n",
              "    }\n",
              "\n",
              "    [theme=dark] .colab-df-convert:hover {\n",
              "      background-color: #434B5C;\n",
              "      box-shadow: 0px 1px 3px 1px rgba(0, 0, 0, 0.15);\n",
              "      filter: drop-shadow(0px 1px 2px rgba(0, 0, 0, 0.3));\n",
              "      fill: #FFFFFF;\n",
              "    }\n",
              "  </style>\n",
              "\n",
              "      <script>\n",
              "        const buttonEl =\n",
              "          document.querySelector('#df-5ba325a3-8acb-4715-84eb-537f129c3f30 button.colab-df-convert');\n",
              "        buttonEl.style.display =\n",
              "          google.colab.kernel.accessAllowed ? 'block' : 'none';\n",
              "\n",
              "        async function convertToInteractive(key) {\n",
              "          const element = document.querySelector('#df-5ba325a3-8acb-4715-84eb-537f129c3f30');\n",
              "          const dataTable =\n",
              "            await google.colab.kernel.invokeFunction('convertToInteractive',\n",
              "                                                     [key], {});\n",
              "          if (!dataTable) return;\n",
              "\n",
              "          const docLinkHtml = 'Like what you see? Visit the ' +\n",
              "            '<a target=\"_blank\" href=https://colab.research.google.com/notebooks/data_table.ipynb>data table notebook</a>'\n",
              "            + ' to learn more about interactive tables.';\n",
              "          element.innerHTML = '';\n",
              "          dataTable['output_type'] = 'display_data';\n",
              "          await google.colab.output.renderOutput(dataTable, element);\n",
              "          const docLink = document.createElement('div');\n",
              "          docLink.innerHTML = docLinkHtml;\n",
              "          element.appendChild(docLink);\n",
              "        }\n",
              "      </script>\n",
              "    </div>\n",
              "  </div>\n",
              "  "
            ]
          },
          "metadata": {},
          "execution_count": 24
        }
      ]
    },
    {
      "cell_type": "code",
      "source": [
        "import matplotlib.pyplot as plt\n",
        "import matplotlib.image as mpimg\n",
        "def plotAnyImage(train_df, index):\n",
        "  plt.imshow(mpimg.imread(train_df['Path'][index]))"
      ],
      "metadata": {
        "id": "FmzQ0CtieY3l"
      },
      "execution_count": null,
      "outputs": []
    },
    {
      "cell_type": "code",
      "source": [
        "print(f'Total numner of images in dataset: {len(train_df)}')\n",
        "type_count = train_df['Type'].value_counts()\n",
        "print(f'Type in Each Category:\\n{type_count}')"
      ],
      "metadata": {
        "id": "nh27XlpveYzK",
        "colab": {
          "base_uri": "https://localhost:8080/"
        },
        "outputId": "68c858f1-e92f-47fc-bd86-fed1cb1536b9"
      },
      "execution_count": null,
      "outputs": [
        {
          "output_type": "stream",
          "name": "stdout",
          "text": [
            "Total numner of images in dataset: 5121\n",
            "Type in Each Category:\n",
            "alzheimer       2561\n",
            "nonAlzheimer    2560\n",
            "Name: Type, dtype: int64\n"
          ]
        }
      ]
    },
    {
      "cell_type": "code",
      "source": [
        "import cv2\n",
        "\n",
        "train_labels = []\n",
        "train_images = []\n",
        "\n",
        "im_size = 256\n",
        "\n",
        "for i in train_df['Type']:\n",
        "  train_labels.append(i)\n",
        "\n",
        "for i in range(len(train_df)):\n",
        "  # print(i)\n",
        "  print(f'[INFO] Processing image {str(len(train_images))} of {str(len(train_df))}')\n",
        "  img = cv2.imread(train_df['Path'][i])\n",
        "  img2 = cv2.resize(img, (256, 256))\n",
        "  train_images.append(img2)\n",
        "print('[DONE] All images uploaded and resized.')\n"
      ],
      "metadata": {
        "id": "Mgmk_EieeYwz"
      },
      "execution_count": null,
      "outputs": []
    },
    {
      "cell_type": "code",
      "source": [
        "import cv2\n",
        "\n",
        "test_labels = []\n",
        "test_images = []\n",
        "\n",
        "im_size = 256\n",
        "\n",
        "for i in test_df['Type']:\n",
        "  test_labels.append(i)\n",
        "\n",
        "for i in range(len(test_df)):\n",
        "  # print(i)\n",
        "  print(f'[INFO] Processing image {str(len(test_images))} of {str(len(test_df))}')\n",
        "  img = cv2.imread(test_df['Path'][i])\n",
        "  img2 = cv2.resize(img, (256, 256))\n",
        "  test_images.append(img2)\n",
        "print('[DONE] All images uploaded and resized.')\n"
      ],
      "metadata": {
        "id": "sTwzhThvicQM"
      },
      "execution_count": null,
      "outputs": []
    },
    {
      "cell_type": "code",
      "source": [
        "import numpy as np\n",
        "train_images = np.array(train_images)\n",
        "print(f'[INFO] Processed images shape: {train_images.shape}')"
      ],
      "metadata": {
        "colab": {
          "base_uri": "https://localhost:8080/"
        },
        "id": "bWFrQ5YTeYvP",
        "outputId": "04b944c2-de5e-4486-91c8-651c6d9c33e4"
      },
      "execution_count": null,
      "outputs": [
        {
          "output_type": "stream",
          "name": "stdout",
          "text": [
            "[INFO] Processed images shape: (5121, 256, 256, 3)\n"
          ]
        }
      ]
    },
    {
      "cell_type": "code",
      "source": [
        "import numpy as np\n",
        "test_images = np.array(test_images)\n",
        "print(f'[INFO] Processed images shape: {test_images.shape}')"
      ],
      "metadata": {
        "colab": {
          "base_uri": "https://localhost:8080/"
        },
        "id": "HxBY8jzziiX4",
        "outputId": "84b4d171-a1a3-45b6-c410-c9e31f3e300e"
      },
      "execution_count": null,
      "outputs": [
        {
          "output_type": "stream",
          "name": "stdout",
          "text": [
            "[INFO] Processed images shape: (1279, 256, 256, 3)\n"
          ]
        }
      ]
    },
    {
      "cell_type": "code",
      "source": [
        "from sklearn.preprocessing import LabelEncoder, OneHotEncoder\n",
        "from sklearn.compose import ColumnTransformer\n",
        "\n",
        "y = train_labels\n",
        "y_labelEncoder = LabelEncoder()\n",
        "y = y_labelEncoder.fit_transform(y)  \n",
        "y = y.reshape(-1, 1)\n",
        "onehotencorder = ColumnTransformer(\n",
        "  [('one_hot_encoder', OneHotEncoder(sparse=False), [0])],\n",
        "  remainder='passthrough'                     \n",
        ")\n",
        "Y = onehotencorder.fit_transform(y)"
      ],
      "metadata": {
        "id": "zH9eIn4PtzN2"
      },
      "execution_count": null,
      "outputs": []
    },
    {
      "cell_type": "code",
      "source": [
        "Y.shape"
      ],
      "metadata": {
        "colab": {
          "base_uri": "https://localhost:8080/"
        },
        "id": "1WxEgK43htDZ",
        "outputId": "6ba8db7a-cd8e-462a-e65c-dbde244b4114"
      },
      "execution_count": null,
      "outputs": [
        {
          "output_type": "execute_result",
          "data": {
            "text/plain": [
              "(5121, 2)"
            ]
          },
          "metadata": {},
          "execution_count": 39
        }
      ]
    },
    {
      "cell_type": "code",
      "source": [
        "from sklearn.preprocessing import LabelEncoder, OneHotEncoder\n",
        "from sklearn.compose import ColumnTransformer\n",
        "\n",
        "y = test_labels\n",
        "y_labelEncoder = LabelEncoder()\n",
        "y = y_labelEncoder.fit_transform(y)  \n",
        "y = y.reshape(-1, 1)\n",
        "onehotencorder = ColumnTransformer(\n",
        "  [('one_hot_encoder', OneHotEncoder(sparse=False), [0])],\n",
        "  remainder='passthrough'                     \n",
        ")\n",
        "Y_test = onehotencorder.fit_transform(y)"
      ],
      "metadata": {
        "id": "vohke4iAilVz"
      },
      "execution_count": null,
      "outputs": []
    },
    {
      "cell_type": "code",
      "source": [
        "Y_test[0]"
      ],
      "metadata": {
        "colab": {
          "base_uri": "https://localhost:8080/"
        },
        "id": "zVw2m31WhtAA",
        "outputId": "b8a0bdd6-5dc6-430a-de6f-cecb6ced10d3"
      },
      "execution_count": null,
      "outputs": [
        {
          "output_type": "execute_result",
          "data": {
            "text/plain": [
              "array([0., 1.])"
            ]
          },
          "metadata": {},
          "execution_count": 41
        }
      ]
    },
    {
      "cell_type": "code",
      "source": [
        "train_images.shape"
      ],
      "metadata": {
        "colab": {
          "base_uri": "https://localhost:8080/"
        },
        "id": "bh9RoNHghs9H",
        "outputId": "52e3d2ea-37a9-40ae-e93b-3b8ff3439faf"
      },
      "execution_count": null,
      "outputs": [
        {
          "output_type": "execute_result",
          "data": {
            "text/plain": [
              "(5121, 256, 256, 3)"
            ]
          },
          "metadata": {},
          "execution_count": 42
        }
      ]
    },
    {
      "cell_type": "code",
      "source": [],
      "metadata": {
        "id": "qFUBOFNchs6e"
      },
      "execution_count": null,
      "outputs": []
    },
    {
      "cell_type": "markdown",
      "source": [
        "# Custom CNN"
      ],
      "metadata": {
        "id": "N5TDxKTe3zze"
      }
    },
    {
      "cell_type": "code",
      "source": [
        "import tensorflow as tf\n",
        "from keras.models import Sequential\n",
        "from keras.models import Model\n",
        "from keras.layers import InputLayer, BatchNormalization, Dropout, Flatten, Dense, Activation, MaxPooling2D, Conv2D"
      ],
      "metadata": {
        "id": "tGAbNUVHpVtb"
      },
      "execution_count": null,
      "outputs": []
    },
    {
      "cell_type": "code",
      "source": [],
      "metadata": {
        "id": "8dERfN7_3zq7"
      },
      "execution_count": null,
      "outputs": []
    },
    {
      "cell_type": "code",
      "source": [],
      "metadata": {
        "id": "uK01UcS_3znh"
      },
      "execution_count": null,
      "outputs": []
    },
    {
      "cell_type": "code",
      "source": [],
      "metadata": {
        "id": "Vki4I4qt3zlD"
      },
      "execution_count": null,
      "outputs": []
    },
    {
      "cell_type": "code",
      "source": [
        "model= Sequential(name='Custom_CNN')\n",
        "\n",
        "\n",
        "model.add(Conv2D(32,(3,3),activation='relu',input_shape=(256,256,3)))\n",
        "\n",
        "model.add(MaxPooling2D(2,2))\n",
        "model.add(BatchNormalization())\n",
        "\n",
        "\n",
        "model.add(Conv2D(32,(3,3),activation='relu'))\n",
        "\n",
        "model.add(MaxPooling2D(2,2))\n",
        "model.add(BatchNormalization())\n",
        "\n",
        "\n",
        "model.add(Conv2D(64,(3,3),activation='relu'))\n",
        "\n",
        "model.add(MaxPooling2D(2,2))\n",
        "model.add(BatchNormalization())\n",
        "\n",
        "\n",
        "model.add(Conv2D(64,(3,3),activation='relu'))\n",
        "\n",
        "model.add(MaxPooling2D(2,2))\n",
        "model.add(BatchNormalization())\n",
        "\n",
        "model.add(Flatten())\n",
        "\n",
        "model.add(Dense(4,activation='softmax'))\n"
      ],
      "metadata": {
        "id": "gTYUT7fbpxm7"
      },
      "execution_count": null,
      "outputs": []
    },
    {
      "cell_type": "code",
      "source": [
        "model.summary()"
      ],
      "metadata": {
        "colab": {
          "base_uri": "https://localhost:8080/"
        },
        "id": "CwxulgCtqIxT",
        "outputId": "a3afb76f-6c72-440d-b737-ecb4992a72cd"
      },
      "execution_count": null,
      "outputs": [
        {
          "output_type": "stream",
          "name": "stdout",
          "text": [
            "Model: \"Custom_CNN\"\n",
            "_________________________________________________________________\n",
            " Layer (type)                Output Shape              Param #   \n",
            "=================================================================\n",
            " conv2d (Conv2D)             (None, 254, 254, 32)      896       \n",
            "                                                                 \n",
            " max_pooling2d (MaxPooling2D  (None, 127, 127, 32)     0         \n",
            " )                                                               \n",
            "                                                                 \n",
            " batch_normalization (BatchN  (None, 127, 127, 32)     128       \n",
            " ormalization)                                                   \n",
            "                                                                 \n",
            " conv2d_1 (Conv2D)           (None, 125, 125, 32)      9248      \n",
            "                                                                 \n",
            " max_pooling2d_1 (MaxPooling  (None, 62, 62, 32)       0         \n",
            " 2D)                                                             \n",
            "                                                                 \n",
            " batch_normalization_1 (Batc  (None, 62, 62, 32)       128       \n",
            " hNormalization)                                                 \n",
            "                                                                 \n",
            " conv2d_2 (Conv2D)           (None, 60, 60, 64)        18496     \n",
            "                                                                 \n",
            " max_pooling2d_2 (MaxPooling  (None, 30, 30, 64)       0         \n",
            " 2D)                                                             \n",
            "                                                                 \n",
            " batch_normalization_2 (Batc  (None, 30, 30, 64)       256       \n",
            " hNormalization)                                                 \n",
            "                                                                 \n",
            " conv2d_3 (Conv2D)           (None, 28, 28, 64)        36928     \n",
            "                                                                 \n",
            " max_pooling2d_3 (MaxPooling  (None, 14, 14, 64)       0         \n",
            " 2D)                                                             \n",
            "                                                                 \n",
            " batch_normalization_3 (Batc  (None, 14, 14, 64)       256       \n",
            " hNormalization)                                                 \n",
            "                                                                 \n",
            " flatten (Flatten)           (None, 12544)             0         \n",
            "                                                                 \n",
            " dense (Dense)               (None, 4)                 50180     \n",
            "                                                                 \n",
            "=================================================================\n",
            "Total params: 116,516\n",
            "Trainable params: 116,132\n",
            "Non-trainable params: 384\n",
            "_________________________________________________________________\n"
          ]
        }
      ]
    },
    {
      "cell_type": "code",
      "source": [
        "# tf.keras.utils.plot_model(model,show_shapes=True)"
      ],
      "metadata": {
        "id": "AYV6pt7juXhq"
      },
      "execution_count": null,
      "outputs": []
    },
    {
      "cell_type": "code",
      "source": [
        "METRICS = ['accuracy']"
      ],
      "metadata": {
        "id": "VF1Yaxw7qJvD"
      },
      "execution_count": null,
      "outputs": []
    },
    {
      "cell_type": "code",
      "source": [
        "# aucc = 0.69\n",
        "# class myCallback(tf.keras.callbacks.Callback): \n",
        "#     def on_epoch_end(self, epoch, logs={}): \n",
        "#         if(logs.get('val_accuracy') > aucc):   \n",
        "#           print(\"\\nWe have reached %2.2f%% accuracy, so we will stopping training.\" %(aucc*100))   \n",
        "#           self.model.stop_training = True\n",
        "\n",
        "# callbacks = myCallback()"
      ],
      "metadata": {
        "id": "9-WvG_tMr-DE"
      },
      "execution_count": null,
      "outputs": []
    },
    {
      "cell_type": "code",
      "source": [
        "model.compile(optimizer='adam', loss='categorical_crossentropy', metrics=METRICS)"
      ],
      "metadata": {
        "id": "Hf7AcrMIr_4i"
      },
      "execution_count": null,
      "outputs": []
    },
    {
      "cell_type": "code",
      "source": [
        "history = model.fit(train_images, Y, validation_data=(test_images, Y_test), epochs=50)"
      ],
      "metadata": {
        "id": "UOb4OPWVsFBS",
        "colab": {
          "base_uri": "https://localhost:8080/"
        },
        "outputId": "189fd638-4389-4175-c5c5-52c8d7383868"
      },
      "execution_count": null,
      "outputs": [
        {
          "output_type": "stream",
          "name": "stdout",
          "text": [
            "Epoch 1/50\n",
            "161/161 [==============================] - 26s 75ms/step - loss: 1.1754 - accuracy: 0.6153 - val_loss: 2.3166 - val_accuracy: 0.2033\n",
            "Epoch 2/50\n",
            "161/161 [==============================] - 10s 61ms/step - loss: 0.5577 - accuracy: 0.8137 - val_loss: 1.2504 - val_accuracy: 0.5575\n",
            "Epoch 3/50\n",
            "161/161 [==============================] - 10s 64ms/step - loss: 0.1623 - accuracy: 0.9422 - val_loss: 1.0086 - val_accuracy: 0.6059\n",
            "Epoch 4/50\n",
            "161/161 [==============================] - 11s 66ms/step - loss: 0.0405 - accuracy: 0.9920 - val_loss: 1.0699 - val_accuracy: 0.6701\n",
            "Epoch 5/50\n",
            "161/161 [==============================] - 10s 62ms/step - loss: 0.0090 - accuracy: 1.0000 - val_loss: 1.0284 - val_accuracy: 0.6552\n",
            "Epoch 6/50\n",
            "161/161 [==============================] - 10s 59ms/step - loss: 0.0062 - accuracy: 1.0000 - val_loss: 1.0150 - val_accuracy: 0.6959\n",
            "Epoch 7/50\n",
            "161/161 [==============================] - 10s 59ms/step - loss: 0.0025 - accuracy: 1.0000 - val_loss: 1.0319 - val_accuracy: 0.6919\n",
            "Epoch 8/50\n",
            "161/161 [==============================] - 9s 59ms/step - loss: 0.0017 - accuracy: 1.0000 - val_loss: 1.0598 - val_accuracy: 0.7013\n",
            "Epoch 9/50\n",
            "161/161 [==============================] - 9s 59ms/step - loss: 0.0013 - accuracy: 1.0000 - val_loss: 1.0664 - val_accuracy: 0.6998\n",
            "Epoch 10/50\n",
            "161/161 [==============================] - 9s 59ms/step - loss: 0.0011 - accuracy: 1.0000 - val_loss: 1.0844 - val_accuracy: 0.6982\n",
            "Epoch 11/50\n",
            "161/161 [==============================] - 10s 59ms/step - loss: 8.9976e-04 - accuracy: 1.0000 - val_loss: 1.1119 - val_accuracy: 0.6982\n",
            "Epoch 12/50\n",
            "161/161 [==============================] - 9s 59ms/step - loss: 7.8016e-04 - accuracy: 1.0000 - val_loss: 1.0789 - val_accuracy: 0.7021\n",
            "Epoch 13/50\n",
            "161/161 [==============================] - 9s 59ms/step - loss: 6.5947e-04 - accuracy: 1.0000 - val_loss: 1.1079 - val_accuracy: 0.7037\n",
            "Epoch 14/50\n",
            "161/161 [==============================] - 9s 59ms/step - loss: 6.0384e-04 - accuracy: 1.0000 - val_loss: 1.0795 - val_accuracy: 0.7060\n",
            "Epoch 15/50\n",
            "161/161 [==============================] - 10s 60ms/step - loss: 5.0255e-04 - accuracy: 1.0000 - val_loss: 1.0957 - val_accuracy: 0.7068\n",
            "Epoch 16/50\n",
            "161/161 [==============================] - 9s 59ms/step - loss: 4.5845e-04 - accuracy: 1.0000 - val_loss: 1.1117 - val_accuracy: 0.7037\n",
            "Epoch 17/50\n",
            "161/161 [==============================] - 9s 59ms/step - loss: 3.8556e-04 - accuracy: 1.0000 - val_loss: 1.1325 - val_accuracy: 0.7068\n",
            "Epoch 18/50\n",
            "161/161 [==============================] - 9s 59ms/step - loss: 3.3938e-04 - accuracy: 1.0000 - val_loss: 1.1336 - val_accuracy: 0.7052\n",
            "Epoch 19/50\n",
            "161/161 [==============================] - 9s 59ms/step - loss: 2.9852e-04 - accuracy: 1.0000 - val_loss: 1.1418 - val_accuracy: 0.7045\n",
            "Epoch 20/50\n",
            "161/161 [==============================] - 10s 60ms/step - loss: 2.6335e-04 - accuracy: 1.0000 - val_loss: 1.1451 - val_accuracy: 0.7076\n",
            "Epoch 21/50\n",
            "161/161 [==============================] - 9s 59ms/step - loss: 2.3688e-04 - accuracy: 1.0000 - val_loss: 1.1382 - val_accuracy: 0.7060\n",
            "Epoch 22/50\n",
            "161/161 [==============================] - 10s 61ms/step - loss: 2.1255e-04 - accuracy: 1.0000 - val_loss: 1.1419 - val_accuracy: 0.7107\n",
            "Epoch 23/50\n",
            "161/161 [==============================] - 9s 59ms/step - loss: 1.8875e-04 - accuracy: 1.0000 - val_loss: 1.1436 - val_accuracy: 0.7084\n",
            "Epoch 24/50\n",
            "161/161 [==============================] - 9s 59ms/step - loss: 1.6970e-04 - accuracy: 1.0000 - val_loss: 1.1535 - val_accuracy: 0.7076\n",
            "Epoch 25/50\n",
            "161/161 [==============================] - 10s 59ms/step - loss: 1.5288e-04 - accuracy: 1.0000 - val_loss: 1.1746 - val_accuracy: 0.7115\n",
            "Epoch 26/50\n",
            "161/161 [==============================] - 10s 61ms/step - loss: 1.3969e-04 - accuracy: 1.0000 - val_loss: 1.1596 - val_accuracy: 0.7099\n",
            "Epoch 27/50\n",
            "161/161 [==============================] - 10s 59ms/step - loss: 1.2542e-04 - accuracy: 1.0000 - val_loss: 1.1870 - val_accuracy: 0.7138\n",
            "Epoch 28/50\n",
            "161/161 [==============================] - 9s 59ms/step - loss: 1.1435e-04 - accuracy: 1.0000 - val_loss: 1.1742 - val_accuracy: 0.7115\n",
            "Epoch 29/50\n",
            "161/161 [==============================] - 9s 59ms/step - loss: 1.0450e-04 - accuracy: 1.0000 - val_loss: 1.1704 - val_accuracy: 0.7084\n",
            "Epoch 30/50\n",
            "161/161 [==============================] - 10s 59ms/step - loss: 9.2038e-05 - accuracy: 1.0000 - val_loss: 1.1710 - val_accuracy: 0.7123\n",
            "Epoch 31/50\n",
            "161/161 [==============================] - 10s 60ms/step - loss: 8.5830e-05 - accuracy: 1.0000 - val_loss: 1.1855 - val_accuracy: 0.7131\n",
            "Epoch 32/50\n",
            "161/161 [==============================] - 9s 59ms/step - loss: 7.6321e-05 - accuracy: 1.0000 - val_loss: 1.1889 - val_accuracy: 0.7123\n",
            "Epoch 33/50\n",
            "161/161 [==============================] - 9s 59ms/step - loss: 6.8995e-05 - accuracy: 1.0000 - val_loss: 1.2032 - val_accuracy: 0.7107\n",
            "Epoch 34/50\n",
            "161/161 [==============================] - 9s 59ms/step - loss: 6.3611e-05 - accuracy: 1.0000 - val_loss: 1.2129 - val_accuracy: 0.7154\n",
            "Epoch 35/50\n",
            "161/161 [==============================] - 10s 59ms/step - loss: 5.7189e-05 - accuracy: 1.0000 - val_loss: 1.2106 - val_accuracy: 0.7115\n",
            "Epoch 36/50\n",
            "161/161 [==============================] - 10s 59ms/step - loss: 5.2783e-05 - accuracy: 1.0000 - val_loss: 1.2055 - val_accuracy: 0.7170\n",
            "Epoch 37/50\n",
            "161/161 [==============================] - 9s 59ms/step - loss: 4.8266e-05 - accuracy: 1.0000 - val_loss: 1.2151 - val_accuracy: 0.7146\n",
            "Epoch 38/50\n",
            "161/161 [==============================] - 9s 59ms/step - loss: 4.3800e-05 - accuracy: 1.0000 - val_loss: 1.2040 - val_accuracy: 0.7177\n",
            "Epoch 39/50\n",
            "161/161 [==============================] - 10s 60ms/step - loss: 3.9484e-05 - accuracy: 1.0000 - val_loss: 1.1969 - val_accuracy: 0.7185\n",
            "Epoch 40/50\n",
            "161/161 [==============================] - 9s 59ms/step - loss: 3.9147e-05 - accuracy: 1.0000 - val_loss: 1.2213 - val_accuracy: 0.7185\n",
            "Epoch 41/50\n",
            "161/161 [==============================] - 10s 59ms/step - loss: 3.3093e-05 - accuracy: 1.0000 - val_loss: 1.2221 - val_accuracy: 0.7193\n",
            "Epoch 42/50\n",
            "161/161 [==============================] - 10s 59ms/step - loss: 3.0473e-05 - accuracy: 1.0000 - val_loss: 1.2298 - val_accuracy: 0.7193\n",
            "Epoch 43/50\n",
            "161/161 [==============================] - 9s 59ms/step - loss: 2.7583e-05 - accuracy: 1.0000 - val_loss: 1.2520 - val_accuracy: 0.7201\n",
            "Epoch 44/50\n",
            "161/161 [==============================] - 10s 59ms/step - loss: 2.5233e-05 - accuracy: 1.0000 - val_loss: 1.2522 - val_accuracy: 0.7201\n",
            "Epoch 45/50\n",
            "161/161 [==============================] - 10s 59ms/step - loss: 2.3310e-05 - accuracy: 1.0000 - val_loss: 1.2499 - val_accuracy: 0.7201\n",
            "Epoch 46/50\n",
            "161/161 [==============================] - 10s 59ms/step - loss: 2.1003e-05 - accuracy: 1.0000 - val_loss: 1.2589 - val_accuracy: 0.7201\n",
            "Epoch 47/50\n",
            "161/161 [==============================] - 9s 59ms/step - loss: 1.9591e-05 - accuracy: 1.0000 - val_loss: 1.2648 - val_accuracy: 0.7193\n",
            "Epoch 48/50\n",
            "161/161 [==============================] - 10s 60ms/step - loss: 1.7532e-05 - accuracy: 1.0000 - val_loss: 1.2526 - val_accuracy: 0.7209\n",
            "Epoch 49/50\n",
            "161/161 [==============================] - 9s 59ms/step - loss: 1.5971e-05 - accuracy: 1.0000 - val_loss: 1.2851 - val_accuracy: 0.7217\n",
            "Epoch 50/50\n",
            "161/161 [==============================] - 10s 59ms/step - loss: 1.4793e-05 - accuracy: 1.0000 - val_loss: 1.2697 - val_accuracy: 0.7170\n"
          ]
        }
      ]
    },
    {
      "cell_type": "code",
      "source": [
        "model.save('drive/My Drive/Alzheimers_Mri_Segmentation/models/cnn/cnnModel.h5')"
      ],
      "metadata": {
        "id": "3wK97wv6Wdkw"
      },
      "execution_count": null,
      "outputs": []
    },
    {
      "cell_type": "code",
      "source": [
        "history.history.keys()"
      ],
      "metadata": {
        "id": "CmpJwmkcbp9f",
        "colab": {
          "base_uri": "https://localhost:8080/"
        },
        "outputId": "6809d02f-9f83-4c20-e329-17e15000a86b"
      },
      "execution_count": null,
      "outputs": [
        {
          "output_type": "execute_result",
          "data": {
            "text/plain": [
              "dict_keys(['loss', 'accuracy', 'val_loss', 'val_accuracy'])"
            ]
          },
          "metadata": {},
          "execution_count": 45
        }
      ]
    },
    {
      "cell_type": "code",
      "source": [
        "# summarize history for accuracy\n",
        "import matplotlib.pyplot as plt\n",
        "\n",
        "plt.plot(history.history['loss'])\n",
        "plt.plot(history.history['val_loss'])\n",
        "plt.title('model loss')\n",
        "plt.ylabel('loss')\n",
        "plt.xlabel('epoch')\n",
        "plt.legend(['train', 'test'], loc='upper left')\n",
        "plt.show()"
      ],
      "metadata": {
        "colab": {
          "base_uri": "https://localhost:8080/",
          "height": 295
        },
        "id": "aBj4fzZXlj8d",
        "outputId": "b14f4948-893f-448e-885a-bb0a1bd16079"
      },
      "execution_count": null,
      "outputs": [
        {
          "output_type": "display_data",
          "data": {
            "text/plain": [
              "<Figure size 432x288 with 1 Axes>"
            ],
            "image/png": "[encoded data removed]"
          },
          "metadata": {
            "needs_background": "light"
          }
        }
      ]
    },
    {
      "cell_type": "code",
      "source": [
        "import pandas as pd\n",
        "histcnn_df = pd.DataFrame(history.history)\n",
        "histcnn_df"
      ],
      "metadata": {
        "colab": {
          "base_uri": "https://localhost:8080/",
          "height": 1000
        },
        "id": "a6Igqf7qlnfo",
        "outputId": "f7c2ae09-da7f-45bd-9b01-9dc1a6697535"
      },
      "execution_count": null,
      "outputs": [
        {
          "output_type": "execute_result",
          "data": {
            "text/plain": [
              "        loss  accuracy  val_loss  val_accuracy\n",
              "0   1.175353  0.615310  2.316592      0.203284\n",
              "1   0.557672  0.813708  1.250399      0.557467\n",
              "2   0.162285  0.942199  1.008639      0.605942\n",
              "3   0.040452  0.991994  1.069891      0.670055\n",
              "4   0.008964  1.000000  1.028376      0.655199\n",
              "5   0.006192  1.000000  1.014975      0.695856\n",
              "6   0.002504  1.000000  1.031940      0.691947\n",
              "7   0.001682  1.000000  1.059806      0.701329\n",
              "8   0.001320  1.000000  1.066437      0.699765\n",
              "9   0.001081  1.000000  1.084368      0.698202\n",
              "10  0.000900  1.000000  1.111863      0.698202\n",
              "11  0.000780  1.000000  1.078889      0.702111\n",
              "12  0.000659  1.000000  1.107915      0.703675\n",
              "13  0.000604  1.000000  1.079485      0.706020\n",
              "14  0.000503  1.000000  1.095732      0.706802\n",
              "15  0.000458  1.000000  1.111664      0.703675\n",
              "16  0.000386  1.000000  1.132504      0.706802\n",
              "17  0.000339  1.000000  1.133612      0.705238\n",
              "18  0.000299  1.000000  1.141821      0.704457\n",
              "19  0.000263  1.000000  1.145093      0.707584\n",
              "20  0.000237  1.000000  1.138228      0.706020\n",
              "21  0.000213  1.000000  1.141852      0.710711\n",
              "22  0.000189  1.000000  1.143583      0.708366\n",
              "23  0.000170  1.000000  1.153453      0.707584\n",
              "24  0.000153  1.000000  1.174585      0.711493\n",
              "25  0.000140  1.000000  1.159648      0.709930\n",
              "26  0.000125  1.000000  1.186985      0.713839\n",
              "27  0.000114  1.000000  1.174176      0.711493\n",
              "28  0.000105  1.000000  1.170388      0.708366\n",
              "29  0.000092  1.000000  1.171045      0.712275\n",
              "30  0.000086  1.000000  1.185544      0.713057\n",
              "31  0.000076  1.000000  1.188921      0.712275\n",
              "32  0.000069  1.000000  1.203167      0.710711\n",
              "33  0.000064  1.000000  1.212854      0.715403\n",
              "34  0.000057  1.000000  1.210621      0.711493\n",
              "35  0.000053  1.000000  1.205458      0.716966\n",
              "36  0.000048  1.000000  1.215107      0.714621\n",
              "37  0.000044  1.000000  1.204001      0.717748\n",
              "38  0.000039  1.000000  1.196852      0.718530\n",
              "39  0.000039  1.000000  1.221280      0.718530\n",
              "40  0.000033  1.000000  1.222062      0.719312\n",
              "41  0.000030  1.000000  1.229780      0.719312\n",
              "42  0.000028  1.000000  1.252006      0.720094\n",
              "43  0.000025  1.000000  1.252205      0.720094\n",
              "44  0.000023  1.000000  1.249941      0.720094\n",
              "45  0.000021  1.000000  1.258880      0.720094\n",
              "46  0.000020  1.000000  1.264751      0.719312\n",
              "47  0.000018  1.000000  1.252551      0.720876\n",
              "48  0.000016  1.000000  1.285126      0.721658\n",
              "49  0.000015  1.000000  1.269702      0.716966"
            ],
            "text/html": [
              "\n",
              "  <div id=\"df-eb633a34-e729-43af-b4de-2a7f81dc23d2\">\n",
              "    <div class=\"colab-df-container\">\n",
              "      <div>\n",
              "<style scoped>\n",
              "    .dataframe tbody tr th:only-of-type {\n",
              "        vertical-align: middle;\n",
              "    }\n",
              "\n",
              "    .dataframe tbody tr th {\n",
              "        vertical-align: top;\n",
              "    }\n",
              "\n",
              "    .dataframe thead th {\n",
              "        text-align: right;\n",
              "    }\n",
              "</style>\n",
              "<table border=\"1\" class=\"dataframe\">\n",
              "  <thead>\n",
              "    <tr style=\"text-align: right;\">\n",
              "      <th></th>\n",
              "      <th>loss</th>\n",
              "      <th>accuracy</th>\n",
              "      <th>val_loss</th>\n",
              "      <th>val_accuracy</th>\n",
              "    </tr>\n",
              "  </thead>\n",
              "  <tbody>\n",
              "    <tr>\n",
              "      <th>0</th>\n",
              "      <td>1.175353</td>\n",
              "      <td>0.615310</td>\n",
              "      <td>2.316592</td>\n",
              "      <td>0.203284</td>\n",
              "    </tr>\n",
              "    <tr>\n",
              "      <th>1</th>\n",
              "      <td>0.557672</td>\n",
              "      <td>0.813708</td>\n",
              "      <td>1.250399</td>\n",
              "      <td>0.557467</td>\n",
              "    </tr>\n",
              "    <tr>\n",
              "      <th>2</th>\n",
              "      <td>0.162285</td>\n",
              "      <td>0.942199</td>\n",
              "      <td>1.008639</td>\n",
              "      <td>0.605942</td>\n",
              "    </tr>\n",
              "    <tr>\n",
              "      <th>3</th>\n",
              "      <td>0.040452</td>\n",
              "      <td>0.991994</td>\n",
              "      <td>1.069891</td>\n",
              "      <td>0.670055</td>\n",
              "    </tr>\n",
              "    <tr>\n",
              "      <th>4</th>\n",
              "      <td>0.008964</td>\n",
              "      <td>1.000000</td>\n",
              "      <td>1.028376</td>\n",
              "      <td>0.655199</td>\n",
              "    </tr>\n",
              "    <tr>\n",
              "      <th>5</th>\n",
              "      <td>0.006192</td>\n",
              "      <td>1.000000</td>\n",
              "      <td>1.014975</td>\n",
              "      <td>0.695856</td>\n",
              "    </tr>\n",
              "    <tr>\n",
              "      <th>6</th>\n",
              "      <td>0.002504</td>\n",
              "      <td>1.000000</td>\n",
              "      <td>1.031940</td>\n",
              "      <td>0.691947</td>\n",
              "    </tr>\n",
              "    <tr>\n",
              "      <th>7</th>\n",
              "      <td>0.001682</td>\n",
              "      <td>1.000000</td>\n",
              "      <td>1.059806</td>\n",
              "      <td>0.701329</td>\n",
              "    </tr>\n",
              "    <tr>\n",
              "      <th>8</th>\n",
              "      <td>0.001320</td>\n",
              "      <td>1.000000</td>\n",
              "      <td>1.066437</td>\n",
              "      <td>0.699765</td>\n",
              "    </tr>\n",
              "    <tr>\n",
              "      <th>9</th>\n",
              "      <td>0.001081</td>\n",
              "      <td>1.000000</td>\n",
              "      <td>1.084368</td>\n",
              "      <td>0.698202</td>\n",
              "    </tr>\n",
              "    <tr>\n",
              "      <th>10</th>\n",
              "      <td>0.000900</td>\n",
              "      <td>1.000000</td>\n",
              "      <td>1.111863</td>\n",
              "      <td>0.698202</td>\n",
              "    </tr>\n",
              "    <tr>\n",
              "      <th>11</th>\n",
              "      <td>0.000780</td>\n",
              "      <td>1.000000</td>\n",
              "      <td>1.078889</td>\n",
              "      <td>0.702111</td>\n",
              "    </tr>\n",
              "    <tr>\n",
              "      <th>12</th>\n",
              "      <td>0.000659</td>\n",
              "      <td>1.000000</td>\n",
              "      <td>1.107915</td>\n",
              "      <td>0.703675</td>\n",
              "    </tr>\n",
              "    <tr>\n",
              "      <th>13</th>\n",
              "      <td>0.000604</td>\n",
              "      <td>1.000000</td>\n",
              "      <td>1.079485</td>\n",
              "      <td>0.706020</td>\n",
              "    </tr>\n",
              "    <tr>\n",
              "      <th>14</th>\n",
              "      <td>0.000503</td>\n",
              "      <td>1.000000</td>\n",
              "      <td>1.095732</td>\n",
              "      <td>0.706802</td>\n",
              "    </tr>\n",
              "    <tr>\n",
              "      <th>15</th>\n",
              "      <td>0.000458</td>\n",
              "      <td>1.000000</td>\n",
              "      <td>1.111664</td>\n",
              "      <td>0.703675</td>\n",
              "    </tr>\n",
              "    <tr>\n",
              "      <th>16</th>\n",
              "      <td>0.000386</td>\n",
              "      <td>1.000000</td>\n",
              "      <td>1.132504</td>\n",
              "      <td>0.706802</td>\n",
              "    </tr>\n",
              "    <tr>\n",
              "      <th>17</th>\n",
              "      <td>0.000339</td>\n",
              "      <td>1.000000</td>\n",
              "      <td>1.133612</td>\n",
              "      <td>0.705238</td>\n",
              "    </tr>\n",
              "    <tr>\n",
              "      <th>18</th>\n",
              "      <td>0.000299</td>\n",
              "      <td>1.000000</td>\n",
              "      <td>1.141821</td>\n",
              "      <td>0.704457</td>\n",
              "    </tr>\n",
              "    <tr>\n",
              "      <th>19</th>\n",
              "      <td>0.000263</td>\n",
              "      <td>1.000000</td>\n",
              "      <td>1.145093</td>\n",
              "      <td>0.707584</td>\n",
              "    </tr>\n",
              "    <tr>\n",
              "      <th>20</th>\n",
              "      <td>0.000237</td>\n",
              "      <td>1.000000</td>\n",
              "      <td>1.138228</td>\n",
              "      <td>0.706020</td>\n",
              "    </tr>\n",
              "    <tr>\n",
              "      <th>21</th>\n",
              "      <td>0.000213</td>\n",
              "      <td>1.000000</td>\n",
              "      <td>1.141852</td>\n",
              "      <td>0.710711</td>\n",
              "    </tr>\n",
              "    <tr>\n",
              "      <th>22</th>\n",
              "      <td>0.000189</td>\n",
              "      <td>1.000000</td>\n",
              "      <td>1.143583</td>\n",
              "      <td>0.708366</td>\n",
              "    </tr>\n",
              "    <tr>\n",
              "      <th>23</th>\n",
              "      <td>0.000170</td>\n",
              "      <td>1.000000</td>\n",
              "      <td>1.153453</td>\n",
              "      <td>0.707584</td>\n",
              "    </tr>\n",
              "    <tr>\n",
              "      <th>24</th>\n",
              "      <td>0.000153</td>\n",
              "      <td>1.000000</td>\n",
              "      <td>1.174585</td>\n",
              "      <td>0.711493</td>\n",
              "    </tr>\n",
              "    <tr>\n",
              "      <th>25</th>\n",
              "      <td>0.000140</td>\n",
              "      <td>1.000000</td>\n",
              "      <td>1.159648</td>\n",
              "      <td>0.709930</td>\n",
              "    </tr>\n",
              "    <tr>\n",
              "      <th>26</th>\n",
              "      <td>0.000125</td>\n",
              "      <td>1.000000</td>\n",
              "      <td>1.186985</td>\n",
              "      <td>0.713839</td>\n",
              "    </tr>\n",
              "    <tr>\n",
              "      <th>27</th>\n",
              "      <td>0.000114</td>\n",
              "      <td>1.000000</td>\n",
              "      <td>1.174176</td>\n",
              "      <td>0.711493</td>\n",
              "    </tr>\n",
              "    <tr>\n",
              "      <th>28</th>\n",
              "      <td>0.000105</td>\n",
              "      <td>1.000000</td>\n",
              "      <td>1.170388</td>\n",
              "      <td>0.708366</td>\n",
              "    </tr>\n",
              "    <tr>\n",
              "      <th>29</th>\n",
              "      <td>0.000092</td>\n",
              "      <td>1.000000</td>\n",
              "      <td>1.171045</td>\n",
              "      <td>0.712275</td>\n",
              "    </tr>\n",
              "    <tr>\n",
              "      <th>30</th>\n",
              "      <td>0.000086</td>\n",
              "      <td>1.000000</td>\n",
              "      <td>1.185544</td>\n",
              "      <td>0.713057</td>\n",
              "    </tr>\n",
              "    <tr>\n",
              "      <th>31</th>\n",
              "      <td>0.000076</td>\n",
              "      <td>1.000000</td>\n",
              "      <td>1.188921</td>\n",
              "      <td>0.712275</td>\n",
              "    </tr>\n",
              "    <tr>\n",
              "      <th>32</th>\n",
              "      <td>0.000069</td>\n",
              "      <td>1.000000</td>\n",
              "      <td>1.203167</td>\n",
              "      <td>0.710711</td>\n",
              "    </tr>\n",
              "    <tr>\n",
              "      <th>33</th>\n",
              "      <td>0.000064</td>\n",
              "      <td>1.000000</td>\n",
              "      <td>1.212854</td>\n",
              "      <td>0.715403</td>\n",
              "    </tr>\n",
              "    <tr>\n",
              "      <th>34</th>\n",
              "      <td>0.000057</td>\n",
              "      <td>1.000000</td>\n",
              "      <td>1.210621</td>\n",
              "      <td>0.711493</td>\n",
              "    </tr>\n",
              "    <tr>\n",
              "      <th>35</th>\n",
              "      <td>0.000053</td>\n",
              "      <td>1.000000</td>\n",
              "      <td>1.205458</td>\n",
              "      <td>0.716966</td>\n",
              "    </tr>\n",
              "    <tr>\n",
              "      <th>36</th>\n",
              "      <td>0.000048</td>\n",
              "      <td>1.000000</td>\n",
              "      <td>1.215107</td>\n",
              "      <td>0.714621</td>\n",
              "    </tr>\n",
              "    <tr>\n",
              "      <th>37</th>\n",
              "      <td>0.000044</td>\n",
              "      <td>1.000000</td>\n",
              "      <td>1.204001</td>\n",
              "      <td>0.717748</td>\n",
              "    </tr>\n",
              "    <tr>\n",
              "      <th>38</th>\n",
              "      <td>0.000039</td>\n",
              "      <td>1.000000</td>\n",
              "      <td>1.196852</td>\n",
              "      <td>0.718530</td>\n",
              "    </tr>\n",
              "    <tr>\n",
              "      <th>39</th>\n",
              "      <td>0.000039</td>\n",
              "      <td>1.000000</td>\n",
              "      <td>1.221280</td>\n",
              "      <td>0.718530</td>\n",
              "    </tr>\n",
              "    <tr>\n",
              "      <th>40</th>\n",
              "      <td>0.000033</td>\n",
              "      <td>1.000000</td>\n",
              "      <td>1.222062</td>\n",
              "      <td>0.719312</td>\n",
              "    </tr>\n",
              "    <tr>\n",
              "      <th>41</th>\n",
              "      <td>0.000030</td>\n",
              "      <td>1.000000</td>\n",
              "      <td>1.229780</td>\n",
              "      <td>0.719312</td>\n",
              "    </tr>\n",
              "    <tr>\n",
              "      <th>42</th>\n",
              "      <td>0.000028</td>\n",
              "      <td>1.000000</td>\n",
              "      <td>1.252006</td>\n",
              "      <td>0.720094</td>\n",
              "    </tr>\n",
              "    <tr>\n",
              "      <th>43</th>\n",
              "      <td>0.000025</td>\n",
              "      <td>1.000000</td>\n",
              "      <td>1.252205</td>\n",
              "      <td>0.720094</td>\n",
              "    </tr>\n",
              "    <tr>\n",
              "      <th>44</th>\n",
              "      <td>0.000023</td>\n",
              "      <td>1.000000</td>\n",
              "      <td>1.249941</td>\n",
              "      <td>0.720094</td>\n",
              "    </tr>\n",
              "    <tr>\n",
              "      <th>45</th>\n",
              "      <td>0.000021</td>\n",
              "      <td>1.000000</td>\n",
              "      <td>1.258880</td>\n",
              "      <td>0.720094</td>\n",
              "    </tr>\n",
              "    <tr>\n",
              "      <th>46</th>\n",
              "      <td>0.000020</td>\n",
              "      <td>1.000000</td>\n",
              "      <td>1.264751</td>\n",
              "      <td>0.719312</td>\n",
              "    </tr>\n",
              "    <tr>\n",
              "      <th>47</th>\n",
              "      <td>0.000018</td>\n",
              "      <td>1.000000</td>\n",
              "      <td>1.252551</td>\n",
              "      <td>0.720876</td>\n",
              "    </tr>\n",
              "    <tr>\n",
              "      <th>48</th>\n",
              "      <td>0.000016</td>\n",
              "      <td>1.000000</td>\n",
              "      <td>1.285126</td>\n",
              "      <td>0.721658</td>\n",
              "    </tr>\n",
              "    <tr>\n",
              "      <th>49</th>\n",
              "      <td>0.000015</td>\n",
              "      <td>1.000000</td>\n",
              "      <td>1.269702</td>\n",
              "      <td>0.716966</td>\n",
              "    </tr>\n",
              "  </tbody>\n",
              "</table>\n",
              "</div>\n",
              "      <button class=\"colab-df-convert\" onclick=\"convertToInteractive('df-eb633a34-e729-43af-b4de-2a7f81dc23d2')\"\n",
              "              title=\"Convert this dataframe to an interactive table.\"\n",
              "              style=\"display:none;\">\n",
              "        \n",
              "  <svg xmlns=\"http://www.w3.org/2000/svg\" height=\"24px\"viewBox=\"0 0 24 24\"\n",
              "       width=\"24px\">\n",
              "    <path d=\"M0 0h24v24H0V0z\" fill=\"none\"/>\n",
              "    <path d=\"M18.56 5.44l.94 2.06.94-2.06 2.06-.94-2.06-.94-.94-2.06-.94 2.06-2.06.94zm-11 1L8.5 8.5l.94-2.06 2.06-.94-2.06-.94L8.5 2.5l-.94 2.06-2.06.94zm10 10l.94 2.06.94-2.06 2.06-.94-2.06-.94-.94-2.06-.94 2.06-2.06.94z\"/><path d=\"M17.41 7.96l-1.37-1.37c-.4-.4-.92-.59-1.43-.59-.52 0-1.04.2-1.43.59L10.3 9.45l-7.72 7.72c-.78.78-.78 2.05 0 2.83L4 21.41c.39.39.9.59 1.41.59.51 0 1.02-.2 1.41-.59l7.78-7.78 2.81-2.81c.8-.78.8-2.07 0-2.86zM5.41 20L4 18.59l7.72-7.72 1.47 1.35L5.41 20z\"/>\n",
              "  </svg>\n",
              "      </button>\n",
              "      \n",
              "  <style>\n",
              "    .colab-df-container {\n",
              "      display:flex;\n",
              "      flex-wrap:wrap;\n",
              "      gap: 12px;\n",
              "    }\n",
              "\n",
              "    .colab-df-convert {\n",
              "      background-color: #E8F0FE;\n",
              "      border: none;\n",
              "      border-radius: 50%;\n",
              "      cursor: pointer;\n",
              "      display: none;\n",
              "      fill: #1967D2;\n",
              "      height: 32px;\n",
              "      padding: 0 0 0 0;\n",
              "      width: 32px;\n",
              "    }\n",
              "\n",
              "    .colab-df-convert:hover {\n",
              "      background-color: #E2EBFA;\n",
              "      box-shadow: 0px 1px 2px rgba(60, 64, 67, 0.3), 0px 1px 3px 1px rgba(60, 64, 67, 0.15);\n",
              "      fill: #174EA6;\n",
              "    }\n",
              "\n",
              "    [theme=dark] .colab-df-convert {\n",
              "      background-color: #3B4455;\n",
              "      fill: #D2E3FC;\n",
              "    }\n",
              "\n",
              "    [theme=dark] .colab-df-convert:hover {\n",
              "      background-color: #434B5C;\n",
              "      box-shadow: 0px 1px 3px 1px rgba(0, 0, 0, 0.15);\n",
              "      filter: drop-shadow(0px 1px 2px rgba(0, 0, 0, 0.3));\n",
              "      fill: #FFFFFF;\n",
              "    }\n",
              "  </style>\n",
              "\n",
              "      <script>\n",
              "        const buttonEl =\n",
              "          document.querySelector('#df-eb633a34-e729-43af-b4de-2a7f81dc23d2 button.colab-df-convert');\n",
              "        buttonEl.style.display =\n",
              "          google.colab.kernel.accessAllowed ? 'block' : 'none';\n",
              "\n",
              "        async function convertToInteractive(key) {\n",
              "          const element = document.querySelector('#df-eb633a34-e729-43af-b4de-2a7f81dc23d2');\n",
              "          const dataTable =\n",
              "            await google.colab.kernel.invokeFunction('convertToInteractive',\n",
              "                                                     [key], {});\n",
              "          if (!dataTable) return;\n",
              "\n",
              "          const docLinkHtml = 'Like what you see? Visit the ' +\n",
              "            '<a target=\"_blank\" href=https://colab.research.google.com/notebooks/data_table.ipynb>data table notebook</a>'\n",
              "            + ' to learn more about interactive tables.';\n",
              "          element.innerHTML = '';\n",
              "          dataTable['output_type'] = 'display_data';\n",
              "          await google.colab.output.renderOutput(dataTable, element);\n",
              "          const docLink = document.createElement('div');\n",
              "          docLink.innerHTML = docLinkHtml;\n",
              "          element.appendChild(docLink);\n",
              "        }\n",
              "      </script>\n",
              "    </div>\n",
              "  </div>\n",
              "  "
            ]
          },
          "metadata": {},
          "execution_count": 47
        }
      ]
    },
    {
      "cell_type": "code",
      "source": [
        "histcnn_df.to_csv(\"drive/My Drive/Alzheimers_Mri_Segmentation/models/cnn/history/cnn.csv\")"
      ],
      "metadata": {
        "id": "URoO7Wn3mEVu"
      },
      "execution_count": null,
      "outputs": []
    },
    {
      "cell_type": "code",
      "source": [
        "# # SVM\n",
        "# loss, acc = model.evaluate(test_dataset)\n",
        "# print(\"Trained model, accuracy: {:5.2f}%\".format(100 * acc))"
      ],
      "metadata": {
        "id": "e2O2J2vn3T2d"
      },
      "execution_count": null,
      "outputs": []
    },
    {
      "cell_type": "code",
      "source": [],
      "metadata": {
        "id": "eEYh6sq1340a"
      },
      "execution_count": null,
      "outputs": []
    },
    {
      "cell_type": "code",
      "source": [],
      "metadata": {
        "id": "wpWU55Vo34w5"
      },
      "execution_count": null,
      "outputs": []
    },
    {
      "cell_type": "code",
      "source": [],
      "metadata": {
        "id": "rtJwJ25734uc"
      },
      "execution_count": null,
      "outputs": []
    },
    {
      "cell_type": "code",
      "source": [],
      "metadata": {
        "id": "p78kQfBTsIml"
      },
      "execution_count": null,
      "outputs": []
    },
    {
      "cell_type": "markdown",
      "source": [
        "# Custom SVM"
      ],
      "metadata": {
        "id": "rIVnbPUS35QE"
      }
    },
    {
      "cell_type": "code",
      "source": [
        "# SVM\n",
        "\n",
        "model= Sequential(name='Custom_CNN')\n",
        "\n",
        "\n",
        "model.add(Conv2D(32,(3,3),activation='relu',input_shape=(256,256,3)))\n",
        "\n",
        "model.add(MaxPooling2D(2,2))\n",
        "model.add(BatchNormalization())\n",
        "\n",
        "\n",
        "model.add(Conv2D(32,(3,3),activation='relu'))\n",
        "\n",
        "model.add(MaxPooling2D(2,2))\n",
        "model.add(BatchNormalization())\n",
        "\n",
        "\n",
        "model.add(Conv2D(64,(3,3),activation='relu'))\n",
        "\n",
        "model.add(MaxPooling2D(2,2))\n",
        "model.add(BatchNormalization())\n",
        "\n",
        "\n",
        "model.add(Conv2D(64,(3,3),activation='relu'))\n",
        "\n",
        "model.add(MaxPooling2D(2,2))\n",
        "model.add(BatchNormalization())\n",
        "\n",
        "model.add(Flatten())\n",
        "\n",
        "model.add(Dense(4,kernel_regularizer=l2(0.01), activation='softmax'))\n"
      ],
      "metadata": {
        "id": "rClZ6B9f-3cq"
      },
      "execution_count": null,
      "outputs": []
    },
    {
      "cell_type": "code",
      "source": [
        "model.compile(optimizer='adam', loss='categorical_crossentropy',metrics=METRICS)"
      ],
      "metadata": {
        "id": "YxU2m-ew_Tah"
      },
      "execution_count": null,
      "outputs": []
    },
    {
      "cell_type": "code",
      "source": [
        "history1 = model.fit(train_images, Y, validation_data=(test_images, Y_test), epochs=50)"
      ],
      "metadata": {
        "id": "5IABFWYg_UJP"
      },
      "execution_count": null,
      "outputs": []
    },
    {
      "cell_type": "code",
      "source": [
        "model.save('drive/My Drive/Alzheimers_Mri_Segmentation/models/svm/svmModel.h5')"
      ],
      "metadata": {
        "id": "6OIlMLHMmNkH"
      },
      "execution_count": null,
      "outputs": []
    },
    {
      "cell_type": "code",
      "source": [
        "histsvm_df = pd.DataFrame(history1.history)\n",
        "histsvm_df"
      ],
      "metadata": {
        "id": "Bv8H4YV_mjEN"
      },
      "execution_count": null,
      "outputs": []
    },
    {
      "cell_type": "code",
      "source": [
        "histsvm_df.to_csv(\"drive/My Drive/Alzheimers_Mri_Segmentation/models/svm/history/svm.csv\")"
      ],
      "metadata": {
        "id": "_3GiQAZkmaQ0"
      },
      "execution_count": null,
      "outputs": []
    },
    {
      "cell_type": "code",
      "source": [],
      "metadata": {
        "id": "OYXw3RmtV5h1"
      },
      "execution_count": null,
      "outputs": []
    },
    {
      "cell_type": "code",
      "source": [
        "# changeeeee"
      ],
      "metadata": {
        "id": "r969QZ9UV5ed"
      },
      "execution_count": null,
      "outputs": []
    },
    {
      "cell_type": "code",
      "source": [
        "very_mild = os.listdir(\"Alzheimer_s Dataset/train/VeryMildDemented\")\n",
        "mild = os.listdir(\"Alzheimer_s Dataset/train/MildDemented\")\n",
        "moderate = os.listdir(\"Alzheimer_s Dataset/train/ModerateDemented\")\n",
        "non = os.listdir(\"Alzheimer_s Dataset/train/NonDemented\")"
      ],
      "metadata": {
        "id": "VGvtofG5izQ2"
      },
      "execution_count": null,
      "outputs": []
    },
    {
      "cell_type": "code",
      "source": [],
      "metadata": {
        "id": "OUJ5orLfkftB"
      },
      "execution_count": null,
      "outputs": []
    },
    {
      "cell_type": "code",
      "source": [
        "very_mild =  [\"Alzheimer_s Dataset/train/VeryMildDemented/\"+element for element in very_mild]\n",
        "mild =  [\"Alzheimer_s Dataset/train/MildDemented/\"+element for element in mild]\n",
        "moderate =  [\"Alzheimer_s Dataset/train/ModerateDemented/\"+element for element in moderate]\n",
        "non =  [\"Alzheimer_s Dataset/train/NonDemented/\"+element for element in non]"
      ],
      "metadata": {
        "id": "8Fp_9EhBjh15"
      },
      "execution_count": null,
      "outputs": []
    },
    {
      "cell_type": "code",
      "source": [
        "import matplotlib.pyplot as plt\n",
        "import matplotlib.image as mpimg\n",
        "\n",
        "print(non[1])\n",
        "def view_image(directory):\n",
        "    img = mpimg.imread(directory)\n",
        "    plt.imshow(img)\n",
        "    plt.title(directory)\n",
        "    plt.axis('off')\n",
        "    print(f'Image shape:{img.shape}')\n",
        "    return img\n",
        "\n",
        "print('One of the data in Non Alzheimer Folder')\n",
        "view_image(non[1])"
      ],
      "metadata": {
        "id": "5E7NmTk7izME"
      },
      "execution_count": null,
      "outputs": []
    },
    {
      "cell_type": "code",
      "source": [
        "print('Alzheimer Patient\\'s Brain')\n",
        "view_image(moderate[1])"
      ],
      "metadata": {
        "id": "Mh3vnQwuizJ1"
      },
      "execution_count": null,
      "outputs": []
    },
    {
      "cell_type": "code",
      "source": [
        "from skimage.transform import resize\n",
        "import numpy as np\n",
        "from PIL import Image\n",
        "\n",
        "def extract_feature(dir_path):\n",
        "    img = mpimg.imread(dir_path)\n",
        "    img = img / 255.0  # normalize pixel values\n",
        "    img = resize(img, (128, 128, 3))  # convert all images to (128x128x3)\n",
        "    img = np.reshape(img, (128, 384))\n",
        "    return img\n",
        "\n",
        "non_ALZ = [extract_feature(filename) for filename in non]\n",
        "vmild_ALZ = [extract_feature(filename) for filename in very_mild]\n",
        "mild_ALZ = [extract_feature(filename) for filename in mild]\n",
        "moderate_ALZ = [extract_feature(filename) for filename in moderate]\n",
        "ALZ = vmild_ALZ + mild_ALZ + moderate_ALZ\n",
        "\n",
        "#List where arrays shall be stored\n",
        "resized_image_array=[]\n",
        "#List that will store the answer if an image is female (0) or male (1)\n",
        "resized_image_array_label=[]\n",
        "\n",
        "width = 256\n",
        "height = 256\n",
        "new_size = (width,height) #the data is just black to white \n",
        "\n",
        "#Iterate over pictures and resize them to 256 by 256\n",
        "def resizer(image_directory):\n",
        "    for file in image_directory: #tried with os.listdir but could work with os.walk as well\n",
        "        img = Image.open(file) #just putting image_directory or file does not work for google colab, interesting. \n",
        "        #preserve aspect ratio\n",
        "        img = img.resize(new_size)\n",
        "        array_temp = np.array(img)\n",
        "        shape_new = width*height\n",
        "        img_wide = array_temp.reshape(1, shape_new)\n",
        "        resized_image_array.append(img_wide[0])\n",
        "        if image_directory == non:\n",
        "            resized_image_array_label.append(0)\n",
        "        else:\n",
        "            resized_image_array_label.append(1)\n",
        "\n",
        "ALZ = very_mild + mild + moderate\n",
        "resizer(non)\n",
        "resizer(ALZ)"
      ],
      "metadata": {
        "id": "KntmUzTWizIZ"
      },
      "execution_count": null,
      "outputs": []
    },
    {
      "cell_type": "code",
      "source": [
        "resized_image_array[0]"
      ],
      "metadata": {
        "colab": {
          "base_uri": "https://localhost:8080/"
        },
        "id": "PB-X5vcYeb3y",
        "outputId": "ec4b529b-ca4e-48b5-be05-b4d28967de79"
      },
      "execution_count": null,
      "outputs": [
        {
          "output_type": "execute_result",
          "data": {
            "text/plain": [
              "array([0, 0, 0, ..., 0, 0, 0], dtype=uint8)"
            ]
          },
          "metadata": {},
          "execution_count": 63
        }
      ]
    },
    {
      "cell_type": "code",
      "source": [
        "print(len(non))\n",
        "print(len(ALZ)) #data are well transformed. Let's conduct SVM\n",
        "print(len(resized_image_array))\n",
        "print(resized_image_array[1])\n",
        "\n",
        "#split the data to test and training\n",
        "from sklearn.model_selection import train_test_split\n",
        "train_x, test_x, train_y, test_y = train_test_split(resized_image_array, resized_image_array_label, test_size = 0.2)"
      ],
      "metadata": {
        "colab": {
          "base_uri": "https://localhost:8080/"
        },
        "id": "2WU-Vpe4lcXW",
        "outputId": "9fa2fa02-0e12-4bf6-ac37-56b2767de51c"
      },
      "execution_count": null,
      "outputs": [
        {
          "output_type": "stream",
          "name": "stdout",
          "text": [
            "2560\n",
            "2561\n",
            "5121\n",
            "[0 0 0 ... 0 0 0]\n"
          ]
        }
      ]
    },
    {
      "cell_type": "code",
      "source": [
        "from sklearn import decomposition, preprocessing, svm\n",
        "import sklearn.metrics as metrics\n",
        "\n",
        "#train SVM model\n",
        "#from sklearn import svm\n",
        "clf = svm.SVC(kernel = 'linear')\n",
        "hist1 = clf.fit(train_x, train_y)\n",
        "#store predictions and ground truth\n",
        "y_pred = clf.predict(train_x)\n",
        "y_true = train_y\n",
        "\n",
        "#assess the performance of the SVM with linear kernel on Training data\n",
        "print('Accuracy : ', metrics.accuracy_score(y_true, y_pred))\n",
        "print('Precision : ', metrics.precision_score(y_true, y_pred))\n",
        "print('Recall : ', metrics.recall_score(y_true, y_pred))\n",
        "print('f1 : ', metrics.f1_score(y_true, y_pred)) \n",
        "print('Confusion matrix :', metrics.confusion_matrix(y_true, y_pred)) #The training seems to be done with high accuracy on training data.\n",
        "\n",
        "#Now, use the SVM model to predict Test data\n",
        "y_pred = clf.predict(test_x)\n",
        "y_true = test_y\n",
        "\n",
        "#assess the performance of the SVM with linear kernel on Testing data\n",
        "print('Accuracy : ', metrics.accuracy_score(y_true, y_pred))\n",
        "print('Precision : ', metrics.precision_score(y_true, y_pred))\n",
        "print('Recall : ', metrics.recall_score(y_true, y_pred))\n",
        "print('f1 : ', metrics.f1_score(y_true, y_pred)) \n",
        "print('Confusion matrix :', metrics.confusion_matrix(y_true, y_pred)) #Having high training data accuracy might mean that it is having some overfitting"
      ],
      "metadata": {
        "colab": {
          "base_uri": "https://localhost:8080/"
        },
        "id": "P1PNLAHYlluz",
        "outputId": "4fef1e3d-a68d-4825-ac9a-5bc612e2681c"
      },
      "execution_count": null,
      "outputs": [
        {
          "output_type": "stream",
          "name": "stdout",
          "text": [
            "Accuracy :  1.0\n",
            "Precision :  1.0\n",
            "Recall :  1.0\n",
            "f1 :  1.0\n",
            "Confusion matrix : [[2047    0]\n",
            " [   0 2049]]\n",
            "Accuracy :  0.9921951219512195\n",
            "Precision :  0.9902723735408561\n",
            "Recall :  0.994140625\n",
            "f1 :  0.9922027290448344\n",
            "Confusion matrix : [[508   5]\n",
            " [  3 509]]\n"
          ]
        }
      ]
    },
    {
      "cell_type": "code",
      "source": [
        "metrics.log_loss(y_true, y_pred)"
      ],
      "metadata": {
        "colab": {
          "base_uri": "https://localhost:8080/"
        },
        "id": "_j2noliAcgFr",
        "outputId": "6a26ce2a-1cd4-415c-e846-95e75df4df75"
      },
      "execution_count": null,
      "outputs": [
        {
          "output_type": "execute_result",
          "data": {
            "text/plain": [
              "0.26957483819164624"
            ]
          },
          "metadata": {},
          "execution_count": 52
        }
      ]
    },
    {
      "cell_type": "code",
      "source": [
        "from joblib import dump, load\n",
        "dump(clf, 'drive/My Drive/Alzheimers_Mri_Segmentation/models/svm/svm.joblib') "
      ],
      "metadata": {
        "colab": {
          "base_uri": "https://localhost:8080/"
        },
        "id": "wL0Kn-S-cseW",
        "outputId": "eb094acc-f471-4b17-a82a-b32634bda143"
      },
      "execution_count": null,
      "outputs": [
        {
          "output_type": "execute_result",
          "data": {
            "text/plain": [
              "['drive/My Drive/Alzheimers_Mri_Segmentation/models/svm/svm.joblib']"
            ]
          },
          "metadata": {},
          "execution_count": 58
        }
      ]
    },
    {
      "cell_type": "code",
      "source": [
        "s = load(\"svm.joblib\")"
      ],
      "metadata": {
        "id": "H_YnsfBKcsar"
      },
      "execution_count": null,
      "outputs": []
    },
    {
      "cell_type": "code",
      "source": [
        "test_x[0]"
      ],
      "metadata": {
        "colab": {
          "base_uri": "https://localhost:8080/"
        },
        "id": "BMMa1cVzeOtW",
        "outputId": "9edcc628-fe58-4944-f02e-05f531549e44"
      },
      "execution_count": null,
      "outputs": [
        {
          "output_type": "execute_result",
          "data": {
            "text/plain": [
              "array([0, 0, 0, ..., 0, 0, 0], dtype=uint8)"
            ]
          },
          "metadata": {},
          "execution_count": 62
        }
      ]
    },
    {
      "cell_type": "code",
      "source": [
        "y_pre = s.predict(test_x)\n",
        "y_tru = test_y\n",
        "\n",
        "#assess the performance of the SVM with linear kernel on Testing data\n",
        "print('Accuracy : ', metrics.accuracy_score(y_tru, y_pre))\n",
        "print('Precision : ', metrics.precision_score(y_tru, y_pre))\n",
        "print('Recall : ', metrics.recall_score(y_tru, y_pre))\n",
        "print('f1 : ', metrics.f1_score(y_tru, y_pre)) \n",
        "print('Confusion matrix :', metrics.confusion_matrix(y_tru, y_pre)) #Having high training data accuracy might mean that it is having some overfitting"
      ],
      "metadata": {
        "colab": {
          "base_uri": "https://localhost:8080/"
        },
        "id": "czRGuPz2csWM",
        "outputId": "e414987e-0250-4ac3-b3af-af0202665366"
      },
      "execution_count": null,
      "outputs": [
        {
          "output_type": "stream",
          "name": "stdout",
          "text": [
            "Accuracy :  0.9921951219512195\n",
            "Precision :  0.9902723735408561\n",
            "Recall :  0.994140625\n",
            "f1 :  0.9922027290448344\n",
            "Confusion matrix : [[508   5]\n",
            " [  3 509]]\n"
          ]
        }
      ]
    },
    {
      "cell_type": "code",
      "source": [
        "# Main"
      ],
      "metadata": {
        "id": "ow3wU-qke7T6"
      },
      "execution_count": null,
      "outputs": []
    },
    {
      "cell_type": "code",
      "source": [
        "\n",
        "resized_image_array=[]\n",
        "\n",
        "resized_image_array_label=[]\n",
        "\n",
        "width = 256\n",
        "height = 256\n",
        "new_size = (width,height) \n",
        "\n",
        "\n",
        "def resizer(image_directory):\n",
        "    for file in image_directory: \n",
        "        img = Image.open(file) \n",
        "        \n",
        "        img = img.resize(new_size)\n",
        "        array_temp = np.array(img)\n",
        "        shape_new = width*height\n",
        "        img_wide = array_temp.reshape(1, shape_new)\n",
        "        resized_image_array.append(img_wide[0])\n",
        "        if image_directory == non:\n",
        "            resized_image_array_label.append(0)\n",
        "        elif image_directory == very_mild:\n",
        "            resized_image_array_label.append(1)\n",
        "        elif image_directory == mild:\n",
        "            resized_image_array_label.append(2)\n",
        "        else:\n",
        "            resized_image_array_label.append(3)\n",
        "\n",
        "resizer(non)\n",
        "resizer(very_mild)\n",
        "resizer(mild)\n",
        "resizer(moderate)\n",
        "\n",
        "\n",
        "from sklearn.model_selection import train_test_split\n",
        "train_x, test_x, train_y, test_y = train_test_split(resized_image_array, resized_image_array_label, test_size = 0.2)\n",
        "\n",
        "\n",
        "\n",
        "clf = svm.SVC(kernel = 'linear')\n",
        "clf.fit(train_x, train_y)\n",
        "\n",
        "y_pred = clf.predict(train_x)\n",
        "y_true = train_y\n",
        "\n",
        "\n",
        "print('Accuracy : ', metrics.accuracy_score(y_true, y_pred))\n",
        "\n",
        "\n",
        "y_pred = clf.predict(test_x)\n",
        "y_true = test_y\n",
        "\n",
        "\n",
        "print('Accuracy : ', metrics.accuracy_score(y_true, y_pred))"
      ],
      "metadata": {
        "colab": {
          "base_uri": "https://localhost:8080/"
        },
        "id": "Po4aZdD0e5xo",
        "outputId": "754eea75-5dc1-458f-8d7b-2e6391d27e85"
      },
      "execution_count": null,
      "outputs": [
        {
          "output_type": "stream",
          "name": "stdout",
          "text": [
            "Accuracy :  1.0\n",
            "Accuracy :  0.9921951219512195\n"
          ]
        }
      ]
    },
    {
      "cell_type": "code",
      "source": [],
      "metadata": {
        "id": "-YkpBFRwe5tY"
      },
      "execution_count": null,
      "outputs": []
    },
    {
      "cell_type": "code",
      "source": [],
      "metadata": {
        "id": "dd6JFggqe5r0"
      },
      "execution_count": null,
      "outputs": []
    },
    {
      "cell_type": "code",
      "source": [],
      "metadata": {
        "id": "ECbZE_rBe5pk"
      },
      "execution_count": null,
      "outputs": []
    },
    {
      "cell_type": "code",
      "source": [],
      "metadata": {
        "id": "8PmDZXf4e5oH"
      },
      "execution_count": null,
      "outputs": []
    },
    {
      "cell_type": "code",
      "source": [
        "# #Train a SVM using polynomial kernel with degree of 2\n",
        "# clf = svm.SVC(kernel = 'poly', degree = 2)\n",
        "# hist2 = clf.fit(train_x, train_y)\n",
        "\n",
        "# #store predictions and ground truth\n",
        "# y_pred = clf.predict(train_x)\n",
        "# y_true = train_y\n",
        "\n",
        "# #assess the performance of the SVM with linear kernel on Training data\n",
        "# print('Accuracy : ', metrics.accuracy_score(y_true, y_pred))\n",
        "# print('Precision : ', metrics.precision_score(y_true, y_pred))\n",
        "# print('Recall : ', metrics.recall_score(y_true, y_pred))\n",
        "# print('f1 : ', metrics.f1_score(y_true, y_pred)) \n",
        "# print('Confusion matrix :', metrics.confusion_matrix(y_true, y_pred))\n",
        "\n",
        "# #Now, use the SVM model to predict Test data\n",
        "# y_pred = clf.predict(test_x)\n",
        "# y_true = test_y\n",
        "\n",
        "# #assess the performance of the SVM with linear kernel on Testing data\n",
        "# print('Accuracy : ', metrics.accuracy_score(y_true, y_pred))\n",
        "# print('Precision : ', metrics.precision_score(y_true, y_pred))\n",
        "# print('Recall : ', metrics.recall_score(y_true, y_pred))\n",
        "# print('f1 : ', metrics.f1_score(y_true, y_pred)) \n",
        "# print('Confusion matrix :', metrics.confusion_matrix(y_true, y_pred))"
      ],
      "metadata": {
        "id": "17Zz2CrPllrj"
      },
      "execution_count": null,
      "outputs": []
    },
    {
      "cell_type": "code",
      "source": [],
      "metadata": {
        "id": "Qhpu99d3WDzM"
      },
      "execution_count": null,
      "outputs": []
    },
    {
      "cell_type": "code",
      "source": [
        "#Train a SVM using RBF kernel\n",
        "# clf = svm.SVC(kernel = 'rbf')\n",
        "# hist3 = clf.fit(train_x, train_y)\n",
        "\n",
        "# #store predictions and ground truth\n",
        "# y_pred = clf.predict(train_x)\n",
        "# y_true = train_y\n",
        "\n",
        "# #assess the performance of the SVM with linear kernel on Training data\n",
        "# print('Accuracy : ', metrics.accuracy_score(y_true, y_pred))\n",
        "# print('Precision : ', metrics.precision_score(y_true, y_pred))\n",
        "# print('Recall : ', metrics.recall_score(y_true, y_pred))\n",
        "# print('f1 : ', metrics.f1_score(y_true, y_pred)) \n",
        "# print('Confusion matrix :', metrics.confusion_matrix(y_true, y_pred))\n",
        "\n",
        "# #Now, use the SVM model to predict Test data\n",
        "# y_pred = clf.predict(test_x)\n",
        "# y_true = test_y\n",
        "\n",
        "# #assess the performance of the SVM with linear kernel on Testing data\n",
        "# print('Accuracy : ', metrics.accuracy_score(y_true, y_pred))\n",
        "# print('Precision : ', metrics.precision_score(y_true, y_pred))\n",
        "# print('Recall : ', metrics.recall_score(y_true, y_pred))\n",
        "# print('f1 : ', metrics.f1_score(y_true, y_pred)) \n",
        "# print('loss : ', metrics.loss_score(y_true, y_pred))\n",
        "# print('Confusion matrix :', metrics.confusion_matrix(y_true, y_pred))"
      ],
      "metadata": {
        "id": "oJqIOLArnoQo"
      },
      "execution_count": null,
      "outputs": []
    },
    {
      "cell_type": "code",
      "source": [],
      "metadata": {
        "id": "LVzOPMk1noNI"
      },
      "execution_count": null,
      "outputs": []
    },
    {
      "cell_type": "code",
      "source": [
        "hist1"
      ],
      "metadata": {
        "colab": {
          "base_uri": "https://localhost:8080/"
        },
        "id": "a0qm_mMDnoKa",
        "outputId": "93174c84-658b-4eb5-d8eb-718a87756f4e"
      },
      "execution_count": null,
      "outputs": [
        {
          "output_type": "execute_result",
          "data": {
            "text/plain": [
              "SVC(kernel='linear')"
            ]
          },
          "metadata": {},
          "execution_count": 42
        }
      ]
    },
    {
      "cell_type": "code",
      "source": [
        "hist2"
      ],
      "metadata": {
        "colab": {
          "base_uri": "https://localhost:8080/"
        },
        "id": "U51UeEv3noH9",
        "outputId": "d520a7db-77e8-4d1f-afd1-42ea4ab3b045"
      },
      "execution_count": null,
      "outputs": [
        {
          "output_type": "execute_result",
          "data": {
            "text/plain": [
              "SVC(degree=2, kernel='poly')"
            ]
          },
          "metadata": {},
          "execution_count": 37
        }
      ]
    },
    {
      "cell_type": "code",
      "source": [
        "hist3"
      ],
      "metadata": {
        "colab": {
          "base_uri": "https://localhost:8080/"
        },
        "id": "R7aYTxcRlln_",
        "outputId": "b191c4c3-75c8-4351-fc80-510da8b993b9"
      },
      "execution_count": null,
      "outputs": [
        {
          "output_type": "execute_result",
          "data": {
            "text/plain": [
              "SVC()"
            ]
          },
          "metadata": {},
          "execution_count": 38
        }
      ]
    },
    {
      "cell_type": "code",
      "source": [],
      "metadata": {
        "id": "94a7TMFTyzxC"
      },
      "execution_count": null,
      "outputs": []
    },
    {
      "cell_type": "code",
      "source": [],
      "metadata": {
        "id": "HAya6K4Yyztq"
      },
      "execution_count": null,
      "outputs": []
    },
    {
      "cell_type": "code",
      "source": [],
      "metadata": {
        "id": "0CtW2PD-yzqx"
      },
      "execution_count": null,
      "outputs": []
    },
    {
      "cell_type": "code",
      "source": [
        "from PIL import Image"
      ],
      "metadata": {
        "id": "4E0EURb_efvj"
      },
      "execution_count": null,
      "outputs": []
    },
    {
      "cell_type": "code",
      "source": [
        "#List where arrays shall be stored\n",
        "resized_image_array=[]\n",
        "#List that will store the answer if an image is female (0) or male (1)\n",
        "resized_image_array_label=[]\n",
        "\n",
        "width = 256\n",
        "height = 256\n",
        "new_size = (width,height) #the data is just black to white \n",
        "\n",
        "#Iterate over pictures and resize them to 256 by 256\n",
        "def resizer(image_directory):\n",
        "    for file in image_directory: #tried with os.listdir but could work with os.walk as well\n",
        "        img = Image.open(file) #just putting image_directory or file does not work for google colab, interesting. \n",
        "        #preserve aspect ratio\n",
        "        img = img.resize(new_size)\n",
        "        array_temp = np.array(img)\n",
        "        shape_new = width*height\n",
        "        img_wide = array_temp.reshape(1, shape_new)\n",
        "        resized_image_array.append(img_wide[0])\n",
        "        if image_directory == non:\n",
        "            resized_image_array_label.append(0)\n",
        "        else:\n",
        "            resized_image_array_label.append(1)\n",
        "\n",
        "ALZ = very_mild + mild + moderate\n",
        "resizer(non)\n",
        "resizer(ALZ)"
      ],
      "metadata": {
        "id": "o--hKfL3efsh"
      },
      "execution_count": null,
      "outputs": []
    },
    {
      "cell_type": "code",
      "source": [
        "# non"
      ],
      "metadata": {
        "colab": {
          "base_uri": "https://localhost:8080/"
        },
        "id": "91bByRCqfFDi",
        "outputId": "dfdb72fb-c77b-4660-9729-89d009623ca9"
      },
      "execution_count": null,
      "outputs": [
        {
          "output_type": "execute_result",
          "data": {
            "text/plain": [
              "[]"
            ]
          },
          "metadata": {},
          "execution_count": 49
        }
      ]
    },
    {
      "cell_type": "code",
      "source": [
        "# print(non[1])\n",
        "# def view_image(directory):\n",
        "#     img = mpimg.imread(directory)\n",
        "#     plt.imshow(img)\n",
        "#     plt.title(directory)\n",
        "#     plt.axis('off')\n",
        "#     print(f'Image shape:{img.shape}')\n",
        "#     return img\n",
        "\n",
        "# print('One of the data in Non Alzheimer Folder')\n",
        "# view_image(non[1])"
      ],
      "metadata": {
        "id": "3UCzpghzefqE"
      },
      "execution_count": null,
      "outputs": []
    },
    {
      "cell_type": "code",
      "source": [
        "Y_test.shape"
      ],
      "metadata": {
        "id": "hfCE1uqkmddA",
        "colab": {
          "base_uri": "https://localhost:8080/"
        },
        "outputId": "1669590c-cec2-421f-8915-9e38e5687745"
      },
      "execution_count": null,
      "outputs": [
        {
          "output_type": "execute_result",
          "data": {
            "text/plain": [
              "(1279, 2)"
            ]
          },
          "metadata": {},
          "execution_count": 28
        }
      ]
    },
    {
      "cell_type": "code",
      "source": [
        "from sklearn import decomposition, preprocessing, svm\n",
        "import sklearn.metrics as metrics\n",
        "\n",
        "# #train SVM model\n",
        "# #from sklearn import svm\n",
        "# clf = svm.SVC(kernel = 'linear')\n",
        "# clf.fit(train_images, Y)\n",
        "# #store predictions and ground truth\n",
        "# y_pred = clf.predict(train_images)\n",
        "# y_true = Y\n",
        "\n",
        "# #assess the performance of the SVM with linear kernel on Training data\n",
        "# print('Accuracy : ', metrics.accuracy_score(y_true, y_pred))\n",
        "# print('Precision : ', metrics.precision_score(y_true, y_pred))\n",
        "# print('Recall : ', metrics.recall_score(y_true, y_pred))\n",
        "# print('f1 : ', metrics.f1_score(y_true, y_pred)) \n",
        "# print('Confusion matrix :', metrics.confusion_matrix(y_true, y_pred)) #The training seems to be done with high accuracy on training data.\n",
        "\n",
        "# #Now, use the SVM model to predict Test data\n",
        "# y_pred = clf.predict(test_images)\n",
        "# y_true = Y\n",
        "\n",
        "# #assess the performance of the SVM with linear kernel on Testing data\n",
        "# print('Accuracy : ', metrics.accuracy_score(y_true, y_pred))\n",
        "# print('Precision : ', metrics.precision_score(y_true, y_pred))\n",
        "# print('Recall : ', metrics.recall_score(y_true, y_pred))\n",
        "# print('f1 : ', metrics.f1_score(y_true, y_pred)) \n",
        "# print('Confusion matrix :', metrics.confusion_matrix(y_true, y_pred)) #Having high training data accuracy might mean that it is having some overfitting"
      ],
      "metadata": {
        "id": "ydcdh1ed38Rq"
      },
      "execution_count": null,
      "outputs": []
    },
    {
      "cell_type": "code",
      "source": [
        "# # print('Accuracy : ', metrics.accuracy_score(y_true, y_pred))\n",
        "# #Train a SVM using RBF kernel\n",
        "# clf = svm.SVC(kernel = 'rbf')\n",
        "# clf.fit(train_images, Y)\n",
        "\n",
        "# #store predictions and ground truth\n",
        "# y_pred = clf.predict(train_images)\n",
        "# y_true = Y\n",
        "\n",
        "# #assess the performance of the SVM with linear kernel on Training data\n",
        "# print('Accuracy : ', metrics.accuracy_score(y_true, y_pred))\n",
        "\n",
        "# #Now, use the SVM model to predict Test data\n",
        "# y_pred = clf.predict(test_images)\n",
        "# y_true = Y_test\n",
        "\n",
        "# #assess the performance of the SVM with linear kernel on Testing data\n",
        "# print('Accuracy : ', metrics.accuracy_score(y_true, y_pred))"
      ],
      "metadata": {
        "id": "IvclrOU938OK"
      },
      "execution_count": null,
      "outputs": []
    },
    {
      "cell_type": "code",
      "source": [],
      "metadata": {
        "id": "FVMF8TWu38LY"
      },
      "execution_count": null,
      "outputs": []
    },
    {
      "cell_type": "markdown",
      "source": [
        "# Inception V3"
      ],
      "metadata": {
        "id": "pWORD1hd38kQ"
      }
    },
    {
      "cell_type": "code",
      "source": [
        "from keras.applications.inception_v3 import InceptionV3\n",
        "inception_model = InceptionV3(input_shape=(256, 256, 3), include_top=False, weights=\"imagenet\")"
      ],
      "metadata": {
        "colab": {
          "base_uri": "https://localhost:8080/"
        },
        "id": "qsfw8ul3H2-b",
        "outputId": "fe7a66de-eacb-4c30-afc1-47b2953eee22"
      },
      "execution_count": null,
      "outputs": [
        {
          "output_type": "stream",
          "name": "stdout",
          "text": [
            "Downloading data from https://storage.googleapis.com/tensorflow/keras-applications/inception_v3/inception_v3_weights_tf_dim_ordering_tf_kernels_notop.h5\n",
            "87910968/87910968 [==============================] - 1s 0us/step\n"
          ]
        }
      ]
    },
    {
      "cell_type": "code",
      "source": [
        "for layer in inception_model.layers:\n",
        "    layer.trainable=False"
      ],
      "metadata": {
        "id": "3q1cmaSDH3Sy"
      },
      "execution_count": null,
      "outputs": []
    },
    {
      "cell_type": "code",
      "source": [
        "from keras.models import Sequential\n",
        "from keras.layers import InputLayer, BatchNormalization, Dropout, Flatten, Dense, Activation, MaxPool2D, Conv2D, GlobalAveragePooling2D\n",
        "\n",
        "modelInception = Sequential([\n",
        "        inception_model,\n",
        "        Dropout(0.5),\n",
        "        GlobalAveragePooling2D(),\n",
        "        Flatten(),\n",
        "        BatchNormalization(),\n",
        "        Dense(512, activation='relu'),\n",
        "        BatchNormalization(),\n",
        "        Dropout(0.5),\n",
        "        Dense(256, activation='relu'),\n",
        "        BatchNormalization(),\n",
        "        Dropout(0.5),\n",
        "        Dense(128, activation='relu'),\n",
        "        BatchNormalization(),\n",
        "        Dropout(0.5),\n",
        "        Dense(64, activation='relu'),\n",
        "        Dropout(0.5),\n",
        "        BatchNormalization(),\n",
        "        Dense(4, activation='softmax')        \n",
        "    ], name = \"Inception_CNN_Model\")"
      ],
      "metadata": {
        "id": "I627a2jsH9tY"
      },
      "execution_count": null,
      "outputs": []
    },
    {
      "cell_type": "code",
      "source": [
        "import tensorflow as tf\n",
        "modelInception.compile(optimizer='adam',\n",
        "                              loss=tf.losses.CategoricalCrossentropy(),\n",
        "                              metrics=METRICS)\n",
        "\n",
        "modelInception.summary()"
      ],
      "metadata": {
        "colab": {
          "base_uri": "https://localhost:8080/"
        },
        "id": "Zth8MYiuIFrw",
        "outputId": "3e1a6443-2ff6-47aa-b851-572d7dfb345a"
      },
      "execution_count": null,
      "outputs": [
        {
          "output_type": "stream",
          "name": "stdout",
          "text": [
            "Model: \"Inception_CNN_Model\"\n",
            "_________________________________________________________________\n",
            " Layer (type)                Output Shape              Param #   \n",
            "=================================================================\n",
            " inception_v3 (Functional)   (None, 6, 6, 2048)        21802784  \n",
            "                                                                 \n",
            " dropout (Dropout)           (None, 6, 6, 2048)        0         \n",
            "                                                                 \n",
            " global_average_pooling2d (G  (None, 2048)             0         \n",
            " lobalAveragePooling2D)                                          \n",
            "                                                                 \n",
            " flatten_2 (Flatten)         (None, 2048)              0         \n",
            "                                                                 \n",
            " batch_normalization_102 (Ba  (None, 2048)             8192      \n",
            " tchNormalization)                                               \n",
            "                                                                 \n",
            " dense_2 (Dense)             (None, 512)               1049088   \n",
            "                                                                 \n",
            " batch_normalization_103 (Ba  (None, 512)              2048      \n",
            " tchNormalization)                                               \n",
            "                                                                 \n",
            " dropout_1 (Dropout)         (None, 512)               0         \n",
            "                                                                 \n",
            " dense_3 (Dense)             (None, 256)               131328    \n",
            "                                                                 \n",
            " batch_normalization_104 (Ba  (None, 256)              1024      \n",
            " tchNormalization)                                               \n",
            "                                                                 \n",
            " dropout_2 (Dropout)         (None, 256)               0         \n",
            "                                                                 \n",
            " dense_4 (Dense)             (None, 128)               32896     \n",
            "                                                                 \n",
            " batch_normalization_105 (Ba  (None, 128)              512       \n",
            " tchNormalization)                                               \n",
            "                                                                 \n",
            " dropout_3 (Dropout)         (None, 128)               0         \n",
            "                                                                 \n",
            " dense_5 (Dense)             (None, 64)                8256      \n",
            "                                                                 \n",
            " dropout_4 (Dropout)         (None, 64)                0         \n",
            "                                                                 \n",
            " batch_normalization_106 (Ba  (None, 64)               256       \n",
            " tchNormalization)                                               \n",
            "                                                                 \n",
            " dense_6 (Dense)             (None, 4)                 260       \n",
            "                                                                 \n",
            "=================================================================\n",
            "Total params: 23,036,644\n",
            "Trainable params: 1,227,844\n",
            "Non-trainable params: 21,808,800\n",
            "_________________________________________________________________\n"
          ]
        }
      ]
    },
    {
      "cell_type": "code",
      "source": [
        "history2 = modelInception.fit(train_images, Y, validation_data=(test_images, Y_test), epochs=50)\n"
      ],
      "metadata": {
        "colab": {
          "base_uri": "https://localhost:8080/"
        },
        "id": "UFGMIFbcIaC5",
        "outputId": "d3dddf93-73c1-49d3-cc79-5e8dd02272e4"
      },
      "execution_count": null,
      "outputs": [
        {
          "output_type": "stream",
          "name": "stdout",
          "text": [
            "Epoch 1/50\n",
            "161/161 [==============================] - 27s 132ms/step - loss: 1.4322 - accuracy: 0.4277 - val_loss: 1.5501 - val_accuracy: 0.5301\n",
            "Epoch 2/50\n",
            "161/161 [==============================] - 18s 113ms/step - loss: 1.1224 - accuracy: 0.5118 - val_loss: 1.2498 - val_accuracy: 0.5129\n",
            "Epoch 3/50\n",
            "161/161 [==============================] - 18s 112ms/step - loss: 0.9972 - accuracy: 0.5388 - val_loss: 1.0061 - val_accuracy: 0.5371\n",
            "Epoch 4/50\n",
            "161/161 [==============================] - 18s 111ms/step - loss: 0.9340 - accuracy: 0.5663 - val_loss: 1.0084 - val_accuracy: 0.5340\n",
            "Epoch 5/50\n",
            "161/161 [==============================] - 18s 111ms/step - loss: 0.9005 - accuracy: 0.5739 - val_loss: 0.9520 - val_accuracy: 0.5551\n",
            "Epoch 6/50\n",
            "161/161 [==============================] - 18s 112ms/step - loss: 0.8761 - accuracy: 0.5895 - val_loss: 1.0569 - val_accuracy: 0.5504\n",
            "Epoch 7/50\n",
            "161/161 [==============================] - 18s 112ms/step - loss: 0.8528 - accuracy: 0.6048 - val_loss: 0.9342 - val_accuracy: 0.5700\n",
            "Epoch 8/50\n",
            "161/161 [==============================] - 18s 111ms/step - loss: 0.8285 - accuracy: 0.6186 - val_loss: 0.9791 - val_accuracy: 0.5661\n",
            "Epoch 9/50\n",
            "161/161 [==============================] - 18s 111ms/step - loss: 0.8283 - accuracy: 0.6192 - val_loss: 0.9372 - val_accuracy: 0.5770\n",
            "Epoch 10/50\n",
            "161/161 [==============================] - 20s 122ms/step - loss: 0.8094 - accuracy: 0.6317 - val_loss: 0.9414 - val_accuracy: 0.5801\n",
            "Epoch 11/50\n",
            "161/161 [==============================] - 18s 113ms/step - loss: 0.7867 - accuracy: 0.6438 - val_loss: 0.9836 - val_accuracy: 0.5778\n",
            "Epoch 12/50\n",
            "161/161 [==============================] - 18s 113ms/step - loss: 0.7865 - accuracy: 0.6442 - val_loss: 0.9543 - val_accuracy: 0.5770\n",
            "Epoch 13/50\n",
            "161/161 [==============================] - 18s 114ms/step - loss: 0.7642 - accuracy: 0.6630 - val_loss: 1.1319 - val_accuracy: 0.5801\n",
            "Epoch 14/50\n",
            "161/161 [==============================] - 18s 113ms/step - loss: 0.7393 - accuracy: 0.6764 - val_loss: 1.0003 - val_accuracy: 0.5801\n",
            "Epoch 15/50\n",
            "161/161 [==============================] - 18s 113ms/step - loss: 0.7284 - accuracy: 0.6823 - val_loss: 1.0278 - val_accuracy: 0.5919\n",
            "Epoch 16/50\n",
            "161/161 [==============================] - 18s 112ms/step - loss: 0.7043 - accuracy: 0.7069 - val_loss: 0.9521 - val_accuracy: 0.5895\n",
            "Epoch 17/50\n",
            "161/161 [==============================] - 18s 112ms/step - loss: 0.6904 - accuracy: 0.7022 - val_loss: 0.9522 - val_accuracy: 0.5903\n",
            "Epoch 18/50\n",
            "161/161 [==============================] - 18s 113ms/step - loss: 0.6587 - accuracy: 0.7274 - val_loss: 0.9864 - val_accuracy: 0.5809\n",
            "Epoch 19/50\n",
            "161/161 [==============================] - 18s 113ms/step - loss: 0.6477 - accuracy: 0.7338 - val_loss: 1.0055 - val_accuracy: 0.5864\n",
            "Epoch 20/50\n",
            "161/161 [==============================] - 18s 113ms/step - loss: 0.6245 - accuracy: 0.7438 - val_loss: 1.0227 - val_accuracy: 0.5895\n",
            "Epoch 21/50\n",
            "161/161 [==============================] - 18s 113ms/step - loss: 0.6099 - accuracy: 0.7551 - val_loss: 1.0079 - val_accuracy: 0.6044\n",
            "Epoch 22/50\n",
            "161/161 [==============================] - 18s 113ms/step - loss: 0.6114 - accuracy: 0.7502 - val_loss: 1.0767 - val_accuracy: 0.5794\n",
            "Epoch 23/50\n",
            "161/161 [==============================] - 18s 113ms/step - loss: 0.5833 - accuracy: 0.7725 - val_loss: 1.1157 - val_accuracy: 0.5895\n",
            "Epoch 24/50\n",
            "161/161 [==============================] - 18s 112ms/step - loss: 0.5583 - accuracy: 0.7752 - val_loss: 1.0634 - val_accuracy: 0.5668\n",
            "Epoch 25/50\n",
            "161/161 [==============================] - 18s 113ms/step - loss: 0.5529 - accuracy: 0.7823 - val_loss: 1.0784 - val_accuracy: 0.5833\n",
            "Epoch 26/50\n",
            "161/161 [==============================] - 18s 113ms/step - loss: 0.5414 - accuracy: 0.7848 - val_loss: 1.0632 - val_accuracy: 0.5919\n",
            "Epoch 27/50\n",
            "161/161 [==============================] - 18s 113ms/step - loss: 0.5314 - accuracy: 0.7877 - val_loss: 1.0780 - val_accuracy: 0.5927\n",
            "Epoch 28/50\n",
            "161/161 [==============================] - 18s 113ms/step - loss: 0.5234 - accuracy: 0.7899 - val_loss: 1.1701 - val_accuracy: 0.5997\n",
            "Epoch 29/50\n",
            "161/161 [==============================] - 18s 114ms/step - loss: 0.4978 - accuracy: 0.8079 - val_loss: 1.1640 - val_accuracy: 0.5981\n",
            "Epoch 30/50\n",
            "161/161 [==============================] - 18s 113ms/step - loss: 0.5061 - accuracy: 0.8100 - val_loss: 1.0917 - val_accuracy: 0.5973\n",
            "Epoch 31/50\n",
            "161/161 [==============================] - 18s 113ms/step - loss: 0.4819 - accuracy: 0.8133 - val_loss: 1.0632 - val_accuracy: 0.5903\n",
            "Epoch 32/50\n",
            "161/161 [==============================] - 18s 113ms/step - loss: 0.4860 - accuracy: 0.8121 - val_loss: 1.1321 - val_accuracy: 0.5989\n",
            "Epoch 33/50\n",
            "161/161 [==============================] - 18s 113ms/step - loss: 0.4737 - accuracy: 0.8202 - val_loss: 1.1729 - val_accuracy: 0.5981\n",
            "Epoch 34/50\n",
            "161/161 [==============================] - 20s 123ms/step - loss: 0.4516 - accuracy: 0.8307 - val_loss: 1.1820 - val_accuracy: 0.5981\n",
            "Epoch 35/50\n",
            "161/161 [==============================] - 18s 113ms/step - loss: 0.4432 - accuracy: 0.8315 - val_loss: 1.0915 - val_accuracy: 0.5981\n",
            "Epoch 36/50\n",
            "161/161 [==============================] - 18s 113ms/step - loss: 0.4346 - accuracy: 0.8291 - val_loss: 1.1990 - val_accuracy: 0.6145\n",
            "Epoch 37/50\n",
            "161/161 [==============================] - 18s 113ms/step - loss: 0.4265 - accuracy: 0.8385 - val_loss: 1.1808 - val_accuracy: 0.6177\n",
            "Epoch 38/50\n",
            "161/161 [==============================] - 18s 113ms/step - loss: 0.4085 - accuracy: 0.8457 - val_loss: 1.1397 - val_accuracy: 0.6099\n",
            "Epoch 39/50\n",
            "161/161 [==============================] - 18s 113ms/step - loss: 0.4144 - accuracy: 0.8328 - val_loss: 1.0968 - val_accuracy: 0.6059\n",
            "Epoch 40/50\n",
            "161/161 [==============================] - 18s 113ms/step - loss: 0.4118 - accuracy: 0.8448 - val_loss: 1.1905 - val_accuracy: 0.6114\n",
            "Epoch 41/50\n",
            "161/161 [==============================] - 18s 114ms/step - loss: 0.3918 - accuracy: 0.8510 - val_loss: 1.1204 - val_accuracy: 0.6177\n",
            "Epoch 42/50\n",
            "161/161 [==============================] - 18s 113ms/step - loss: 0.3890 - accuracy: 0.8533 - val_loss: 1.1999 - val_accuracy: 0.6192\n",
            "Epoch 43/50\n",
            "161/161 [==============================] - 18s 113ms/step - loss: 0.3851 - accuracy: 0.8545 - val_loss: 1.1649 - val_accuracy: 0.5981\n",
            "Epoch 44/50\n",
            "161/161 [==============================] - 18s 112ms/step - loss: 0.4038 - accuracy: 0.8479 - val_loss: 1.1531 - val_accuracy: 0.6036\n",
            "Epoch 45/50\n",
            "161/161 [==============================] - 18s 112ms/step - loss: 0.3754 - accuracy: 0.8555 - val_loss: 1.2022 - val_accuracy: 0.6177\n",
            "Epoch 46/50\n",
            "161/161 [==============================] - 18s 112ms/step - loss: 0.3691 - accuracy: 0.8612 - val_loss: 1.2860 - val_accuracy: 0.6185\n",
            "Epoch 47/50\n",
            "161/161 [==============================] - 18s 113ms/step - loss: 0.3633 - accuracy: 0.8612 - val_loss: 1.3349 - val_accuracy: 0.6224\n",
            "Epoch 48/50\n",
            "161/161 [==============================] - 18s 112ms/step - loss: 0.3467 - accuracy: 0.8655 - val_loss: 1.3154 - val_accuracy: 0.6341\n",
            "Epoch 49/50\n",
            "161/161 [==============================] - 18s 112ms/step - loss: 0.3581 - accuracy: 0.8635 - val_loss: 1.4690 - val_accuracy: 0.6114\n",
            "Epoch 50/50\n",
            "161/161 [==============================] - 18s 112ms/step - loss: 0.3565 - accuracy: 0.8692 - val_loss: 1.2891 - val_accuracy: 0.6239\n"
          ]
        }
      ]
    },
    {
      "cell_type": "code",
      "source": [
        "modelInception.save('drive/My Drive/Alzheimers_Mri_Segmentation/models/inception_v3/inceptionV3Model.h5')"
      ],
      "metadata": {
        "id": "doqkb0HlJHDH"
      },
      "execution_count": null,
      "outputs": []
    },
    {
      "cell_type": "code",
      "source": [
        "import pandas as pd\n",
        "\n",
        "histinception_v3_df = pd.DataFrame(history2.history)\n",
        "histinception_v3_df"
      ],
      "metadata": {
        "colab": {
          "base_uri": "https://localhost:8080/",
          "height": 1000
        },
        "id": "i22HoMkzJYJS",
        "outputId": "7f8bab6c-8ead-47ad-ccda-b395689f827a"
      },
      "execution_count": null,
      "outputs": [
        {
          "output_type": "execute_result",
          "data": {
            "text/plain": [
              "        loss  accuracy  val_loss  val_accuracy\n",
              "0   1.432243  0.427651  1.550084      0.530102\n",
              "1   1.122427  0.511814  1.249848      0.512901\n",
              "2   0.997247  0.538762  1.006062      0.537138\n",
              "3   0.933963  0.566296  1.008434      0.534011\n",
              "4   0.900540  0.573911  0.952023      0.555121\n",
              "5   0.876112  0.589533  1.056864      0.550430\n",
              "6   0.852759  0.604765  0.934206      0.569977\n",
              "7   0.828493  0.618629  0.979138      0.566067\n",
              "8   0.828349  0.619215  0.937249      0.577013\n",
              "9   0.809367  0.631713  0.941358      0.580141\n",
              "10  0.786726  0.643820  0.983632      0.577795\n",
              "11  0.786521  0.644210  0.954284      0.577013\n",
              "12  0.764240  0.662956  1.131890      0.580141\n",
              "13  0.739302  0.676430  1.000259      0.580141\n",
              "14  0.728421  0.682289  1.027798      0.591869\n",
              "15  0.704275  0.706893  0.952142      0.589523\n",
              "16  0.690393  0.702207  0.952176      0.590305\n",
              "17  0.658657  0.727397  0.986352      0.580923\n",
              "18  0.647716  0.733841  1.005489      0.586396\n",
              "19  0.624523  0.743800  1.022653      0.589523\n",
              "20  0.609906  0.755126  1.007869      0.604378\n",
              "21  0.611362  0.750244  1.076706      0.579359\n",
              "22  0.583257  0.772505  1.115734      0.589523\n",
              "23  0.558347  0.775239  1.063376      0.566849\n",
              "24  0.552918  0.782269  1.078428      0.583268\n",
              "25  0.541430  0.784808  1.063180      0.591869\n",
              "26  0.531372  0.787737  1.077990      0.592651\n",
              "27  0.523395  0.789885  1.170100      0.599687\n",
              "28  0.497841  0.807850  1.164021      0.598124\n",
              "29  0.506148  0.809998  1.091703      0.597342\n",
              "30  0.481856  0.813318  1.063161      0.590305\n",
              "31  0.485954  0.812146  1.132061      0.598905\n",
              "32  0.473709  0.820152  1.172911      0.598124\n",
              "33  0.451622  0.830697  1.182038      0.598124\n",
              "34  0.443203  0.831478  1.091526      0.598124\n",
              "35  0.434626  0.829135  1.199037      0.614543\n",
              "36  0.426548  0.838508  1.180842      0.617670\n",
              "37  0.408498  0.845733  1.139735      0.609851\n",
              "38  0.414367  0.832845  1.096775      0.605942\n",
              "39  0.411800  0.844757  1.190508      0.611415\n",
              "40  0.391781  0.851006  1.120372      0.617670\n",
              "41  0.389007  0.853349  1.199877      0.619234\n",
              "42  0.385142  0.854521  1.164893      0.598124\n",
              "43  0.403755  0.847881  1.153078      0.603597\n",
              "44  0.375436  0.855497  1.202235      0.617670\n",
              "45  0.369080  0.861160  1.285974      0.618452\n",
              "46  0.363333  0.861160  1.334870      0.622361\n",
              "47  0.346708  0.865456  1.315368      0.634089\n",
              "48  0.358134  0.863503  1.469009      0.611415\n",
              "49  0.356510  0.869166  1.289065      0.623925"
            ],
            "text/html": [
              "\n",
              "  <div id=\"df-eb69ee0b-2fe6-4b6d-a039-7c0bd2f996ba\">\n",
              "    <div class=\"colab-df-container\">\n",
              "      <div>\n",
              "<style scoped>\n",
              "    .dataframe tbody tr th:only-of-type {\n",
              "        vertical-align: middle;\n",
              "    }\n",
              "\n",
              "    .dataframe tbody tr th {\n",
              "        vertical-align: top;\n",
              "    }\n",
              "\n",
              "    .dataframe thead th {\n",
              "        text-align: right;\n",
              "    }\n",
              "</style>\n",
              "<table border=\"1\" class=\"dataframe\">\n",
              "  <thead>\n",
              "    <tr style=\"text-align: right;\">\n",
              "      <th></th>\n",
              "      <th>loss</th>\n",
              "      <th>accuracy</th>\n",
              "      <th>val_loss</th>\n",
              "      <th>val_accuracy</th>\n",
              "    </tr>\n",
              "  </thead>\n",
              "  <tbody>\n",
              "    <tr>\n",
              "      <th>0</th>\n",
              "      <td>1.432243</td>\n",
              "      <td>0.427651</td>\n",
              "      <td>1.550084</td>\n",
              "      <td>0.530102</td>\n",
              "    </tr>\n",
              "    <tr>\n",
              "      <th>1</th>\n",
              "      <td>1.122427</td>\n",
              "      <td>0.511814</td>\n",
              "      <td>1.249848</td>\n",
              "      <td>0.512901</td>\n",
              "    </tr>\n",
              "    <tr>\n",
              "      <th>2</th>\n",
              "      <td>0.997247</td>\n",
              "      <td>0.538762</td>\n",
              "      <td>1.006062</td>\n",
              "      <td>0.537138</td>\n",
              "    </tr>\n",
              "    <tr>\n",
              "      <th>3</th>\n",
              "      <td>0.933963</td>\n",
              "      <td>0.566296</td>\n",
              "      <td>1.008434</td>\n",
              "      <td>0.534011</td>\n",
              "    </tr>\n",
              "    <tr>\n",
              "      <th>4</th>\n",
              "      <td>0.900540</td>\n",
              "      <td>0.573911</td>\n",
              "      <td>0.952023</td>\n",
              "      <td>0.555121</td>\n",
              "    </tr>\n",
              "    <tr>\n",
              "      <th>5</th>\n",
              "      <td>0.876112</td>\n",
              "      <td>0.589533</td>\n",
              "      <td>1.056864</td>\n",
              "      <td>0.550430</td>\n",
              "    </tr>\n",
              "    <tr>\n",
              "      <th>6</th>\n",
              "      <td>0.852759</td>\n",
              "      <td>0.604765</td>\n",
              "      <td>0.934206</td>\n",
              "      <td>0.569977</td>\n",
              "    </tr>\n",
              "    <tr>\n",
              "      <th>7</th>\n",
              "      <td>0.828493</td>\n",
              "      <td>0.618629</td>\n",
              "      <td>0.979138</td>\n",
              "      <td>0.566067</td>\n",
              "    </tr>\n",
              "    <tr>\n",
              "      <th>8</th>\n",
              "      <td>0.828349</td>\n",
              "      <td>0.619215</td>\n",
              "      <td>0.937249</td>\n",
              "      <td>0.577013</td>\n",
              "    </tr>\n",
              "    <tr>\n",
              "      <th>9</th>\n",
              "      <td>0.809367</td>\n",
              "      <td>0.631713</td>\n",
              "      <td>0.941358</td>\n",
              "      <td>0.580141</td>\n",
              "    </tr>\n",
              "    <tr>\n",
              "      <th>10</th>\n",
              "      <td>0.786726</td>\n",
              "      <td>0.643820</td>\n",
              "      <td>0.983632</td>\n",
              "      <td>0.577795</td>\n",
              "    </tr>\n",
              "    <tr>\n",
              "      <th>11</th>\n",
              "      <td>0.786521</td>\n",
              "      <td>0.644210</td>\n",
              "      <td>0.954284</td>\n",
              "      <td>0.577013</td>\n",
              "    </tr>\n",
              "    <tr>\n",
              "      <th>12</th>\n",
              "      <td>0.764240</td>\n",
              "      <td>0.662956</td>\n",
              "      <td>1.131890</td>\n",
              "      <td>0.580141</td>\n",
              "    </tr>\n",
              "    <tr>\n",
              "      <th>13</th>\n",
              "      <td>0.739302</td>\n",
              "      <td>0.676430</td>\n",
              "      <td>1.000259</td>\n",
              "      <td>0.580141</td>\n",
              "    </tr>\n",
              "    <tr>\n",
              "      <th>14</th>\n",
              "      <td>0.728421</td>\n",
              "      <td>0.682289</td>\n",
              "      <td>1.027798</td>\n",
              "      <td>0.591869</td>\n",
              "    </tr>\n",
              "    <tr>\n",
              "      <th>15</th>\n",
              "      <td>0.704275</td>\n",
              "      <td>0.706893</td>\n",
              "      <td>0.952142</td>\n",
              "      <td>0.589523</td>\n",
              "    </tr>\n",
              "    <tr>\n",
              "      <th>16</th>\n",
              "      <td>0.690393</td>\n",
              "      <td>0.702207</td>\n",
              "      <td>0.952176</td>\n",
              "      <td>0.590305</td>\n",
              "    </tr>\n",
              "    <tr>\n",
              "      <th>17</th>\n",
              "      <td>0.658657</td>\n",
              "      <td>0.727397</td>\n",
              "      <td>0.986352</td>\n",
              "      <td>0.580923</td>\n",
              "    </tr>\n",
              "    <tr>\n",
              "      <th>18</th>\n",
              "      <td>0.647716</td>\n",
              "      <td>0.733841</td>\n",
              "      <td>1.005489</td>\n",
              "      <td>0.586396</td>\n",
              "    </tr>\n",
              "    <tr>\n",
              "      <th>19</th>\n",
              "      <td>0.624523</td>\n",
              "      <td>0.743800</td>\n",
              "      <td>1.022653</td>\n",
              "      <td>0.589523</td>\n",
              "    </tr>\n",
              "    <tr>\n",
              "      <th>20</th>\n",
              "      <td>0.609906</td>\n",
              "      <td>0.755126</td>\n",
              "      <td>1.007869</td>\n",
              "      <td>0.604378</td>\n",
              "    </tr>\n",
              "    <tr>\n",
              "      <th>21</th>\n",
              "      <td>0.611362</td>\n",
              "      <td>0.750244</td>\n",
              "      <td>1.076706</td>\n",
              "      <td>0.579359</td>\n",
              "    </tr>\n",
              "    <tr>\n",
              "      <th>22</th>\n",
              "      <td>0.583257</td>\n",
              "      <td>0.772505</td>\n",
              "      <td>1.115734</td>\n",
              "      <td>0.589523</td>\n",
              "    </tr>\n",
              "    <tr>\n",
              "      <th>23</th>\n",
              "      <td>0.558347</td>\n",
              "      <td>0.775239</td>\n",
              "      <td>1.063376</td>\n",
              "      <td>0.566849</td>\n",
              "    </tr>\n",
              "    <tr>\n",
              "      <th>24</th>\n",
              "      <td>0.552918</td>\n",
              "      <td>0.782269</td>\n",
              "      <td>1.078428</td>\n",
              "      <td>0.583268</td>\n",
              "    </tr>\n",
              "    <tr>\n",
              "      <th>25</th>\n",
              "      <td>0.541430</td>\n",
              "      <td>0.784808</td>\n",
              "      <td>1.063180</td>\n",
              "      <td>0.591869</td>\n",
              "    </tr>\n",
              "    <tr>\n",
              "      <th>26</th>\n",
              "      <td>0.531372</td>\n",
              "      <td>0.787737</td>\n",
              "      <td>1.077990</td>\n",
              "      <td>0.592651</td>\n",
              "    </tr>\n",
              "    <tr>\n",
              "      <th>27</th>\n",
              "      <td>0.523395</td>\n",
              "      <td>0.789885</td>\n",
              "      <td>1.170100</td>\n",
              "      <td>0.599687</td>\n",
              "    </tr>\n",
              "    <tr>\n",
              "      <th>28</th>\n",
              "      <td>0.497841</td>\n",
              "      <td>0.807850</td>\n",
              "      <td>1.164021</td>\n",
              "      <td>0.598124</td>\n",
              "    </tr>\n",
              "    <tr>\n",
              "      <th>29</th>\n",
              "      <td>0.506148</td>\n",
              "      <td>0.809998</td>\n",
              "      <td>1.091703</td>\n",
              "      <td>0.597342</td>\n",
              "    </tr>\n",
              "    <tr>\n",
              "      <th>30</th>\n",
              "      <td>0.481856</td>\n",
              "      <td>0.813318</td>\n",
              "      <td>1.063161</td>\n",
              "      <td>0.590305</td>\n",
              "    </tr>\n",
              "    <tr>\n",
              "      <th>31</th>\n",
              "      <td>0.485954</td>\n",
              "      <td>0.812146</td>\n",
              "      <td>1.132061</td>\n",
              "      <td>0.598905</td>\n",
              "    </tr>\n",
              "    <tr>\n",
              "      <th>32</th>\n",
              "      <td>0.473709</td>\n",
              "      <td>0.820152</td>\n",
              "      <td>1.172911</td>\n",
              "      <td>0.598124</td>\n",
              "    </tr>\n",
              "    <tr>\n",
              "      <th>33</th>\n",
              "      <td>0.451622</td>\n",
              "      <td>0.830697</td>\n",
              "      <td>1.182038</td>\n",
              "      <td>0.598124</td>\n",
              "    </tr>\n",
              "    <tr>\n",
              "      <th>34</th>\n",
              "      <td>0.443203</td>\n",
              "      <td>0.831478</td>\n",
              "      <td>1.091526</td>\n",
              "      <td>0.598124</td>\n",
              "    </tr>\n",
              "    <tr>\n",
              "      <th>35</th>\n",
              "      <td>0.434626</td>\n",
              "      <td>0.829135</td>\n",
              "      <td>1.199037</td>\n",
              "      <td>0.614543</td>\n",
              "    </tr>\n",
              "    <tr>\n",
              "      <th>36</th>\n",
              "      <td>0.426548</td>\n",
              "      <td>0.838508</td>\n",
              "      <td>1.180842</td>\n",
              "      <td>0.617670</td>\n",
              "    </tr>\n",
              "    <tr>\n",
              "      <th>37</th>\n",
              "      <td>0.408498</td>\n",
              "      <td>0.845733</td>\n",
              "      <td>1.139735</td>\n",
              "      <td>0.609851</td>\n",
              "    </tr>\n",
              "    <tr>\n",
              "      <th>38</th>\n",
              "      <td>0.414367</td>\n",
              "      <td>0.832845</td>\n",
              "      <td>1.096775</td>\n",
              "      <td>0.605942</td>\n",
              "    </tr>\n",
              "    <tr>\n",
              "      <th>39</th>\n",
              "      <td>0.411800</td>\n",
              "      <td>0.844757</td>\n",
              "      <td>1.190508</td>\n",
              "      <td>0.611415</td>\n",
              "    </tr>\n",
              "    <tr>\n",
              "      <th>40</th>\n",
              "      <td>0.391781</td>\n",
              "      <td>0.851006</td>\n",
              "      <td>1.120372</td>\n",
              "      <td>0.617670</td>\n",
              "    </tr>\n",
              "    <tr>\n",
              "      <th>41</th>\n",
              "      <td>0.389007</td>\n",
              "      <td>0.853349</td>\n",
              "      <td>1.199877</td>\n",
              "      <td>0.619234</td>\n",
              "    </tr>\n",
              "    <tr>\n",
              "      <th>42</th>\n",
              "      <td>0.385142</td>\n",
              "      <td>0.854521</td>\n",
              "      <td>1.164893</td>\n",
              "      <td>0.598124</td>\n",
              "    </tr>\n",
              "    <tr>\n",
              "      <th>43</th>\n",
              "      <td>0.403755</td>\n",
              "      <td>0.847881</td>\n",
              "      <td>1.153078</td>\n",
              "      <td>0.603597</td>\n",
              "    </tr>\n",
              "    <tr>\n",
              "      <th>44</th>\n",
              "      <td>0.375436</td>\n",
              "      <td>0.855497</td>\n",
              "      <td>1.202235</td>\n",
              "      <td>0.617670</td>\n",
              "    </tr>\n",
              "    <tr>\n",
              "      <th>45</th>\n",
              "      <td>0.369080</td>\n",
              "      <td>0.861160</td>\n",
              "      <td>1.285974</td>\n",
              "      <td>0.618452</td>\n",
              "    </tr>\n",
              "    <tr>\n",
              "      <th>46</th>\n",
              "      <td>0.363333</td>\n",
              "      <td>0.861160</td>\n",
              "      <td>1.334870</td>\n",
              "      <td>0.622361</td>\n",
              "    </tr>\n",
              "    <tr>\n",
              "      <th>47</th>\n",
              "      <td>0.346708</td>\n",
              "      <td>0.865456</td>\n",
              "      <td>1.315368</td>\n",
              "      <td>0.634089</td>\n",
              "    </tr>\n",
              "    <tr>\n",
              "      <th>48</th>\n",
              "      <td>0.358134</td>\n",
              "      <td>0.863503</td>\n",
              "      <td>1.469009</td>\n",
              "      <td>0.611415</td>\n",
              "    </tr>\n",
              "    <tr>\n",
              "      <th>49</th>\n",
              "      <td>0.356510</td>\n",
              "      <td>0.869166</td>\n",
              "      <td>1.289065</td>\n",
              "      <td>0.623925</td>\n",
              "    </tr>\n",
              "  </tbody>\n",
              "</table>\n",
              "</div>\n",
              "      <button class=\"colab-df-convert\" onclick=\"convertToInteractive('df-eb69ee0b-2fe6-4b6d-a039-7c0bd2f996ba')\"\n",
              "              title=\"Convert this dataframe to an interactive table.\"\n",
              "              style=\"display:none;\">\n",
              "        \n",
              "  <svg xmlns=\"http://www.w3.org/2000/svg\" height=\"24px\"viewBox=\"0 0 24 24\"\n",
              "       width=\"24px\">\n",
              "    <path d=\"M0 0h24v24H0V0z\" fill=\"none\"/>\n",
              "    <path d=\"M18.56 5.44l.94 2.06.94-2.06 2.06-.94-2.06-.94-.94-2.06-.94 2.06-2.06.94zm-11 1L8.5 8.5l.94-2.06 2.06-.94-2.06-.94L8.5 2.5l-.94 2.06-2.06.94zm10 10l.94 2.06.94-2.06 2.06-.94-2.06-.94-.94-2.06-.94 2.06-2.06.94z\"/><path d=\"M17.41 7.96l-1.37-1.37c-.4-.4-.92-.59-1.43-.59-.52 0-1.04.2-1.43.59L10.3 9.45l-7.72 7.72c-.78.78-.78 2.05 0 2.83L4 21.41c.39.39.9.59 1.41.59.51 0 1.02-.2 1.41-.59l7.78-7.78 2.81-2.81c.8-.78.8-2.07 0-2.86zM5.41 20L4 18.59l7.72-7.72 1.47 1.35L5.41 20z\"/>\n",
              "  </svg>\n",
              "      </button>\n",
              "      \n",
              "  <style>\n",
              "    .colab-df-container {\n",
              "      display:flex;\n",
              "      flex-wrap:wrap;\n",
              "      gap: 12px;\n",
              "    }\n",
              "\n",
              "    .colab-df-convert {\n",
              "      background-color: #E8F0FE;\n",
              "      border: none;\n",
              "      border-radius: 50%;\n",
              "      cursor: pointer;\n",
              "      display: none;\n",
              "      fill: #1967D2;\n",
              "      height: 32px;\n",
              "      padding: 0 0 0 0;\n",
              "      width: 32px;\n",
              "    }\n",
              "\n",
              "    .colab-df-convert:hover {\n",
              "      background-color: #E2EBFA;\n",
              "      box-shadow: 0px 1px 2px rgba(60, 64, 67, 0.3), 0px 1px 3px 1px rgba(60, 64, 67, 0.15);\n",
              "      fill: #174EA6;\n",
              "    }\n",
              "\n",
              "    [theme=dark] .colab-df-convert {\n",
              "      background-color: #3B4455;\n",
              "      fill: #D2E3FC;\n",
              "    }\n",
              "\n",
              "    [theme=dark] .colab-df-convert:hover {\n",
              "      background-color: #434B5C;\n",
              "      box-shadow: 0px 1px 3px 1px rgba(0, 0, 0, 0.15);\n",
              "      filter: drop-shadow(0px 1px 2px rgba(0, 0, 0, 0.3));\n",
              "      fill: #FFFFFF;\n",
              "    }\n",
              "  </style>\n",
              "\n",
              "      <script>\n",
              "        const buttonEl =\n",
              "          document.querySelector('#df-eb69ee0b-2fe6-4b6d-a039-7c0bd2f996ba button.colab-df-convert');\n",
              "        buttonEl.style.display =\n",
              "          google.colab.kernel.accessAllowed ? 'block' : 'none';\n",
              "\n",
              "        async function convertToInteractive(key) {\n",
              "          const element = document.querySelector('#df-eb69ee0b-2fe6-4b6d-a039-7c0bd2f996ba');\n",
              "          const dataTable =\n",
              "            await google.colab.kernel.invokeFunction('convertToInteractive',\n",
              "                                                     [key], {});\n",
              "          if (!dataTable) return;\n",
              "\n",
              "          const docLinkHtml = 'Like what you see? Visit the ' +\n",
              "            '<a target=\"_blank\" href=https://colab.research.google.com/notebooks/data_table.ipynb>data table notebook</a>'\n",
              "            + ' to learn more about interactive tables.';\n",
              "          element.innerHTML = '';\n",
              "          dataTable['output_type'] = 'display_data';\n",
              "          await google.colab.output.renderOutput(dataTable, element);\n",
              "          const docLink = document.createElement('div');\n",
              "          docLink.innerHTML = docLinkHtml;\n",
              "          element.appendChild(docLink);\n",
              "        }\n",
              "      </script>\n",
              "    </div>\n",
              "  </div>\n",
              "  "
            ]
          },
          "metadata": {},
          "execution_count": 62
        }
      ]
    },
    {
      "cell_type": "code",
      "source": [
        "histinception_v3_df.to_csv(\"drive/My Drive/Alzheimers_Mri_Segmentation/models/inception_v3/history/inceptionV3.csv\")"
      ],
      "metadata": {
        "id": "66MdezfBJgYb"
      },
      "execution_count": null,
      "outputs": []
    },
    {
      "cell_type": "code",
      "source": [],
      "metadata": {
        "id": "E7ohGDIqJo0V"
      },
      "execution_count": null,
      "outputs": []
    },
    {
      "cell_type": "code",
      "source": [],
      "metadata": {
        "id": "Up5jgzpwLuIG"
      },
      "execution_count": null,
      "outputs": []
    },
    {
      "cell_type": "code",
      "source": [],
      "metadata": {
        "id": "bHVJdkPw4AF_"
      },
      "execution_count": null,
      "outputs": []
    },
    {
      "cell_type": "code",
      "source": [],
      "metadata": {
        "id": "hsSMIdrX4ACe"
      },
      "execution_count": null,
      "outputs": []
    },
    {
      "cell_type": "code",
      "source": [],
      "metadata": {
        "id": "TXR7FHMV3__g"
      },
      "execution_count": null,
      "outputs": []
    },
    {
      "cell_type": "markdown",
      "source": [
        "# VGG"
      ],
      "metadata": {
        "id": "odxr37o64AcR"
      }
    },
    {
      "cell_type": "code",
      "source": [],
      "metadata": {
        "id": "Mc7vlSpe11GB"
      },
      "execution_count": null,
      "outputs": []
    },
    {
      "cell_type": "code",
      "source": [
        "from keras.models import Model\n",
        "from keras.applications.vgg19 import VGG19\n",
        "\n",
        "vgg = VGG19(input_shape=(256,256,3), weights='imagenet', include_top=False)\n",
        "for layer in vgg.layers:\n",
        "    layer.trainable = False\n",
        "    \n",
        "x = Flatten()(vgg.output)\n",
        "\n",
        "prediction = Dense(4, activation='softmax')(x)\n",
        "\n",
        "modelvgg = Model(inputs=vgg.input, outputs=prediction)\n",
        "modelvgg.summary()"
      ],
      "metadata": {
        "colab": {
          "base_uri": "https://localhost:8080/"
        },
        "id": "w3yi-zsxLt-n",
        "outputId": "4bb83147-d40b-40c8-ee6c-8674c4191c44"
      },
      "execution_count": null,
      "outputs": [
        {
          "output_type": "stream",
          "name": "stdout",
          "text": [
            "Model: \"model\"\n",
            "_________________________________________________________________\n",
            " Layer (type)                Output Shape              Param #   \n",
            "=================================================================\n",
            " input_2 (InputLayer)        [(None, 256, 256, 3)]     0         \n",
            "                                                                 \n",
            " block1_conv1 (Conv2D)       (None, 256, 256, 64)      1792      \n",
            "                                                                 \n",
            " block1_conv2 (Conv2D)       (None, 256, 256, 64)      36928     \n",
            "                                                                 \n",
            " block1_pool (MaxPooling2D)  (None, 128, 128, 64)      0         \n",
            "                                                                 \n",
            " block2_conv1 (Conv2D)       (None, 128, 128, 128)     73856     \n",
            "                                                                 \n",
            " block2_conv2 (Conv2D)       (None, 128, 128, 128)     147584    \n",
            "                                                                 \n",
            " block2_pool (MaxPooling2D)  (None, 64, 64, 128)       0         \n",
            "                                                                 \n",
            " block3_conv1 (Conv2D)       (None, 64, 64, 256)       295168    \n",
            "                                                                 \n",
            " block3_conv2 (Conv2D)       (None, 64, 64, 256)       590080    \n",
            "                                                                 \n",
            " block3_conv3 (Conv2D)       (None, 64, 64, 256)       590080    \n",
            "                                                                 \n",
            " block3_conv4 (Conv2D)       (None, 64, 64, 256)       590080    \n",
            "                                                                 \n",
            " block3_pool (MaxPooling2D)  (None, 32, 32, 256)       0         \n",
            "                                                                 \n",
            " block4_conv1 (Conv2D)       (None, 32, 32, 512)       1180160   \n",
            "                                                                 \n",
            " block4_conv2 (Conv2D)       (None, 32, 32, 512)       2359808   \n",
            "                                                                 \n",
            " block4_conv3 (Conv2D)       (None, 32, 32, 512)       2359808   \n",
            "                                                                 \n",
            " block4_conv4 (Conv2D)       (None, 32, 32, 512)       2359808   \n",
            "                                                                 \n",
            " block4_pool (MaxPooling2D)  (None, 16, 16, 512)       0         \n",
            "                                                                 \n",
            " block5_conv1 (Conv2D)       (None, 16, 16, 512)       2359808   \n",
            "                                                                 \n",
            " block5_conv2 (Conv2D)       (None, 16, 16, 512)       2359808   \n",
            "                                                                 \n",
            " block5_conv3 (Conv2D)       (None, 16, 16, 512)       2359808   \n",
            "                                                                 \n",
            " block5_conv4 (Conv2D)       (None, 16, 16, 512)       2359808   \n",
            "                                                                 \n",
            " block5_pool (MaxPooling2D)  (None, 8, 8, 512)         0         \n",
            "                                                                 \n",
            " flatten (Flatten)           (None, 32768)             0         \n",
            "                                                                 \n",
            " dense (Dense)               (None, 4)                 131076    \n",
            "                                                                 \n",
            "=================================================================\n",
            "Total params: 20,155,460\n",
            "Trainable params: 131,076\n",
            "Non-trainable params: 20,024,384\n",
            "_________________________________________________________________\n"
          ]
        }
      ]
    },
    {
      "cell_type": "code",
      "source": [
        "import tensorflow as tf\n",
        "\n",
        "modelvgg.compile(optimizer = 'adam',\n",
        "loss = tf.losses.CategoricalCrossentropy(),\n",
        "metrics = METRICS)\n",
        "\n",
        "callback = tf.keras.callbacks.EarlyStopping(monitor='val_loss',\n",
        "                                            patience=8,\n",
        "                                            restore_best_weights=True)"
      ],
      "metadata": {
        "id": "Gy711Lo6Mbrw"
      },
      "execution_count": null,
      "outputs": []
    },
    {
      "cell_type": "code",
      "source": [
        "history3 = modelvgg.fit(train_images, Y, epochs=10, validation_data=(test_images, Y_test))\n"
      ],
      "metadata": {
        "colab": {
          "base_uri": "https://localhost:8080/"
        },
        "id": "eeg5fEmiMm50",
        "outputId": "3311027f-d5f0-4278-c5b8-d82c2b49c9e3"
      },
      "execution_count": null,
      "outputs": [
        {
          "output_type": "stream",
          "name": "stdout",
          "text": [
            "Epoch 1/10\n",
            "161/161 [==============================] - 61s 309ms/step - loss: 7.9755 - accuracy: 0.6397 - val_loss: 6.5143 - val_accuracy: 0.5473\n",
            "Epoch 2/10\n",
            "161/161 [==============================] - 45s 279ms/step - loss: 1.8051 - accuracy: 0.8176 - val_loss: 12.7179 - val_accuracy: 0.5590\n",
            "Epoch 3/10\n",
            "161/161 [==============================] - 45s 279ms/step - loss: 2.1213 - accuracy: 0.8475 - val_loss: 6.6013 - val_accuracy: 0.6286\n",
            "Epoch 4/10\n",
            "161/161 [==============================] - 45s 279ms/step - loss: 0.4158 - accuracy: 0.9451 - val_loss: 6.8393 - val_accuracy: 0.6419\n",
            "Epoch 5/10\n",
            "161/161 [==============================] - 45s 278ms/step - loss: 0.7914 - accuracy: 0.9153 - val_loss: 11.3227 - val_accuracy: 0.6036\n",
            "Epoch 6/10\n",
            "161/161 [==============================] - 45s 278ms/step - loss: 0.5750 - accuracy: 0.9416 - val_loss: 6.5004 - val_accuracy: 0.6263\n",
            "Epoch 7/10\n",
            "161/161 [==============================] - 45s 278ms/step - loss: 0.9019 - accuracy: 0.9359 - val_loss: 10.9048 - val_accuracy: 0.6568\n",
            "Epoch 8/10\n",
            "161/161 [==============================] - 45s 278ms/step - loss: 0.1467 - accuracy: 0.9789 - val_loss: 9.6094 - val_accuracy: 0.6841\n",
            "Epoch 9/10\n",
            "161/161 [==============================] - 45s 279ms/step - loss: 0.1327 - accuracy: 0.9818 - val_loss: 10.5507 - val_accuracy: 0.6677\n",
            "Epoch 10/10\n",
            "161/161 [==============================] - 45s 279ms/step - loss: 0.0680 - accuracy: 0.9889 - val_loss: 9.2015 - val_accuracy: 0.6841\n"
          ]
        }
      ]
    },
    {
      "cell_type": "code",
      "source": [
        "modelvgg.save('drive/My Drive/Alzheimers_Mri_Segmentation/models/vgg/vgg.h5')"
      ],
      "metadata": {
        "id": "tY_5GcrXnVUk"
      },
      "execution_count": null,
      "outputs": []
    },
    {
      "cell_type": "code",
      "source": [
        "import pandas as pd\n",
        "\n",
        "histvgg_df = pd.DataFrame(history3.history)\n",
        "histvgg_df"
      ],
      "metadata": {
        "id": "xjhwz9nvneyU",
        "colab": {
          "base_uri": "https://localhost:8080/",
          "height": 363
        },
        "outputId": "88d871b2-34a6-49ce-ddfb-030910991b84"
      },
      "execution_count": null,
      "outputs": [
        {
          "output_type": "execute_result",
          "data": {
            "text/plain": [
              "       loss  accuracy   val_loss  val_accuracy\n",
              "0  7.975466  0.639719   6.514338      0.547303\n",
              "1  1.805129  0.817614  12.717871      0.559030\n",
              "2  2.121339  0.847491   6.601253      0.628616\n",
              "3  0.415770  0.945128   6.839341      0.641908\n",
              "4  0.791376  0.915251  11.322724      0.603597\n",
              "5  0.574975  0.941613   6.500436      0.626271\n",
              "6  0.901949  0.935950  10.904832      0.656763\n",
              "7  0.146689  0.978910   9.609404      0.684128\n",
              "8  0.132681  0.981839  10.550738      0.667709\n",
              "9  0.068037  0.988869   9.201491      0.684128"
            ],
            "text/html": [
              "\n",
              "  <div id=\"df-1ac3df5e-71ae-43d5-abf7-3a233f0886ae\">\n",
              "    <div class=\"colab-df-container\">\n",
              "      <div>\n",
              "<style scoped>\n",
              "    .dataframe tbody tr th:only-of-type {\n",
              "        vertical-align: middle;\n",
              "    }\n",
              "\n",
              "    .dataframe tbody tr th {\n",
              "        vertical-align: top;\n",
              "    }\n",
              "\n",
              "    .dataframe thead th {\n",
              "        text-align: right;\n",
              "    }\n",
              "</style>\n",
              "<table border=\"1\" class=\"dataframe\">\n",
              "  <thead>\n",
              "    <tr style=\"text-align: right;\">\n",
              "      <th></th>\n",
              "      <th>loss</th>\n",
              "      <th>accuracy</th>\n",
              "      <th>val_loss</th>\n",
              "      <th>val_accuracy</th>\n",
              "    </tr>\n",
              "  </thead>\n",
              "  <tbody>\n",
              "    <tr>\n",
              "      <th>0</th>\n",
              "      <td>7.975466</td>\n",
              "      <td>0.639719</td>\n",
              "      <td>6.514338</td>\n",
              "      <td>0.547303</td>\n",
              "    </tr>\n",
              "    <tr>\n",
              "      <th>1</th>\n",
              "      <td>1.805129</td>\n",
              "      <td>0.817614</td>\n",
              "      <td>12.717871</td>\n",
              "      <td>0.559030</td>\n",
              "    </tr>\n",
              "    <tr>\n",
              "      <th>2</th>\n",
              "      <td>2.121339</td>\n",
              "      <td>0.847491</td>\n",
              "      <td>6.601253</td>\n",
              "      <td>0.628616</td>\n",
              "    </tr>\n",
              "    <tr>\n",
              "      <th>3</th>\n",
              "      <td>0.415770</td>\n",
              "      <td>0.945128</td>\n",
              "      <td>6.839341</td>\n",
              "      <td>0.641908</td>\n",
              "    </tr>\n",
              "    <tr>\n",
              "      <th>4</th>\n",
              "      <td>0.791376</td>\n",
              "      <td>0.915251</td>\n",
              "      <td>11.322724</td>\n",
              "      <td>0.603597</td>\n",
              "    </tr>\n",
              "    <tr>\n",
              "      <th>5</th>\n",
              "      <td>0.574975</td>\n",
              "      <td>0.941613</td>\n",
              "      <td>6.500436</td>\n",
              "      <td>0.626271</td>\n",
              "    </tr>\n",
              "    <tr>\n",
              "      <th>6</th>\n",
              "      <td>0.901949</td>\n",
              "      <td>0.935950</td>\n",
              "      <td>10.904832</td>\n",
              "      <td>0.656763</td>\n",
              "    </tr>\n",
              "    <tr>\n",
              "      <th>7</th>\n",
              "      <td>0.146689</td>\n",
              "      <td>0.978910</td>\n",
              "      <td>9.609404</td>\n",
              "      <td>0.684128</td>\n",
              "    </tr>\n",
              "    <tr>\n",
              "      <th>8</th>\n",
              "      <td>0.132681</td>\n",
              "      <td>0.981839</td>\n",
              "      <td>10.550738</td>\n",
              "      <td>0.667709</td>\n",
              "    </tr>\n",
              "    <tr>\n",
              "      <th>9</th>\n",
              "      <td>0.068037</td>\n",
              "      <td>0.988869</td>\n",
              "      <td>9.201491</td>\n",
              "      <td>0.684128</td>\n",
              "    </tr>\n",
              "  </tbody>\n",
              "</table>\n",
              "</div>\n",
              "      <button class=\"colab-df-convert\" onclick=\"convertToInteractive('df-1ac3df5e-71ae-43d5-abf7-3a233f0886ae')\"\n",
              "              title=\"Convert this dataframe to an interactive table.\"\n",
              "              style=\"display:none;\">\n",
              "        \n",
              "  <svg xmlns=\"http://www.w3.org/2000/svg\" height=\"24px\"viewBox=\"0 0 24 24\"\n",
              "       width=\"24px\">\n",
              "    <path d=\"M0 0h24v24H0V0z\" fill=\"none\"/>\n",
              "    <path d=\"M18.56 5.44l.94 2.06.94-2.06 2.06-.94-2.06-.94-.94-2.06-.94 2.06-2.06.94zm-11 1L8.5 8.5l.94-2.06 2.06-.94-2.06-.94L8.5 2.5l-.94 2.06-2.06.94zm10 10l.94 2.06.94-2.06 2.06-.94-2.06-.94-.94-2.06-.94 2.06-2.06.94z\"/><path d=\"M17.41 7.96l-1.37-1.37c-.4-.4-.92-.59-1.43-.59-.52 0-1.04.2-1.43.59L10.3 9.45l-7.72 7.72c-.78.78-.78 2.05 0 2.83L4 21.41c.39.39.9.59 1.41.59.51 0 1.02-.2 1.41-.59l7.78-7.78 2.81-2.81c.8-.78.8-2.07 0-2.86zM5.41 20L4 18.59l7.72-7.72 1.47 1.35L5.41 20z\"/>\n",
              "  </svg>\n",
              "      </button>\n",
              "      \n",
              "  <style>\n",
              "    .colab-df-container {\n",
              "      display:flex;\n",
              "      flex-wrap:wrap;\n",
              "      gap: 12px;\n",
              "    }\n",
              "\n",
              "    .colab-df-convert {\n",
              "      background-color: #E8F0FE;\n",
              "      border: none;\n",
              "      border-radius: 50%;\n",
              "      cursor: pointer;\n",
              "      display: none;\n",
              "      fill: #1967D2;\n",
              "      height: 32px;\n",
              "      padding: 0 0 0 0;\n",
              "      width: 32px;\n",
              "    }\n",
              "\n",
              "    .colab-df-convert:hover {\n",
              "      background-color: #E2EBFA;\n",
              "      box-shadow: 0px 1px 2px rgba(60, 64, 67, 0.3), 0px 1px 3px 1px rgba(60, 64, 67, 0.15);\n",
              "      fill: #174EA6;\n",
              "    }\n",
              "\n",
              "    [theme=dark] .colab-df-convert {\n",
              "      background-color: #3B4455;\n",
              "      fill: #D2E3FC;\n",
              "    }\n",
              "\n",
              "    [theme=dark] .colab-df-convert:hover {\n",
              "      background-color: #434B5C;\n",
              "      box-shadow: 0px 1px 3px 1px rgba(0, 0, 0, 0.15);\n",
              "      filter: drop-shadow(0px 1px 2px rgba(0, 0, 0, 0.3));\n",
              "      fill: #FFFFFF;\n",
              "    }\n",
              "  </style>\n",
              "\n",
              "      <script>\n",
              "        const buttonEl =\n",
              "          document.querySelector('#df-1ac3df5e-71ae-43d5-abf7-3a233f0886ae button.colab-df-convert');\n",
              "        buttonEl.style.display =\n",
              "          google.colab.kernel.accessAllowed ? 'block' : 'none';\n",
              "\n",
              "        async function convertToInteractive(key) {\n",
              "          const element = document.querySelector('#df-1ac3df5e-71ae-43d5-abf7-3a233f0886ae');\n",
              "          const dataTable =\n",
              "            await google.colab.kernel.invokeFunction('convertToInteractive',\n",
              "                                                     [key], {});\n",
              "          if (!dataTable) return;\n",
              "\n",
              "          const docLinkHtml = 'Like what you see? Visit the ' +\n",
              "            '<a target=\"_blank\" href=https://colab.research.google.com/notebooks/data_table.ipynb>data table notebook</a>'\n",
              "            + ' to learn more about interactive tables.';\n",
              "          element.innerHTML = '';\n",
              "          dataTable['output_type'] = 'display_data';\n",
              "          await google.colab.output.renderOutput(dataTable, element);\n",
              "          const docLink = document.createElement('div');\n",
              "          docLink.innerHTML = docLinkHtml;\n",
              "          element.appendChild(docLink);\n",
              "        }\n",
              "      </script>\n",
              "    </div>\n",
              "  </div>\n",
              "  "
            ]
          },
          "metadata": {},
          "execution_count": 44
        }
      ]
    },
    {
      "cell_type": "code",
      "source": [
        "histvgg_df.to_csv(\"drive/My Drive/Alzheimers_Mri_Segmentation/models/vgg/history/vgg.csv\")"
      ],
      "metadata": {
        "id": "fBLTQsj7nkR3"
      },
      "execution_count": null,
      "outputs": []
    },
    {
      "cell_type": "code",
      "source": [
        "# train_data, train_labels = train_dataset.next()\n",
        "# test_data, test_labels = test_dataset.next()"
      ],
      "metadata": {
        "id": "OgjbyjPkn0rc"
      },
      "execution_count": null,
      "outputs": []
    },
    {
      "cell_type": "code",
      "source": [
        "train_images.shape"
      ],
      "metadata": {
        "colab": {
          "base_uri": "https://localhost:8080/"
        },
        "id": "bkjcqQLFyEHv",
        "outputId": "7769655f-929a-42fa-8af9-306afa828127"
      },
      "execution_count": null,
      "outputs": [
        {
          "output_type": "execute_result",
          "data": {
            "text/plain": [
              "(5121, 256, 256, 3)"
            ]
          },
          "metadata": {},
          "execution_count": 48
        }
      ]
    },
    {
      "cell_type": "code",
      "source": [
        "test_images.shape"
      ],
      "metadata": {
        "colab": {
          "base_uri": "https://localhost:8080/"
        },
        "id": "OOwLe05-yF9w",
        "outputId": "97d0f11a-ad2b-4d46-9927-b437b85aa9fb"
      },
      "execution_count": null,
      "outputs": [
        {
          "output_type": "execute_result",
          "data": {
            "text/plain": [
              "(1279, 256, 256, 3)"
            ]
          },
          "metadata": {},
          "execution_count": 49
        }
      ]
    },
    {
      "cell_type": "code",
      "source": [
        "Y.shape"
      ],
      "metadata": {
        "colab": {
          "base_uri": "https://localhost:8080/"
        },
        "id": "dZDa8kVYyIUD",
        "outputId": "bf9ba85f-b990-4cb1-b5c4-8cad69159a6b"
      },
      "execution_count": null,
      "outputs": [
        {
          "output_type": "execute_result",
          "data": {
            "text/plain": [
              "(5121, 4)"
            ]
          },
          "metadata": {},
          "execution_count": 51
        }
      ]
    },
    {
      "cell_type": "code",
      "source": [],
      "metadata": {
        "id": "nMIbLgDbyjxd"
      },
      "execution_count": null,
      "outputs": []
    },
    {
      "cell_type": "code",
      "source": [
        "from keras.models import Model, load_model\n",
        "\n",
        "modelsvm = load_model('drive/My Drive/Alzheimers_Mri_Segmentation/models/svm/svmModel.h5')\n",
        "modelInception = load_model('drive/My Drive/Alzheimers_Mri_Segmentation/models/inception_v3/inceptionV3Model.h5')\n",
        "modelcnn = load_model('drive/My Drive/Alzheimers_Mri_Segmentation/models/cnn/cnnModel.h5')"
      ],
      "metadata": {
        "id": "dCGvkZvAyWls"
      },
      "execution_count": null,
      "outputs": []
    },
    {
      "cell_type": "code",
      "source": [
        "loss, acc = modelInception.evaluate(test_images, Y_test)\n",
        "print(\"Trained model Inception, accuracy: {:5.2f}%\".format(100 * acc))"
      ],
      "metadata": {
        "colab": {
          "base_uri": "https://localhost:8080/"
        },
        "id": "sjXiPHdszgL3",
        "outputId": "dd7b6fb9-6a35-4047-dbc4-94746a47d9cf"
      },
      "execution_count": null,
      "outputs": [
        {
          "output_type": "stream",
          "name": "stdout",
          "text": [
            "40/40 [==============================] - 7s 120ms/step - loss: 1.2891 - accuracy: 0.6239\n",
            "Trained model Inception, accuracy: 62.39%\n"
          ]
        }
      ]
    },
    {
      "cell_type": "code",
      "source": [
        "loss, acc = modelvgg.evaluate(test_images, Y_test)\n",
        "print(\"Trained model VGG, accuracy: {:5.2f}%\".format(100 * acc))"
      ],
      "metadata": {
        "colab": {
          "base_uri": "https://localhost:8080/"
        },
        "id": "z6l60AgayK0Y",
        "outputId": "14645a62-5a08-4bbf-a66d-6231f0da7639"
      },
      "execution_count": null,
      "outputs": [
        {
          "output_type": "stream",
          "name": "stdout",
          "text": [
            "40/40 [==============================] - 9s 229ms/step - loss: 9.2015 - accuracy: 0.6841\n",
            "Trained model VGG, accuracy: 68.41%\n"
          ]
        }
      ]
    },
    {
      "cell_type": "code",
      "source": [
        "loss, acc = modelsvm.evaluate(test_images, Y_test)\n",
        "print(\"Trained model SVM, accuracy: {:5.2f}%\".format(100 * acc))"
      ],
      "metadata": {
        "colab": {
          "base_uri": "https://localhost:8080/"
        },
        "id": "g8ODQMrrzCv-",
        "outputId": "ee9e175e-fe04-47e3-d5e0-56cc5f0fd3df"
      },
      "execution_count": null,
      "outputs": [
        {
          "output_type": "stream",
          "name": "stdout",
          "text": [
            "40/40 [==============================] - 1s 23ms/step - loss: 0.9398 - accuracy: 0.6880\n",
            "Trained model SVM, accuracy: 68.80%\n"
          ]
        }
      ]
    },
    {
      "cell_type": "code",
      "source": [
        "loss, acc = modelcnn.evaluate(test_images, Y_test)\n",
        "print(\"Trained model cnn, accuracy: {:5.2f}%\".format(100 * acc))"
      ],
      "metadata": {
        "colab": {
          "base_uri": "https://localhost:8080/"
        },
        "id": "zD5cifNWzkxe",
        "outputId": "beaeb4b0-e03d-4c2a-a3fd-954fd2cfa52b"
      },
      "execution_count": null,
      "outputs": [
        {
          "output_type": "stream",
          "name": "stdout",
          "text": [
            "40/40 [==============================] - 1s 15ms/step - loss: 1.2697 - accuracy: 0.7170\n",
            "Trained model cnn, accuracy: 71.70%\n"
          ]
        }
      ]
    },
    {
      "cell_type": "code",
      "source": [
        "import matplotlib.pyplot as plt\n",
        "import matplotlib.image as mpimg\n",
        "plt.imshow(mpimg.imread('/content/Alzheimer_s Dataset/test/MildDemented/26 (19).jpg'))"
      ],
      "metadata": {
        "id": "4MfBSmQCz8fM"
      },
      "execution_count": null,
      "outputs": []
    },
    {
      "cell_type": "code",
      "source": [
        "import cv2\n",
        "import numpy as np\n",
        "\n",
        "# img = cv2.imread('/content/Alzheimer_s Dataset/test/MildDemented/26 (19).jpg')\n",
        "# img2 = cv2.resize(img, (256, 256))\n",
        "# img = np.array(img2)\n",
        "# test_data[0].shape\n",
        "a = modelvgg.predict(test_images)"
      ],
      "metadata": {
        "colab": {
          "base_uri": "https://localhost:8080/"
        },
        "id": "XGkXeaVTznxn",
        "outputId": "3ac80c31-3ce0-403a-b4ce-3c41aaf6a417"
      },
      "execution_count": null,
      "outputs": [
        {
          "output_type": "stream",
          "name": "stdout",
          "text": [
            "40/40 [==============================] - 9s 224ms/step\n"
          ]
        }
      ]
    },
    {
      "cell_type": "code",
      "source": [
        "np.round(a[1000])"
      ],
      "metadata": {
        "colab": {
          "base_uri": "https://localhost:8080/"
        },
        "id": "whZ9C-kb0j8D",
        "outputId": "d96593fe-a658-4297-84a8-6cb41e6e418b"
      },
      "execution_count": null,
      "outputs": [
        {
          "output_type": "execute_result",
          "data": {
            "text/plain": [
              "array([0., 0., 1., 0.], dtype=float32)"
            ]
          },
          "metadata": {},
          "execution_count": 68
        }
      ]
    },
    {
      "cell_type": "code",
      "source": [
        "test_dataset.class_indices"
      ],
      "metadata": {
        "id": "cNrCbKa91mCE"
      },
      "execution_count": null,
      "outputs": []
    },
    {
      "cell_type": "code",
      "source": [],
      "metadata": {
        "id": "ydzPX7Ms13JQ"
      },
      "execution_count": null,
      "outputs": []
    },
    {
      "cell_type": "markdown",
      "source": [
        "# New Everything\n"
      ],
      "metadata": {
        "id": "tLYKbpWwVp03"
      }
    },
    {
      "cell_type": "code",
      "source": [
        "# data processing\n",
        "import tensorflow as tf\n",
        "import pandas as pd\n",
        "data = \"Alzheimer_s Dataset/train\"\n",
        "train_data = tf.keras.preprocessing.image_dataset_from_directory(\n",
        "    data,\n",
        "    labels = 'inferred',\n",
        "    label_mode='categorical',\n",
        "    seed=42,\n",
        "    color_mode='grayscale',\n",
        "    image_size=(128,128),\n",
        "    batch_size=32,\n",
        ")\n",
        "test_data = tf.keras.preprocessing.image_dataset_from_directory(\n",
        "    \"Alzheimer_s Dataset/test\",\n",
        "    labels = 'inferred',\n",
        "    label_mode='categorical',\n",
        "    seed=42,\n",
        "    color_mode= 'grayscale',\n",
        "    image_size = (128,128),\n",
        "    batch_size=32,\n",
        ")\n",
        "\n",
        "#Model setup\n",
        "EffNet = tf.keras.applications.EfficientNetB0(include_top = False)\n",
        "EffNet.trainable = True\n",
        "inputs = tf.keras.layers.Input(shape=((128,128) + (1,)), name = 'input_layer')\n",
        "x = EffNet(inputs)\n",
        "x = tf.keras.layers.GlobalAveragePooling2D(name='global_average_pooling_layer')(x)\n",
        "outputs = tf.keras.layers.Dense(4, activation = 'softmax', name='output_layer')(x)\n",
        "model = tf.keras.Model(inputs, outputs)\n",
        "Learning_Rate = 0.1\n",
        "model.compile(loss='categorical_crossentropy', optimizer = tf.keras.optimizers.Adam(learning_rate = Learning_Rate), metrics=['accuracy'])\n",
        "model.summary()\n",
        "\n",
        "#Training the Model\n",
        "graphs = model.fit(train_data, validation_data = test_data, epochs = 10, verbose = False)\n",
        "pd.DataFrame(graphs.history).plot(figsize=(8,6))\n",
        "\n",
        "#check the performance\n",
        "model.evaluate(test_data)"
      ],
      "metadata": {
        "colab": {
          "base_uri": "https://localhost:8080/",
          "height": 845
        },
        "id": "_7H85tl1Vow4",
        "outputId": "90e9afd3-0594-4d1c-b70d-bd7a6f53d388"
      },
      "execution_count": null,
      "outputs": [
        {
          "output_type": "stream",
          "name": "stdout",
          "text": [
            "Found 5121 files belonging to 4 classes.\n",
            "Found 1279 files belonging to 4 classes.\n"
          ]
        },
        {
          "output_type": "stream",
          "name": "stderr",
          "text": [
            "WARNING:tensorflow:Model was constructed with shape (None, None, None, 3) for input KerasTensor(type_spec=TensorSpec(shape=(None, None, None, 3), dtype=tf.float32, name='input_3'), name='input_3', description=\"created by layer 'input_3'\"), but it was called on an input with incompatible shape (None, 128, 128, 1).\n"
          ]
        },
        {
          "output_type": "stream",
          "name": "stdout",
          "text": [
            "Model: \"model_2\"\n",
            "_________________________________________________________________\n",
            " Layer (type)                Output Shape              Param #   \n",
            "=================================================================\n",
            " input_layer (InputLayer)    [(None, 128, 128, 1)]     0         \n",
            "                                                                 \n",
            " efficientnetb0 (Functional)  (None, None, None, 1280)  4049571  \n",
            "                                                                 \n",
            " global_average_pooling_laye  (None, 1280)             0         \n",
            " r (GlobalAveragePooling2D)                                      \n",
            "                                                                 \n",
            " output_layer (Dense)        (None, 4)                 5124      \n",
            "                                                                 \n",
            "=================================================================\n",
            "Total params: 4,054,695\n",
            "Trainable params: 4,012,672\n",
            "Non-trainable params: 42,023\n",
            "_________________________________________________________________\n"
          ]
        },
        {
          "output_type": "stream",
          "name": "stderr",
          "text": [
            "WARNING:tensorflow:Model was constructed with shape (None, None, None, 3) for input KerasTensor(type_spec=TensorSpec(shape=(None, None, None, 3), dtype=tf.float32, name='input_3'), name='input_3', description=\"created by layer 'input_3'\"), but it was called on an input with incompatible shape (None, 128, 128, 1).\n",
            "WARNING:tensorflow:Model was constructed with shape (None, None, None, 3) for input KerasTensor(type_spec=TensorSpec(shape=(None, None, None, 3), dtype=tf.float32, name='input_3'), name='input_3', description=\"created by layer 'input_3'\"), but it was called on an input with incompatible shape (None, 128, 128, 1).\n",
            "WARNING:tensorflow:Model was constructed with shape (None, None, None, 3) for input KerasTensor(type_spec=TensorSpec(shape=(None, None, None, 3), dtype=tf.float32, name='input_3'), name='input_3', description=\"created by layer 'input_3'\"), but it was called on an input with incompatible shape (None, 128, 128, 1).\n"
          ]
        },
        {
          "output_type": "stream",
          "name": "stdout",
          "text": [
            "40/40 [==============================] - 1s 27ms/step - loss: 17.7362 - accuracy: 0.2119\n"
          ]
        },
        {
          "output_type": "execute_result",
          "data": {
            "text/plain": [
              "[17.736202239990234, 0.2118842899799347]"
            ]
          },
          "metadata": {},
          "execution_count": 10
        },
        {
          "output_type": "display_data",
          "data": {
            "text/plain": [
              "<Figure size 576x432 with 1 Axes>"
            ],
            "image/png": "[encoded data removed]"
          },
          "metadata": {
            "needs_background": "light"
          }
        }
      ]
    },
    {
      "cell_type": "code",
      "source": [
        "#Model Changing the learning rate\n",
        "EffNet = tf.keras.applications.EfficientNetB0(include_top = False)\n",
        "EffNet.trainable = True\n",
        "inputs = tf.keras.layers.Input(shape=((128,128) + (1,)), name = 'input_layer')\n",
        "x = EffNet(inputs)\n",
        "x = tf.keras.layers.GlobalAveragePooling2D(name='global_average_pooling_layer')(x)\n",
        "outputs = tf.keras.layers.Dense(4, activation = 'softmax', name='output_layer')(x)\n",
        "model = tf.keras.Model(inputs, outputs)\n",
        "Learning_Rate = 0.01\n",
        "model.compile(loss='categorical_crossentropy', optimizer = tf.keras.optimizers.Adam(learning_rate = Learning_Rate), metrics=['accuracy'])\n",
        "model.summary()\n",
        "\n",
        "#Training the Model\n",
        "graphs = model.fit(train_data, validation_data = test_data, epochs = 10, verbose = False)\n",
        "pd.DataFrame(graphs.history).plot(figsize=(8,6))\n",
        "\n",
        "#check the performance\n",
        "model.evaluate(test_data)"
      ],
      "metadata": {
        "colab": {
          "base_uri": "https://localhost:8080/",
          "height": 810
        },
        "id": "a1aVEjeZYC1O",
        "outputId": "6537ce48-1d15-4e83-f226-d9cc3ed9b8c9"
      },
      "execution_count": null,
      "outputs": [
        {
          "output_type": "stream",
          "name": "stderr",
          "text": [
            "WARNING:tensorflow:Model was constructed with shape (None, None, None, 3) for input KerasTensor(type_spec=TensorSpec(shape=(None, None, None, 3), dtype=tf.float32, name='input_4'), name='input_4', description=\"created by layer 'input_4'\"), but it was called on an input with incompatible shape (None, 128, 128, 1).\n"
          ]
        },
        {
          "output_type": "stream",
          "name": "stdout",
          "text": [
            "Model: \"model_3\"\n",
            "_________________________________________________________________\n",
            " Layer (type)                Output Shape              Param #   \n",
            "=================================================================\n",
            " input_layer (InputLayer)    [(None, 128, 128, 1)]     0         \n",
            "                                                                 \n",
            " efficientnetb0 (Functional)  (None, None, None, 1280)  4049571  \n",
            "                                                                 \n",
            " global_average_pooling_laye  (None, 1280)             0         \n",
            " r (GlobalAveragePooling2D)                                      \n",
            "                                                                 \n",
            " output_layer (Dense)        (None, 4)                 5124      \n",
            "                                                                 \n",
            "=================================================================\n",
            "Total params: 4,054,695\n",
            "Trainable params: 4,012,672\n",
            "Non-trainable params: 42,023\n",
            "_________________________________________________________________\n"
          ]
        },
        {
          "output_type": "stream",
          "name": "stderr",
          "text": [
            "WARNING:tensorflow:Model was constructed with shape (None, None, None, 3) for input KerasTensor(type_spec=TensorSpec(shape=(None, None, None, 3), dtype=tf.float32, name='input_4'), name='input_4', description=\"created by layer 'input_4'\"), but it was called on an input with incompatible shape (None, 128, 128, 1).\n",
            "WARNING:tensorflow:Model was constructed with shape (None, None, None, 3) for input KerasTensor(type_spec=TensorSpec(shape=(None, None, None, 3), dtype=tf.float32, name='input_4'), name='input_4', description=\"created by layer 'input_4'\"), but it was called on an input with incompatible shape (None, 128, 128, 1).\n",
            "WARNING:tensorflow:Model was constructed with shape (None, None, None, 3) for input KerasTensor(type_spec=TensorSpec(shape=(None, None, None, 3), dtype=tf.float32, name='input_4'), name='input_4', description=\"created by layer 'input_4'\"), but it was called on an input with incompatible shape (None, 128, 128, 1).\n"
          ]
        },
        {
          "output_type": "stream",
          "name": "stdout",
          "text": [
            "40/40 [==============================] - 1s 26ms/step - loss: 1.3071 - accuracy: 0.6216\n"
          ]
        },
        {
          "output_type": "execute_result",
          "data": {
            "text/plain": [
              "[1.3070911169052124, 0.6215793490409851]"
            ]
          },
          "metadata": {},
          "execution_count": 11
        },
        {
          "output_type": "display_data",
          "data": {
            "text/plain": [
              "<Figure size 576x432 with 1 Axes>"
            ],
            "image/png": "[encoded data removed]"
          },
          "metadata": {
            "needs_background": "light"
          }
        }
      ]
    },
    {
      "cell_type": "code",
      "source": [
        "model.save(\"drive/My Drive/Alzheimers_Mri_Segmentation/models/effnet/effnet.h5\")"
      ],
      "metadata": {
        "id": "u1W_rluEWJYn"
      },
      "execution_count": null,
      "outputs": []
    },
    {
      "cell_type": "code",
      "source": [
        "import cv2\n",
        "from sklearn.preprocessing import StandardScaler\n",
        "import matplotlib.image as mpimg\n",
        "\n",
        "from skimage.transform import resize\n",
        "\n",
        "import numpy as np\n",
        "\n",
        "dim = (128, 128) #original shape of the image\n",
        "\n",
        "def extract_feature(dir_path):\n",
        "    img = mpimg.imread(dir_path)\n",
        "    img = img / 255.0  # normalize pixel values\n",
        "    img = resize(img, (128, 128, 3))  # convert all images to (128x128x3)\n",
        "    img = np.reshape(img, (128, 384))\n",
        "    return img\n",
        "\n",
        "non_ALZ = [extract_feature(filename) for filename in non]\n",
        "vmild_ALZ = [extract_feature(filename) for filename in very_mild]\n",
        "mild_ALZ = [extract_feature(filename) for filename in mild]\n",
        "moderate_ALZ = [extract_feature(filename) for filename in moderate]\n",
        "ALZ = vmild_ALZ + mild_ALZ + moderate_ALZ\n",
        "\n",
        "#for PCA\n",
        "all_data = np.concatenate((np.array(non_ALZ),np.array(ALZ)))\n",
        "#print(all_data)\n",
        "all_data = all_data.reshape(all_data.shape[0], np.product(all_data.shape[1:]))\n",
        "\n",
        "scaler = StandardScaler()\n",
        "scaler.fit(all_data)\n",
        "\n",
        "#standardize data to 0 mean and unit variance\n",
        "X = scaler.transform(all_data)\n",
        "\n",
        "#split the data \n",
        "from sklearn.model_selection import train_test_split\n",
        "y = [0] * len(non_ALZ) + [1] * len(ALZ)\n",
        "X_train, X_test, y_train, y_test = train_test_split(all_data, y, test_size=0.2)\n",
        "\n",
        "#convert grayscale to 128x128 rgb channels\n",
        "def to_rgb(img):\n",
        "    img = cv2.resize(img, dim, interpolation = cv2.INTER_AREA) \n",
        "    img_rgb = np.asarray(np.dstack((img, img, img)), dtype=np.uint8)\n",
        "    return img_rgb\n",
        "\n",
        "rgb_list = []\n",
        "#convert X_train data to 128x128 rgb values\n",
        "for i in range(len(X_train)):\n",
        "    rgb = to_rgb(X_train[i])\n",
        "    rgb_list.append(rgb)\n",
        "    #print(rgb.shape)\n",
        "    \n",
        "rgb_arr = np.stack([rgb_list],axis=4)\n",
        "rgb_arr_to_3d = np.squeeze(rgb_arr, axis=4)\n",
        "print(rgb_arr_to_3d.shape)"
      ],
      "metadata": {
        "colab": {
          "base_uri": "https://localhost:8080/"
        },
        "id": "YCRxSo-CWKpB",
        "outputId": "6590676c-df98-4dd9-8961-32366ad2003a"
      },
      "execution_count": null,
      "outputs": [
        {
          "output_type": "stream",
          "name": "stdout",
          "text": [
            "(4096, 128, 128, 3)\n"
          ]
        }
      ]
    },
    {
      "cell_type": "code",
      "source": [
        "rgb_list_test = []\n",
        "#convert X_test data to 128x128 rgb values\n",
        "for i in range(len(X_test)):\n",
        "    rgb = to_rgb(X_test[i])\n",
        "    rgb_list_test.append(rgb)\n",
        "    #print(rgb.shape)\n",
        "    \n",
        "rgb_arr_test = np.stack([rgb_list_test],axis=4)\n",
        "rgb_arr_to_3d_test = np.squeeze(rgb_arr_test, axis=4)\n",
        "print(rgb_arr_to_3d_test.shape)"
      ],
      "metadata": {
        "colab": {
          "base_uri": "https://localhost:8080/"
        },
        "id": "kaJPlyErWLjy",
        "outputId": "95dd83ae-d158-4ae8-d9e5-1f8961ce12bb"
      },
      "execution_count": null,
      "outputs": [
        {
          "output_type": "stream",
          "name": "stdout",
          "text": [
            "(1025, 128, 128, 3)\n"
          ]
        }
      ]
    },
    {
      "cell_type": "code",
      "source": [
        "#set up the environment\n",
        "import keras\n",
        "from keras.models import Sequential, Model\n",
        "from keras.layers import Flatten, Dense, Input, Dropout\n",
        "from keras.applications.vgg16 import VGG16, preprocess_input\n",
        "from keras.preprocessing import image\n",
        "\n",
        "vgg16 = VGG16(weights = 'imagenet', input_shape = (128, 128, 3), include_top = False)\n",
        "vgg16.summary()\n",
        "\n",
        "vgg16.trainable = False\n",
        "final_model = Sequential()\n",
        "final_model.add(vgg16)\n",
        "final_model.add(Dropout(0.2))\n",
        "final_model.add(Flatten(name='flatten'))\n",
        "final_model.add(Dense(2,activation = 'softmax', name = 'predictions'))\n",
        "final_model.compile(loss='sparse_categorical_crossentropy', optimizer = 'adam', metrics = ['accuracy'])\n",
        "\n",
        "final_model.fit(rgb_arr_to_3d, np.array(y_train).reshape(-1,1), batch_size = 7, epochs = 10, verbose = 1)\n",
        "final_model.fit(rgb_arr_to_3d_test, np.array(y_test).reshape(-1,1), batch_size = 7, epochs = 10, verbose = 1)"
      ],
      "metadata": {
        "colab": {
          "base_uri": "https://localhost:8080/"
        },
        "id": "YsHnJFM2WMBS",
        "outputId": "d9fa68c0-73d1-4aad-f9bc-49b1b79c9294"
      },
      "execution_count": null,
      "outputs": [
        {
          "output_type": "stream",
          "name": "stdout",
          "text": [
            "Model: \"vgg16\"\n",
            "_________________________________________________________________\n",
            " Layer (type)                Output Shape              Param #   \n",
            "=================================================================\n",
            " input_7 (InputLayer)        [(None, 128, 128, 3)]     0         \n",
            "                                                                 \n",
            " block1_conv1 (Conv2D)       (None, 128, 128, 64)      1792      \n",
            "                                                                 \n",
            " block1_conv2 (Conv2D)       (None, 128, 128, 64)      36928     \n",
            "                                                                 \n",
            " block1_pool (MaxPooling2D)  (None, 64, 64, 64)        0         \n",
            "                                                                 \n",
            " block2_conv1 (Conv2D)       (None, 64, 64, 128)       73856     \n",
            "                                                                 \n",
            " block2_conv2 (Conv2D)       (None, 64, 64, 128)       147584    \n",
            "                                                                 \n",
            " block2_pool (MaxPooling2D)  (None, 32, 32, 128)       0         \n",
            "                                                                 \n",
            " block3_conv1 (Conv2D)       (None, 32, 32, 256)       295168    \n",
            "                                                                 \n",
            " block3_conv2 (Conv2D)       (None, 32, 32, 256)       590080    \n",
            "                                                                 \n",
            " block3_conv3 (Conv2D)       (None, 32, 32, 256)       590080    \n",
            "                                                                 \n",
            " block3_pool (MaxPooling2D)  (None, 16, 16, 256)       0         \n",
            "                                                                 \n",
            " block4_conv1 (Conv2D)       (None, 16, 16, 512)       1180160   \n",
            "                                                                 \n",
            " block4_conv2 (Conv2D)       (None, 16, 16, 512)       2359808   \n",
            "                                                                 \n",
            " block4_conv3 (Conv2D)       (None, 16, 16, 512)       2359808   \n",
            "                                                                 \n",
            " block4_pool (MaxPooling2D)  (None, 8, 8, 512)         0         \n",
            "                                                                 \n",
            " block5_conv1 (Conv2D)       (None, 8, 8, 512)         2359808   \n",
            "                                                                 \n",
            " block5_conv2 (Conv2D)       (None, 8, 8, 512)         2359808   \n",
            "                                                                 \n",
            " block5_conv3 (Conv2D)       (None, 8, 8, 512)         2359808   \n",
            "                                                                 \n",
            " block5_pool (MaxPooling2D)  (None, 4, 4, 512)         0         \n",
            "                                                                 \n",
            "=================================================================\n",
            "Total params: 14,714,688\n",
            "Trainable params: 14,714,688\n",
            "Non-trainable params: 0\n",
            "_________________________________________________________________\n",
            "Epoch 1/10\n",
            "586/586 [==============================] - 10s 17ms/step - loss: 0.7833 - accuracy: 0.5066\n",
            "Epoch 2/10\n",
            "586/586 [==============================] - 10s 17ms/step - loss: 0.7858 - accuracy: 0.4949\n",
            "Epoch 3/10\n",
            "586/586 [==============================] - 10s 17ms/step - loss: 0.7748 - accuracy: 0.5088\n",
            "Epoch 4/10\n",
            "586/586 [==============================] - 10s 17ms/step - loss: 0.7724 - accuracy: 0.5132\n",
            "Epoch 5/10\n",
            "586/586 [==============================] - 10s 17ms/step - loss: 0.7800 - accuracy: 0.4937\n",
            "Epoch 6/10\n",
            "586/586 [==============================] - 10s 17ms/step - loss: 0.7647 - accuracy: 0.5012\n",
            "Epoch 7/10\n",
            "586/586 [==============================] - 10s 17ms/step - loss: 0.7698 - accuracy: 0.5054\n",
            "Epoch 8/10\n",
            "586/586 [==============================] - 10s 17ms/step - loss: 0.7779 - accuracy: 0.5000\n",
            "Epoch 9/10\n",
            "586/586 [==============================] - 10s 17ms/step - loss: 0.7758 - accuracy: 0.4976\n",
            "Epoch 10/10\n",
            "586/586 [==============================] - 10s 17ms/step - loss: 0.7906 - accuracy: 0.5095\n",
            "Epoch 1/10\n",
            "147/147 [==============================] - 3s 17ms/step - loss: 0.7452 - accuracy: 0.4771\n",
            "Epoch 2/10\n",
            "147/147 [==============================] - 3s 17ms/step - loss: 0.7631 - accuracy: 0.5278\n",
            "Epoch 3/10\n",
            "147/147 [==============================] - 2s 17ms/step - loss: 0.7694 - accuracy: 0.5141\n",
            "Epoch 4/10\n",
            "147/147 [==============================] - 2s 17ms/step - loss: 0.8064 - accuracy: 0.4878\n",
            "Epoch 5/10\n",
            "147/147 [==============================] - 2s 17ms/step - loss: 0.7579 - accuracy: 0.4878\n",
            "Epoch 6/10\n",
            "147/147 [==============================] - 2s 17ms/step - loss: 0.7705 - accuracy: 0.5044\n",
            "Epoch 7/10\n",
            "147/147 [==============================] - 3s 17ms/step - loss: 0.7706 - accuracy: 0.4732\n",
            "Epoch 8/10\n",
            "147/147 [==============================] - 2s 17ms/step - loss: 0.7755 - accuracy: 0.4741\n",
            "Epoch 9/10\n",
            "147/147 [==============================] - 3s 17ms/step - loss: 0.8240 - accuracy: 0.4663\n",
            "Epoch 10/10\n",
            "147/147 [==============================] - 3s 17ms/step - loss: 0.8102 - accuracy: 0.4917\n"
          ]
        },
        {
          "output_type": "execute_result",
          "data": {
            "text/plain": [
              "<keras.callbacks.History at 0x7efe819b7c40>"
            ]
          },
          "metadata": {},
          "execution_count": 25
        }
      ]
    },
    {
      "cell_type": "code",
      "source": [
        " final_model.evaluate(rgb_arr_to_3d_test, np.array(y_test).reshape(-1,1))"
      ],
      "metadata": {
        "colab": {
          "base_uri": "https://localhost:8080/"
        },
        "id": "jX56oltRWMeS",
        "outputId": "1ba2a4fc-f20a-484a-de61-a4c76105136c"
      },
      "execution_count": null,
      "outputs": [
        {
          "output_type": "stream",
          "name": "stdout",
          "text": [
            "33/33 [==============================] - 2s 48ms/step - loss: 0.7850 - accuracy: 0.4995\n"
          ]
        },
        {
          "output_type": "execute_result",
          "data": {
            "text/plain": [
              "[0.7850306034088135, 0.4995121955871582]"
            ]
          },
          "metadata": {},
          "execution_count": 26
        }
      ]
    },
    {
      "cell_type": "code",
      "source": [],
      "metadata": {
        "id": "aYOhhHRLWQAm"
      },
      "execution_count": null,
      "outputs": []
    },
    {
      "cell_type": "code",
      "source": [],
      "metadata": {
        "id": "eBVICAccWRhW"
      },
      "execution_count": null,
      "outputs": []
    },
    {
      "cell_type": "code",
      "source": [],
      "metadata": {
        "id": "cMg2xXeIWWYi"
      },
      "execution_count": null,
      "outputs": []
    },
    {
      "cell_type": "code",
      "source": [],
      "metadata": {
        "id": "ZHZM8TdwXiZ8"
      },
      "execution_count": null,
      "outputs": []
    }
  ]
}